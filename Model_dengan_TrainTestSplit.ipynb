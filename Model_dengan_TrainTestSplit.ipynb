{
  "nbformat": 4,
  "nbformat_minor": 0,
  "metadata": {
    "colab": {
      "provenance": []
    },
    "kernelspec": {
      "name": "python3",
      "display_name": "Python 3"
    },
    "language_info": {
      "name": "python"
    }
  },
  "cells": [
    {
      "cell_type": "markdown",
      "source": [
        "# **Import Library**"
      ],
      "metadata": {
        "id": "0-pX06FeGmEY"
      }
    },
    {
      "cell_type": "code",
      "execution_count": null,
      "metadata": {
        "id": "dJG9cYqdYnSC",
        "colab": {
          "base_uri": "https://localhost:8080/"
        },
        "outputId": "9425d17e-f5b3-4085-c952-7f077ee36fc1"
      },
      "outputs": [
        {
          "output_type": "stream",
          "name": "stderr",
          "text": [
            "[nltk_data] Downloading package stopwords to /root/nltk_data...\n",
            "[nltk_data]   Package stopwords is already up-to-date!\n"
          ]
        }
      ],
      "source": [
        "import pandas as pd\n",
        "import numpy as np\n",
        "import re\n",
        "import matplotlib.pyplot as plt\n",
        "import seaborn as sns\n",
        "from sklearn.preprocessing import LabelEncoder, MinMaxScaler\n",
        "from sklearn.model_selection import train_test_split\n",
        "from sklearn.feature_extraction.text import TfidfVectorizer\n",
        "from sklearn.metrics.pairwise import cosine_similarity\n",
        "from tensorflow.keras.models import Sequential\n",
        "from tensorflow.keras.layers import Dense, Dropout, Input\n",
        "from tensorflow.keras.optimizers import Adam\n",
        "import nltk\n",
        "nltk.download('stopwords')\n",
        "from nltk.corpus import stopwords\n",
        "stopwords_indonesia = stopwords.words('indonesian')"
      ]
    },
    {
      "cell_type": "markdown",
      "source": [
        "# **Data Understanding**"
      ],
      "metadata": {
        "id": "MfiHxRM2GrBE"
      }
    },
    {
      "cell_type": "code",
      "source": [
        "file_path = \"https://raw.githubusercontent.com/Travu-Team/travu-machine-learning/refs/heads/main/data/wisata_indonesia_final.csv\"\n",
        "df = pd.read_csv(file_path, encoding='ISO-8859-1')"
      ],
      "metadata": {
        "id": "vXjn9cw1YtvN"
      },
      "execution_count": null,
      "outputs": []
    },
    {
      "cell_type": "code",
      "source": [
        "df.head()"
      ],
      "metadata": {
        "colab": {
          "base_uri": "https://localhost:8080/",
          "height": 573
        },
        "id": "Z9XHhc2oBQYa",
        "outputId": "27f1ed9b-7b44-4f9d-a555-2ad49293a8ad"
      },
      "execution_count": null,
      "outputs": [
        {
          "output_type": "execute_result",
          "data": {
            "text/plain": [
              "     kategori                nama_wisata  latitude   longitude  \\\n",
              "0  air terjun     Air Terjun Aling-Aling -8.176792  115.106284   \n",
              "1  air terjun     Air Terjun Bantimurung -5.016520  119.685520   \n",
              "2  air terjun  Air Terjun Benang Kelambu -8.532770  116.337011   \n",
              "3  air terjun   Air Terjun Benang Stokel -8.533036  116.341379   \n",
              "4  air terjun        Air Terjun Bidadari -2.928361  107.839043   \n",
              "\n",
              "                                              alamat  \\\n",
              "0  Air Terjun Aling-Aling, Panji Anom, Buleleng, ...   \n",
              "1  Air Terjun Bantimurung, Jalan Poros Bantimurun...   \n",
              "2  Air Terjun Benang Kelambu, Pemotoh, Lombok Ten...   \n",
              "3  Air Terjun Benang Stokel, Pemotoh, Lombok Teng...   \n",
              "4  Air Terjun Bidadari, Nyuruk, Belitung Timur, K...   \n",
              "\n",
              "                    provinsi  kota_kabupaten  \\\n",
              "0                       Bali        Buleleng   \n",
              "1           Sulawesi Selatan        Sulawesi   \n",
              "2        Nusa Tenggara Barat   Lombok Tengah   \n",
              "3        Nusa Tenggara Barat   Lombok Tengah   \n",
              "4  Kepulauan Bangka Belitung  Belitung Timur   \n",
              "\n",
              "                                        nama_lengkap  \\\n",
              "0             Air Terjun Aling-Aling, Buleleng, Bali   \n",
              "1  Air Terjun Bantimurung, Sulawesi, Sulawesi Sel...   \n",
              "2  Air Terjun Benang Kelambu, Lombok Tengah, Nusa...   \n",
              "3  Air Terjun Benang Stokel, Lombok Tengah, Nusa ...   \n",
              "4  Air Terjun Bidadari, Belitung Timur, Kepulauan...   \n",
              "\n",
              "                                           deskripsi  \\\n",
              "0                          Deskripsi tidak ditemukan   \n",
              "1  Air Terjun Bantimurung adalah salah satu air t...   \n",
              "2                          Deskripsi tidak ditemukan   \n",
              "3                          Deskripsi tidak ditemukan   \n",
              "4  Berikut ini adalah daftar air terjun di Indone...   \n",
              "\n",
              "                                      path  \\\n",
              "0     gambar_wisata/Air_Terjun_Aling-Aling   \n",
              "1     gambar_wisata/Air_Terjun_Bantimurung   \n",
              "2  gambar_wisata/Air_Terjun_Benang_Kelambu   \n",
              "3   gambar_wisata/Air_Terjun_Benang_Stokel   \n",
              "4        gambar_wisata/Air_Terjun_Bidadari   \n",
              "\n",
              "                               path_gambar  \n",
              "0     gambar_wisata/Air_Terjun_Aling-Aling  \n",
              "1     gambar_wisata/Air_Terjun_Bantimurung  \n",
              "2  gambar_wisata/Air_Terjun_Benang_Kelambu  \n",
              "3   gambar_wisata/Air_Terjun_Benang_Stokel  \n",
              "4        gambar_wisata/Air_Terjun_Bidadari  "
            ],
            "text/html": [
              "\n",
              "  <div id=\"df-4d6e9518-6dcc-4529-ab2b-97f7d4ff0b07\" class=\"colab-df-container\">\n",
              "    <div>\n",
              "<style scoped>\n",
              "    .dataframe tbody tr th:only-of-type {\n",
              "        vertical-align: middle;\n",
              "    }\n",
              "\n",
              "    .dataframe tbody tr th {\n",
              "        vertical-align: top;\n",
              "    }\n",
              "\n",
              "    .dataframe thead th {\n",
              "        text-align: right;\n",
              "    }\n",
              "</style>\n",
              "<table border=\"1\" class=\"dataframe\">\n",
              "  <thead>\n",
              "    <tr style=\"text-align: right;\">\n",
              "      <th></th>\n",
              "      <th>kategori</th>\n",
              "      <th>nama_wisata</th>\n",
              "      <th>latitude</th>\n",
              "      <th>longitude</th>\n",
              "      <th>alamat</th>\n",
              "      <th>provinsi</th>\n",
              "      <th>kota_kabupaten</th>\n",
              "      <th>nama_lengkap</th>\n",
              "      <th>deskripsi</th>\n",
              "      <th>path</th>\n",
              "      <th>path_gambar</th>\n",
              "    </tr>\n",
              "  </thead>\n",
              "  <tbody>\n",
              "    <tr>\n",
              "      <th>0</th>\n",
              "      <td>air terjun</td>\n",
              "      <td>Air Terjun Aling-Aling</td>\n",
              "      <td>-8.176792</td>\n",
              "      <td>115.106284</td>\n",
              "      <td>Air Terjun Aling-Aling, Panji Anom, Buleleng, ...</td>\n",
              "      <td>Bali</td>\n",
              "      <td>Buleleng</td>\n",
              "      <td>Air Terjun Aling-Aling, Buleleng, Bali</td>\n",
              "      <td>Deskripsi tidak ditemukan</td>\n",
              "      <td>gambar_wisata/Air_Terjun_Aling-Aling</td>\n",
              "      <td>gambar_wisata/Air_Terjun_Aling-Aling</td>\n",
              "    </tr>\n",
              "    <tr>\n",
              "      <th>1</th>\n",
              "      <td>air terjun</td>\n",
              "      <td>Air Terjun Bantimurung</td>\n",
              "      <td>-5.016520</td>\n",
              "      <td>119.685520</td>\n",
              "      <td>Air Terjun Bantimurung, Jalan Poros Bantimurun...</td>\n",
              "      <td>Sulawesi Selatan</td>\n",
              "      <td>Sulawesi</td>\n",
              "      <td>Air Terjun Bantimurung, Sulawesi, Sulawesi Sel...</td>\n",
              "      <td>Air Terjun Bantimurung adalah salah satu air t...</td>\n",
              "      <td>gambar_wisata/Air_Terjun_Bantimurung</td>\n",
              "      <td>gambar_wisata/Air_Terjun_Bantimurung</td>\n",
              "    </tr>\n",
              "    <tr>\n",
              "      <th>2</th>\n",
              "      <td>air terjun</td>\n",
              "      <td>Air Terjun Benang Kelambu</td>\n",
              "      <td>-8.532770</td>\n",
              "      <td>116.337011</td>\n",
              "      <td>Air Terjun Benang Kelambu, Pemotoh, Lombok Ten...</td>\n",
              "      <td>Nusa Tenggara Barat</td>\n",
              "      <td>Lombok Tengah</td>\n",
              "      <td>Air Terjun Benang Kelambu, Lombok Tengah, Nusa...</td>\n",
              "      <td>Deskripsi tidak ditemukan</td>\n",
              "      <td>gambar_wisata/Air_Terjun_Benang_Kelambu</td>\n",
              "      <td>gambar_wisata/Air_Terjun_Benang_Kelambu</td>\n",
              "    </tr>\n",
              "    <tr>\n",
              "      <th>3</th>\n",
              "      <td>air terjun</td>\n",
              "      <td>Air Terjun Benang Stokel</td>\n",
              "      <td>-8.533036</td>\n",
              "      <td>116.341379</td>\n",
              "      <td>Air Terjun Benang Stokel, Pemotoh, Lombok Teng...</td>\n",
              "      <td>Nusa Tenggara Barat</td>\n",
              "      <td>Lombok Tengah</td>\n",
              "      <td>Air Terjun Benang Stokel, Lombok Tengah, Nusa ...</td>\n",
              "      <td>Deskripsi tidak ditemukan</td>\n",
              "      <td>gambar_wisata/Air_Terjun_Benang_Stokel</td>\n",
              "      <td>gambar_wisata/Air_Terjun_Benang_Stokel</td>\n",
              "    </tr>\n",
              "    <tr>\n",
              "      <th>4</th>\n",
              "      <td>air terjun</td>\n",
              "      <td>Air Terjun Bidadari</td>\n",
              "      <td>-2.928361</td>\n",
              "      <td>107.839043</td>\n",
              "      <td>Air Terjun Bidadari, Nyuruk, Belitung Timur, K...</td>\n",
              "      <td>Kepulauan Bangka Belitung</td>\n",
              "      <td>Belitung Timur</td>\n",
              "      <td>Air Terjun Bidadari, Belitung Timur, Kepulauan...</td>\n",
              "      <td>Berikut ini adalah daftar air terjun di Indone...</td>\n",
              "      <td>gambar_wisata/Air_Terjun_Bidadari</td>\n",
              "      <td>gambar_wisata/Air_Terjun_Bidadari</td>\n",
              "    </tr>\n",
              "  </tbody>\n",
              "</table>\n",
              "</div>\n",
              "    <div class=\"colab-df-buttons\">\n",
              "\n",
              "  <div class=\"colab-df-container\">\n",
              "    <button class=\"colab-df-convert\" onclick=\"convertToInteractive('df-4d6e9518-6dcc-4529-ab2b-97f7d4ff0b07')\"\n",
              "            title=\"Convert this dataframe to an interactive table.\"\n",
              "            style=\"display:none;\">\n",
              "\n",
              "  <svg xmlns=\"http://www.w3.org/2000/svg\" height=\"24px\" viewBox=\"0 -960 960 960\">\n",
              "    <path d=\"M120-120v-720h720v720H120Zm60-500h600v-160H180v160Zm220 220h160v-160H400v160Zm0 220h160v-160H400v160ZM180-400h160v-160H180v160Zm440 0h160v-160H620v160ZM180-180h160v-160H180v160Zm440 0h160v-160H620v160Z\"/>\n",
              "  </svg>\n",
              "    </button>\n",
              "\n",
              "  <style>\n",
              "    .colab-df-container {\n",
              "      display:flex;\n",
              "      gap: 12px;\n",
              "    }\n",
              "\n",
              "    .colab-df-convert {\n",
              "      background-color: #E8F0FE;\n",
              "      border: none;\n",
              "      border-radius: 50%;\n",
              "      cursor: pointer;\n",
              "      display: none;\n",
              "      fill: #1967D2;\n",
              "      height: 32px;\n",
              "      padding: 0 0 0 0;\n",
              "      width: 32px;\n",
              "    }\n",
              "\n",
              "    .colab-df-convert:hover {\n",
              "      background-color: #E2EBFA;\n",
              "      box-shadow: 0px 1px 2px rgba(60, 64, 67, 0.3), 0px 1px 3px 1px rgba(60, 64, 67, 0.15);\n",
              "      fill: #174EA6;\n",
              "    }\n",
              "\n",
              "    .colab-df-buttons div {\n",
              "      margin-bottom: 4px;\n",
              "    }\n",
              "\n",
              "    [theme=dark] .colab-df-convert {\n",
              "      background-color: #3B4455;\n",
              "      fill: #D2E3FC;\n",
              "    }\n",
              "\n",
              "    [theme=dark] .colab-df-convert:hover {\n",
              "      background-color: #434B5C;\n",
              "      box-shadow: 0px 1px 3px 1px rgba(0, 0, 0, 0.15);\n",
              "      filter: drop-shadow(0px 1px 2px rgba(0, 0, 0, 0.3));\n",
              "      fill: #FFFFFF;\n",
              "    }\n",
              "  </style>\n",
              "\n",
              "    <script>\n",
              "      const buttonEl =\n",
              "        document.querySelector('#df-4d6e9518-6dcc-4529-ab2b-97f7d4ff0b07 button.colab-df-convert');\n",
              "      buttonEl.style.display =\n",
              "        google.colab.kernel.accessAllowed ? 'block' : 'none';\n",
              "\n",
              "      async function convertToInteractive(key) {\n",
              "        const element = document.querySelector('#df-4d6e9518-6dcc-4529-ab2b-97f7d4ff0b07');\n",
              "        const dataTable =\n",
              "          await google.colab.kernel.invokeFunction('convertToInteractive',\n",
              "                                                    [key], {});\n",
              "        if (!dataTable) return;\n",
              "\n",
              "        const docLinkHtml = 'Like what you see? Visit the ' +\n",
              "          '<a target=\"_blank\" href=https://colab.research.google.com/notebooks/data_table.ipynb>data table notebook</a>'\n",
              "          + ' to learn more about interactive tables.';\n",
              "        element.innerHTML = '';\n",
              "        dataTable['output_type'] = 'display_data';\n",
              "        await google.colab.output.renderOutput(dataTable, element);\n",
              "        const docLink = document.createElement('div');\n",
              "        docLink.innerHTML = docLinkHtml;\n",
              "        element.appendChild(docLink);\n",
              "      }\n",
              "    </script>\n",
              "  </div>\n",
              "\n",
              "\n",
              "    <div id=\"df-6bee6807-af6b-40be-8515-36a9e722a003\">\n",
              "      <button class=\"colab-df-quickchart\" onclick=\"quickchart('df-6bee6807-af6b-40be-8515-36a9e722a003')\"\n",
              "                title=\"Suggest charts\"\n",
              "                style=\"display:none;\">\n",
              "\n",
              "<svg xmlns=\"http://www.w3.org/2000/svg\" height=\"24px\"viewBox=\"0 0 24 24\"\n",
              "     width=\"24px\">\n",
              "    <g>\n",
              "        <path d=\"M19 3H5c-1.1 0-2 .9-2 2v14c0 1.1.9 2 2 2h14c1.1 0 2-.9 2-2V5c0-1.1-.9-2-2-2zM9 17H7v-7h2v7zm4 0h-2V7h2v10zm4 0h-2v-4h2v4z\"/>\n",
              "    </g>\n",
              "</svg>\n",
              "      </button>\n",
              "\n",
              "<style>\n",
              "  .colab-df-quickchart {\n",
              "      --bg-color: #E8F0FE;\n",
              "      --fill-color: #1967D2;\n",
              "      --hover-bg-color: #E2EBFA;\n",
              "      --hover-fill-color: #174EA6;\n",
              "      --disabled-fill-color: #AAA;\n",
              "      --disabled-bg-color: #DDD;\n",
              "  }\n",
              "\n",
              "  [theme=dark] .colab-df-quickchart {\n",
              "      --bg-color: #3B4455;\n",
              "      --fill-color: #D2E3FC;\n",
              "      --hover-bg-color: #434B5C;\n",
              "      --hover-fill-color: #FFFFFF;\n",
              "      --disabled-bg-color: #3B4455;\n",
              "      --disabled-fill-color: #666;\n",
              "  }\n",
              "\n",
              "  .colab-df-quickchart {\n",
              "    background-color: var(--bg-color);\n",
              "    border: none;\n",
              "    border-radius: 50%;\n",
              "    cursor: pointer;\n",
              "    display: none;\n",
              "    fill: var(--fill-color);\n",
              "    height: 32px;\n",
              "    padding: 0;\n",
              "    width: 32px;\n",
              "  }\n",
              "\n",
              "  .colab-df-quickchart:hover {\n",
              "    background-color: var(--hover-bg-color);\n",
              "    box-shadow: 0 1px 2px rgba(60, 64, 67, 0.3), 0 1px 3px 1px rgba(60, 64, 67, 0.15);\n",
              "    fill: var(--button-hover-fill-color);\n",
              "  }\n",
              "\n",
              "  .colab-df-quickchart-complete:disabled,\n",
              "  .colab-df-quickchart-complete:disabled:hover {\n",
              "    background-color: var(--disabled-bg-color);\n",
              "    fill: var(--disabled-fill-color);\n",
              "    box-shadow: none;\n",
              "  }\n",
              "\n",
              "  .colab-df-spinner {\n",
              "    border: 2px solid var(--fill-color);\n",
              "    border-color: transparent;\n",
              "    border-bottom-color: var(--fill-color);\n",
              "    animation:\n",
              "      spin 1s steps(1) infinite;\n",
              "  }\n",
              "\n",
              "  @keyframes spin {\n",
              "    0% {\n",
              "      border-color: transparent;\n",
              "      border-bottom-color: var(--fill-color);\n",
              "      border-left-color: var(--fill-color);\n",
              "    }\n",
              "    20% {\n",
              "      border-color: transparent;\n",
              "      border-left-color: var(--fill-color);\n",
              "      border-top-color: var(--fill-color);\n",
              "    }\n",
              "    30% {\n",
              "      border-color: transparent;\n",
              "      border-left-color: var(--fill-color);\n",
              "      border-top-color: var(--fill-color);\n",
              "      border-right-color: var(--fill-color);\n",
              "    }\n",
              "    40% {\n",
              "      border-color: transparent;\n",
              "      border-right-color: var(--fill-color);\n",
              "      border-top-color: var(--fill-color);\n",
              "    }\n",
              "    60% {\n",
              "      border-color: transparent;\n",
              "      border-right-color: var(--fill-color);\n",
              "    }\n",
              "    80% {\n",
              "      border-color: transparent;\n",
              "      border-right-color: var(--fill-color);\n",
              "      border-bottom-color: var(--fill-color);\n",
              "    }\n",
              "    90% {\n",
              "      border-color: transparent;\n",
              "      border-bottom-color: var(--fill-color);\n",
              "    }\n",
              "  }\n",
              "</style>\n",
              "\n",
              "      <script>\n",
              "        async function quickchart(key) {\n",
              "          const quickchartButtonEl =\n",
              "            document.querySelector('#' + key + ' button');\n",
              "          quickchartButtonEl.disabled = true;  // To prevent multiple clicks.\n",
              "          quickchartButtonEl.classList.add('colab-df-spinner');\n",
              "          try {\n",
              "            const charts = await google.colab.kernel.invokeFunction(\n",
              "                'suggestCharts', [key], {});\n",
              "          } catch (error) {\n",
              "            console.error('Error during call to suggestCharts:', error);\n",
              "          }\n",
              "          quickchartButtonEl.classList.remove('colab-df-spinner');\n",
              "          quickchartButtonEl.classList.add('colab-df-quickchart-complete');\n",
              "        }\n",
              "        (() => {\n",
              "          let quickchartButtonEl =\n",
              "            document.querySelector('#df-6bee6807-af6b-40be-8515-36a9e722a003 button');\n",
              "          quickchartButtonEl.style.display =\n",
              "            google.colab.kernel.accessAllowed ? 'block' : 'none';\n",
              "        })();\n",
              "      </script>\n",
              "    </div>\n",
              "\n",
              "    </div>\n",
              "  </div>\n"
            ],
            "application/vnd.google.colaboratory.intrinsic+json": {
              "type": "dataframe",
              "variable_name": "df",
              "summary": "{\n  \"name\": \"df\",\n  \"rows\": 1025,\n  \"fields\": [\n    {\n      \"column\": \"kategori\",\n      \"properties\": {\n        \"dtype\": \"category\",\n        \"num_unique_values\": 29,\n        \"samples\": [\n          \"wisawa alam\",\n          \"wisata alam\",\n          \"rumah adat\"\n        ],\n        \"semantic_type\": \"\",\n        \"description\": \"\"\n      }\n    },\n    {\n      \"column\": \"nama_wisata\",\n      \"properties\": {\n        \"dtype\": \"string\",\n        \"num_unique_values\": 1025,\n        \"samples\": [\n          \"Pantai Sulamadaha\",\n          \"Museum Batik Pekalongan\",\n          \"Pantai Batu Bedaun\"\n        ],\n        \"semantic_type\": \"\",\n        \"description\": \"\"\n      }\n    },\n    {\n      \"column\": \"latitude\",\n      \"properties\": {\n        \"dtype\": \"number\",\n        \"std\": 3.3301622509946864,\n        \"min\": -10.8898977,\n        \"max\": 5.553631,\n        \"num_unique_values\": 937,\n        \"samples\": [\n          -6.2883341,\n          -8.0491348,\n          -8.4117272\n        ],\n        \"semantic_type\": \"\",\n        \"description\": \"\"\n      }\n    },\n    {\n      \"column\": \"longitude\",\n      \"properties\": {\n        \"dtype\": \"number\",\n        \"std\": 6.952516433364058,\n        \"min\": 95.3151652,\n        \"max\": 140.7692643,\n        \"num_unique_values\": 938,\n        \"samples\": [\n          111.7092032,\n          106.8129483,\n          104.7440276\n        ],\n        \"semantic_type\": \"\",\n        \"description\": \"\"\n      }\n    },\n    {\n      \"column\": \"alamat\",\n      \"properties\": {\n        \"dtype\": \"string\",\n        \"num_unique_values\": 939,\n        \"samples\": [\n          \"Paris Van Java, Jalan Karang Tinggal, Cipedes, Sukasari, Kota Bandung, Jawa Barat, Jawa, 40161, Indonesia\",\n          \"Alun-Alun Sidoarjo, Pucanganom, Sidoarjo, Jawa Timur, Jawa, Indonesia\",\n          \"Candi Mendut, Jalan Mayor Kusen, Ngrajek, Mendut, Magelang, Jawa Tengah, Jawa, 56511, Indonesia\"\n        ],\n        \"semantic_type\": \"\",\n        \"description\": \"\"\n      }\n    },\n    {\n      \"column\": \"provinsi\",\n      \"properties\": {\n        \"dtype\": \"category\",\n        \"num_unique_values\": 36,\n        \"samples\": [\n          \"Papua\",\n          \"Kalimantan Tengah\",\n          \"Kalimantan Timur\"\n        ],\n        \"semantic_type\": \"\",\n        \"description\": \"\"\n      }\n    },\n    {\n      \"column\": \"kota_kabupaten\",\n      \"properties\": {\n        \"dtype\": \"category\",\n        \"num_unique_values\": 254,\n        \"samples\": [\n          \"Kelurahan Cilacap Kecamatan Cilacap\",\n          \"Tasikmalaya\",\n          \"Badung\"\n        ],\n        \"semantic_type\": \"\",\n        \"description\": \"\"\n      }\n    },\n    {\n      \"column\": \"nama_lengkap\",\n      \"properties\": {\n        \"dtype\": \"string\",\n        \"num_unique_values\": 1025,\n        \"samples\": [\n          \"Pantai Sulamadaha, Ternate, Maluku Utara\",\n          \"Museum Batik Pekalongan, Pekalongan, Jawa Tengah\",\n          \"Pantai Batu Bedaun, Bangka, Kepulauan Bangka Belitung\"\n        ],\n        \"semantic_type\": \"\",\n        \"description\": \"\"\n      }\n    },\n    {\n      \"column\": \"deskripsi\",\n      \"properties\": {\n        \"dtype\": \"string\",\n        \"num_unique_values\": 520,\n        \"samples\": [\n          \"Museum Wayang adalah sebuah museum yang berlokasi di Jalan Pintu Besar Utara Nomor 27, Jakarta Barat.\\r\\n\\r\\n\\r\\n== Sejarah ==\\r\\n\\r\\nGedung yang tampak unik dan menarik ini telah beberapa kali mengalami perombakan.\",\n          \"Jawa adalah salah satu pulau di Indonesia yang terletak di Kepulauan Sunda Besar dan merupakan pulau terluas ke-13 di dunia. Jumlah penduduk di Pulau Jawa sekitar 150 juta.\",\n          \"Air Terjun Moramo terletak di kawasan Hutan Suaka Alam Tanjung Peropa, Sulawesi Tenggara dan merupakan air terjun bertingkat (cascade) yang indah dengan ketinggian sekitar 100 meter. Dari ketinggian tersebut, air mengalir melewati tujuh tingkatan utama.\"\n        ],\n        \"semantic_type\": \"\",\n        \"description\": \"\"\n      }\n    },\n    {\n      \"column\": \"path\",\n      \"properties\": {\n        \"dtype\": \"string\",\n        \"num_unique_values\": 1025,\n        \"samples\": [\n          \"gambar_wisata/Pantai_Sulamadaha\",\n          \"gambar_wisata/Museum_Batik_Pekalongan\",\n          \"gambar_wisata/Pantai_Batu_Bedaun\"\n        ],\n        \"semantic_type\": \"\",\n        \"description\": \"\"\n      }\n    },\n    {\n      \"column\": \"path_gambar\",\n      \"properties\": {\n        \"dtype\": \"string\",\n        \"num_unique_values\": 1025,\n        \"samples\": [\n          \"gambar_wisata/Pantai_Sulamadaha\",\n          \"gambar_wisata/Museum_Batik_Pekalongan\",\n          \"gambar_wisata/Pantai_Batu_Bedaun\"\n        ],\n        \"semantic_type\": \"\",\n        \"description\": \"\"\n      }\n    }\n  ]\n}"
            }
          },
          "metadata": {},
          "execution_count": 196
        }
      ]
    },
    {
      "cell_type": "code",
      "source": [
        "df.info()"
      ],
      "metadata": {
        "colab": {
          "base_uri": "https://localhost:8080/"
        },
        "id": "X_UJX9HbBRw-",
        "outputId": "2a76293c-831d-4284-e853-74401fedde7c"
      },
      "execution_count": null,
      "outputs": [
        {
          "output_type": "stream",
          "name": "stdout",
          "text": [
            "<class 'pandas.core.frame.DataFrame'>\n",
            "RangeIndex: 1025 entries, 0 to 1024\n",
            "Data columns (total 11 columns):\n",
            " #   Column          Non-Null Count  Dtype  \n",
            "---  ------          --------------  -----  \n",
            " 0   kategori        1025 non-null   object \n",
            " 1   nama_wisata     1025 non-null   object \n",
            " 2   latitude        1025 non-null   float64\n",
            " 3   longitude       1025 non-null   float64\n",
            " 4   alamat          1025 non-null   object \n",
            " 5   provinsi        935 non-null    object \n",
            " 6   kota_kabupaten  1007 non-null   object \n",
            " 7   nama_lengkap    1025 non-null   object \n",
            " 8   deskripsi       1025 non-null   object \n",
            " 9   path            1025 non-null   object \n",
            " 10  path_gambar     1025 non-null   object \n",
            "dtypes: float64(2), object(9)\n",
            "memory usage: 88.2+ KB\n"
          ]
        }
      ]
    },
    {
      "cell_type": "code",
      "source": [
        "df.describe()"
      ],
      "metadata": {
        "colab": {
          "base_uri": "https://localhost:8080/",
          "height": 300
        },
        "id": "jLYIHyFhBTb9",
        "outputId": "f40c45f3-92d7-4525-97b8-2d585d228104"
      },
      "execution_count": null,
      "outputs": [
        {
          "output_type": "execute_result",
          "data": {
            "text/plain": [
              "          latitude    longitude\n",
              "count  1025.000000  1025.000000\n",
              "mean     -5.590934   112.866129\n",
              "std       3.330162     6.952516\n",
              "min     -10.889898    95.315165\n",
              "25%      -7.901259   107.620323\n",
              "50%      -6.889073   111.709203\n",
              "75%      -3.812014   116.108254\n",
              "max       5.553631   140.769264"
            ],
            "text/html": [
              "\n",
              "  <div id=\"df-42e3d7ee-2f3b-4da5-a175-20d8ff2029f5\" class=\"colab-df-container\">\n",
              "    <div>\n",
              "<style scoped>\n",
              "    .dataframe tbody tr th:only-of-type {\n",
              "        vertical-align: middle;\n",
              "    }\n",
              "\n",
              "    .dataframe tbody tr th {\n",
              "        vertical-align: top;\n",
              "    }\n",
              "\n",
              "    .dataframe thead th {\n",
              "        text-align: right;\n",
              "    }\n",
              "</style>\n",
              "<table border=\"1\" class=\"dataframe\">\n",
              "  <thead>\n",
              "    <tr style=\"text-align: right;\">\n",
              "      <th></th>\n",
              "      <th>latitude</th>\n",
              "      <th>longitude</th>\n",
              "    </tr>\n",
              "  </thead>\n",
              "  <tbody>\n",
              "    <tr>\n",
              "      <th>count</th>\n",
              "      <td>1025.000000</td>\n",
              "      <td>1025.000000</td>\n",
              "    </tr>\n",
              "    <tr>\n",
              "      <th>mean</th>\n",
              "      <td>-5.590934</td>\n",
              "      <td>112.866129</td>\n",
              "    </tr>\n",
              "    <tr>\n",
              "      <th>std</th>\n",
              "      <td>3.330162</td>\n",
              "      <td>6.952516</td>\n",
              "    </tr>\n",
              "    <tr>\n",
              "      <th>min</th>\n",
              "      <td>-10.889898</td>\n",
              "      <td>95.315165</td>\n",
              "    </tr>\n",
              "    <tr>\n",
              "      <th>25%</th>\n",
              "      <td>-7.901259</td>\n",
              "      <td>107.620323</td>\n",
              "    </tr>\n",
              "    <tr>\n",
              "      <th>50%</th>\n",
              "      <td>-6.889073</td>\n",
              "      <td>111.709203</td>\n",
              "    </tr>\n",
              "    <tr>\n",
              "      <th>75%</th>\n",
              "      <td>-3.812014</td>\n",
              "      <td>116.108254</td>\n",
              "    </tr>\n",
              "    <tr>\n",
              "      <th>max</th>\n",
              "      <td>5.553631</td>\n",
              "      <td>140.769264</td>\n",
              "    </tr>\n",
              "  </tbody>\n",
              "</table>\n",
              "</div>\n",
              "    <div class=\"colab-df-buttons\">\n",
              "\n",
              "  <div class=\"colab-df-container\">\n",
              "    <button class=\"colab-df-convert\" onclick=\"convertToInteractive('df-42e3d7ee-2f3b-4da5-a175-20d8ff2029f5')\"\n",
              "            title=\"Convert this dataframe to an interactive table.\"\n",
              "            style=\"display:none;\">\n",
              "\n",
              "  <svg xmlns=\"http://www.w3.org/2000/svg\" height=\"24px\" viewBox=\"0 -960 960 960\">\n",
              "    <path d=\"M120-120v-720h720v720H120Zm60-500h600v-160H180v160Zm220 220h160v-160H400v160Zm0 220h160v-160H400v160ZM180-400h160v-160H180v160Zm440 0h160v-160H620v160ZM180-180h160v-160H180v160Zm440 0h160v-160H620v160Z\"/>\n",
              "  </svg>\n",
              "    </button>\n",
              "\n",
              "  <style>\n",
              "    .colab-df-container {\n",
              "      display:flex;\n",
              "      gap: 12px;\n",
              "    }\n",
              "\n",
              "    .colab-df-convert {\n",
              "      background-color: #E8F0FE;\n",
              "      border: none;\n",
              "      border-radius: 50%;\n",
              "      cursor: pointer;\n",
              "      display: none;\n",
              "      fill: #1967D2;\n",
              "      height: 32px;\n",
              "      padding: 0 0 0 0;\n",
              "      width: 32px;\n",
              "    }\n",
              "\n",
              "    .colab-df-convert:hover {\n",
              "      background-color: #E2EBFA;\n",
              "      box-shadow: 0px 1px 2px rgba(60, 64, 67, 0.3), 0px 1px 3px 1px rgba(60, 64, 67, 0.15);\n",
              "      fill: #174EA6;\n",
              "    }\n",
              "\n",
              "    .colab-df-buttons div {\n",
              "      margin-bottom: 4px;\n",
              "    }\n",
              "\n",
              "    [theme=dark] .colab-df-convert {\n",
              "      background-color: #3B4455;\n",
              "      fill: #D2E3FC;\n",
              "    }\n",
              "\n",
              "    [theme=dark] .colab-df-convert:hover {\n",
              "      background-color: #434B5C;\n",
              "      box-shadow: 0px 1px 3px 1px rgba(0, 0, 0, 0.15);\n",
              "      filter: drop-shadow(0px 1px 2px rgba(0, 0, 0, 0.3));\n",
              "      fill: #FFFFFF;\n",
              "    }\n",
              "  </style>\n",
              "\n",
              "    <script>\n",
              "      const buttonEl =\n",
              "        document.querySelector('#df-42e3d7ee-2f3b-4da5-a175-20d8ff2029f5 button.colab-df-convert');\n",
              "      buttonEl.style.display =\n",
              "        google.colab.kernel.accessAllowed ? 'block' : 'none';\n",
              "\n",
              "      async function convertToInteractive(key) {\n",
              "        const element = document.querySelector('#df-42e3d7ee-2f3b-4da5-a175-20d8ff2029f5');\n",
              "        const dataTable =\n",
              "          await google.colab.kernel.invokeFunction('convertToInteractive',\n",
              "                                                    [key], {});\n",
              "        if (!dataTable) return;\n",
              "\n",
              "        const docLinkHtml = 'Like what you see? Visit the ' +\n",
              "          '<a target=\"_blank\" href=https://colab.research.google.com/notebooks/data_table.ipynb>data table notebook</a>'\n",
              "          + ' to learn more about interactive tables.';\n",
              "        element.innerHTML = '';\n",
              "        dataTable['output_type'] = 'display_data';\n",
              "        await google.colab.output.renderOutput(dataTable, element);\n",
              "        const docLink = document.createElement('div');\n",
              "        docLink.innerHTML = docLinkHtml;\n",
              "        element.appendChild(docLink);\n",
              "      }\n",
              "    </script>\n",
              "  </div>\n",
              "\n",
              "\n",
              "    <div id=\"df-0bc6b3f3-eedd-4531-aef2-e07134d19714\">\n",
              "      <button class=\"colab-df-quickchart\" onclick=\"quickchart('df-0bc6b3f3-eedd-4531-aef2-e07134d19714')\"\n",
              "                title=\"Suggest charts\"\n",
              "                style=\"display:none;\">\n",
              "\n",
              "<svg xmlns=\"http://www.w3.org/2000/svg\" height=\"24px\"viewBox=\"0 0 24 24\"\n",
              "     width=\"24px\">\n",
              "    <g>\n",
              "        <path d=\"M19 3H5c-1.1 0-2 .9-2 2v14c0 1.1.9 2 2 2h14c1.1 0 2-.9 2-2V5c0-1.1-.9-2-2-2zM9 17H7v-7h2v7zm4 0h-2V7h2v10zm4 0h-2v-4h2v4z\"/>\n",
              "    </g>\n",
              "</svg>\n",
              "      </button>\n",
              "\n",
              "<style>\n",
              "  .colab-df-quickchart {\n",
              "      --bg-color: #E8F0FE;\n",
              "      --fill-color: #1967D2;\n",
              "      --hover-bg-color: #E2EBFA;\n",
              "      --hover-fill-color: #174EA6;\n",
              "      --disabled-fill-color: #AAA;\n",
              "      --disabled-bg-color: #DDD;\n",
              "  }\n",
              "\n",
              "  [theme=dark] .colab-df-quickchart {\n",
              "      --bg-color: #3B4455;\n",
              "      --fill-color: #D2E3FC;\n",
              "      --hover-bg-color: #434B5C;\n",
              "      --hover-fill-color: #FFFFFF;\n",
              "      --disabled-bg-color: #3B4455;\n",
              "      --disabled-fill-color: #666;\n",
              "  }\n",
              "\n",
              "  .colab-df-quickchart {\n",
              "    background-color: var(--bg-color);\n",
              "    border: none;\n",
              "    border-radius: 50%;\n",
              "    cursor: pointer;\n",
              "    display: none;\n",
              "    fill: var(--fill-color);\n",
              "    height: 32px;\n",
              "    padding: 0;\n",
              "    width: 32px;\n",
              "  }\n",
              "\n",
              "  .colab-df-quickchart:hover {\n",
              "    background-color: var(--hover-bg-color);\n",
              "    box-shadow: 0 1px 2px rgba(60, 64, 67, 0.3), 0 1px 3px 1px rgba(60, 64, 67, 0.15);\n",
              "    fill: var(--button-hover-fill-color);\n",
              "  }\n",
              "\n",
              "  .colab-df-quickchart-complete:disabled,\n",
              "  .colab-df-quickchart-complete:disabled:hover {\n",
              "    background-color: var(--disabled-bg-color);\n",
              "    fill: var(--disabled-fill-color);\n",
              "    box-shadow: none;\n",
              "  }\n",
              "\n",
              "  .colab-df-spinner {\n",
              "    border: 2px solid var(--fill-color);\n",
              "    border-color: transparent;\n",
              "    border-bottom-color: var(--fill-color);\n",
              "    animation:\n",
              "      spin 1s steps(1) infinite;\n",
              "  }\n",
              "\n",
              "  @keyframes spin {\n",
              "    0% {\n",
              "      border-color: transparent;\n",
              "      border-bottom-color: var(--fill-color);\n",
              "      border-left-color: var(--fill-color);\n",
              "    }\n",
              "    20% {\n",
              "      border-color: transparent;\n",
              "      border-left-color: var(--fill-color);\n",
              "      border-top-color: var(--fill-color);\n",
              "    }\n",
              "    30% {\n",
              "      border-color: transparent;\n",
              "      border-left-color: var(--fill-color);\n",
              "      border-top-color: var(--fill-color);\n",
              "      border-right-color: var(--fill-color);\n",
              "    }\n",
              "    40% {\n",
              "      border-color: transparent;\n",
              "      border-right-color: var(--fill-color);\n",
              "      border-top-color: var(--fill-color);\n",
              "    }\n",
              "    60% {\n",
              "      border-color: transparent;\n",
              "      border-right-color: var(--fill-color);\n",
              "    }\n",
              "    80% {\n",
              "      border-color: transparent;\n",
              "      border-right-color: var(--fill-color);\n",
              "      border-bottom-color: var(--fill-color);\n",
              "    }\n",
              "    90% {\n",
              "      border-color: transparent;\n",
              "      border-bottom-color: var(--fill-color);\n",
              "    }\n",
              "  }\n",
              "</style>\n",
              "\n",
              "      <script>\n",
              "        async function quickchart(key) {\n",
              "          const quickchartButtonEl =\n",
              "            document.querySelector('#' + key + ' button');\n",
              "          quickchartButtonEl.disabled = true;  // To prevent multiple clicks.\n",
              "          quickchartButtonEl.classList.add('colab-df-spinner');\n",
              "          try {\n",
              "            const charts = await google.colab.kernel.invokeFunction(\n",
              "                'suggestCharts', [key], {});\n",
              "          } catch (error) {\n",
              "            console.error('Error during call to suggestCharts:', error);\n",
              "          }\n",
              "          quickchartButtonEl.classList.remove('colab-df-spinner');\n",
              "          quickchartButtonEl.classList.add('colab-df-quickchart-complete');\n",
              "        }\n",
              "        (() => {\n",
              "          let quickchartButtonEl =\n",
              "            document.querySelector('#df-0bc6b3f3-eedd-4531-aef2-e07134d19714 button');\n",
              "          quickchartButtonEl.style.display =\n",
              "            google.colab.kernel.accessAllowed ? 'block' : 'none';\n",
              "        })();\n",
              "      </script>\n",
              "    </div>\n",
              "\n",
              "    </div>\n",
              "  </div>\n"
            ],
            "application/vnd.google.colaboratory.intrinsic+json": {
              "type": "dataframe",
              "summary": "{\n  \"name\": \"df\",\n  \"rows\": 8,\n  \"fields\": [\n    {\n      \"column\": \"latitude\",\n      \"properties\": {\n        \"dtype\": \"number\",\n        \"std\": 363.7583319181974,\n        \"min\": -10.8898977,\n        \"max\": 1025.0,\n        \"num_unique_values\": 8,\n        \"samples\": [\n          -5.5909337742439025,\n          -6.8890732,\n          1025.0\n        ],\n        \"semantic_type\": \"\",\n        \"description\": \"\"\n      }\n    },\n    {\n      \"column\": \"longitude\",\n      \"properties\": {\n        \"dtype\": \"number\",\n        \"std\": 329.85430379927675,\n        \"min\": 6.952516433364058,\n        \"max\": 1025.0,\n        \"num_unique_values\": 8,\n        \"samples\": [\n          112.86612948302438,\n          111.7092032,\n          1025.0\n        ],\n        \"semantic_type\": \"\",\n        \"description\": \"\"\n      }\n    }\n  ]\n}"
            }
          },
          "metadata": {},
          "execution_count": 198
        }
      ]
    },
    {
      "cell_type": "markdown",
      "source": [
        "# **Eda**"
      ],
      "metadata": {
        "id": "BbbUfjPHG3Qu"
      }
    },
    {
      "cell_type": "code",
      "source": [
        "df['provinsi'].value_counts()\n",
        "df['kategori'].value_counts()\n",
        "df['kota_kabupaten'].value_counts().head()\n",
        "df['nama_wisata'].value_counts()"
      ],
      "metadata": {
        "id": "MJt5KreoG5jE",
        "colab": {
          "base_uri": "https://localhost:8080/",
          "height": 491
        },
        "outputId": "f529a8a9-4c72-4cdf-cb24-33849997d1c3"
      },
      "execution_count": null,
      "outputs": [
        {
          "output_type": "execute_result",
          "data": {
            "text/plain": [
              "nama_wisata\n",
              "Sukawati Art Market          1\n",
              "Telaga Pengilon              1\n",
              "Tebing Keraton               1\n",
              "Tebing Breksi                1\n",
              "Watu Goyang Bantul           1\n",
              "                            ..\n",
              "Air Terjun Coban Rondo       1\n",
              "Air Terjun Bidadari          1\n",
              "Air Terjun Benang Stokel     1\n",
              "Air Terjun Benang Kelambu    1\n",
              "Air Terjun Bantimurung       1\n",
              "Name: count, Length: 1025, dtype: int64"
            ],
            "text/html": [
              "<div>\n",
              "<style scoped>\n",
              "    .dataframe tbody tr th:only-of-type {\n",
              "        vertical-align: middle;\n",
              "    }\n",
              "\n",
              "    .dataframe tbody tr th {\n",
              "        vertical-align: top;\n",
              "    }\n",
              "\n",
              "    .dataframe thead th {\n",
              "        text-align: right;\n",
              "    }\n",
              "</style>\n",
              "<table border=\"1\" class=\"dataframe\">\n",
              "  <thead>\n",
              "    <tr style=\"text-align: right;\">\n",
              "      <th></th>\n",
              "      <th>count</th>\n",
              "    </tr>\n",
              "    <tr>\n",
              "      <th>nama_wisata</th>\n",
              "      <th></th>\n",
              "    </tr>\n",
              "  </thead>\n",
              "  <tbody>\n",
              "    <tr>\n",
              "      <th>Sukawati Art Market</th>\n",
              "      <td>1</td>\n",
              "    </tr>\n",
              "    <tr>\n",
              "      <th>Telaga Pengilon</th>\n",
              "      <td>1</td>\n",
              "    </tr>\n",
              "    <tr>\n",
              "      <th>Tebing Keraton</th>\n",
              "      <td>1</td>\n",
              "    </tr>\n",
              "    <tr>\n",
              "      <th>Tebing Breksi</th>\n",
              "      <td>1</td>\n",
              "    </tr>\n",
              "    <tr>\n",
              "      <th>Watu Goyang Bantul</th>\n",
              "      <td>1</td>\n",
              "    </tr>\n",
              "    <tr>\n",
              "      <th>...</th>\n",
              "      <td>...</td>\n",
              "    </tr>\n",
              "    <tr>\n",
              "      <th>Air Terjun Coban Rondo</th>\n",
              "      <td>1</td>\n",
              "    </tr>\n",
              "    <tr>\n",
              "      <th>Air Terjun Bidadari</th>\n",
              "      <td>1</td>\n",
              "    </tr>\n",
              "    <tr>\n",
              "      <th>Air Terjun Benang Stokel</th>\n",
              "      <td>1</td>\n",
              "    </tr>\n",
              "    <tr>\n",
              "      <th>Air Terjun Benang Kelambu</th>\n",
              "      <td>1</td>\n",
              "    </tr>\n",
              "    <tr>\n",
              "      <th>Air Terjun Bantimurung</th>\n",
              "      <td>1</td>\n",
              "    </tr>\n",
              "  </tbody>\n",
              "</table>\n",
              "<p>1025 rows × 1 columns</p>\n",
              "</div><br><label><b>dtype:</b> int64</label>"
            ]
          },
          "metadata": {},
          "execution_count": 199
        }
      ]
    },
    {
      "cell_type": "markdown",
      "source": [
        "## **Eda Multivarate**"
      ],
      "metadata": {
        "id": "QjK3FTpxi9Ys"
      }
    },
    {
      "cell_type": "code",
      "source": [
        "plt.figure(figsize=(10, 6))\n",
        "sns.barplot(data=df, x='provinsi', y='longitude')\n",
        "plt.xticks(rotation=90)\n",
        "plt.title('Distribusi Longitude Tempat Wisata per Provinsi')\n",
        "plt.tight_layout()\n",
        "plt.show()"
      ],
      "metadata": {
        "colab": {
          "base_uri": "https://localhost:8080/",
          "height": 607
        },
        "id": "UpJ5INRt25fb",
        "outputId": "0daec9e2-b1d6-4454-f52e-8c9d6ba8e910"
      },
      "execution_count": null,
      "outputs": [
        {
          "output_type": "display_data",
          "data": {
            "text/plain": [
              "<Figure size 1000x600 with 1 Axes>"
            ],
            "image/png": "[encoded data removed]"
          },
          "metadata": {}
        }
      ]
    },
    {
      "cell_type": "code",
      "source": [
        "pivot_table = pd.crosstab(df['provinsi'], df['kategori'])\n",
        "top_kat = df['kategori'].value_counts().nlargest(10).index\n",
        "top_prov = df['provinsi'].value_counts().nlargest(10).index\n",
        "pivot_filtered = pivot_table.loc[top_prov, top_kat]\n",
        "plt.figure(figsize=(12, 8))\n",
        "sns.heatmap(pivot_filtered, annot=True, fmt=\"d\", cmap=\"YlGnBu\")\n",
        "plt.title('Jumlah Tempat Wisata per Provinsi dan Kategori (Top 10)')\n",
        "plt.xlabel(\"Kategori\")\n",
        "plt.ylabel(\"Provinsi\")\n",
        "plt.tight_layout()\n",
        "plt.show()"
      ],
      "metadata": {
        "colab": {
          "base_uri": "https://localhost:8080/",
          "height": 807
        },
        "id": "vRnfCfGe3Axu",
        "outputId": "bf173550-78d8-495d-c0ed-a310ad351124"
      },
      "execution_count": null,
      "outputs": [
        {
          "output_type": "display_data",
          "data": {
            "text/plain": [
              "<Figure size 1200x800 with 2 Axes>"
            ],
            "image/png": "[encoded data removed]"
          },
          "metadata": {}
        }
      ]
    },
    {
      "cell_type": "markdown",
      "source": [
        "## **Eda univariate**"
      ],
      "metadata": {
        "id": "o7S68ZZmG54-"
      }
    },
    {
      "cell_type": "code",
      "source": [
        "plt.figure(figsize=(12, 6))\n",
        "sns.countplot(data=df, y='provinsi', order=df['provinsi'].value_counts().index)\n",
        "plt.title('Jumlah Tempat Wisata per Provinsi')\n",
        "plt.xlabel('Jumlah')\n",
        "plt.ylabel('Provinsi')\n",
        "plt.tight_layout()\n",
        "plt.show()"
      ],
      "metadata": {
        "id": "bsFbuIsIjGyi",
        "colab": {
          "base_uri": "https://localhost:8080/",
          "height": 607
        },
        "outputId": "c10c2e72-8b47-41ef-d8bc-883bc9dfa0f2"
      },
      "execution_count": null,
      "outputs": [
        {
          "output_type": "display_data",
          "data": {
            "text/plain": [
              "<Figure size 1200x600 with 1 Axes>"
            ],
            "image/png": "[encoded data removed]"
          },
          "metadata": {}
        }
      ]
    },
    {
      "cell_type": "code",
      "source": [
        "df['kota_kabupaten'] = df['kota_kabupaten'].apply(lambda x: re.sub(r'[^\\x00-\\x7F]+', '', str(x)))"
      ],
      "metadata": {
        "id": "ygkbr6ZoQ_xG"
      },
      "execution_count": null,
      "outputs": []
    },
    {
      "cell_type": "code",
      "source": [
        "plt.figure(figsize=(10, 5))\n",
        "top_kota = df['kota_kabupaten'].value_counts().head(10)\n",
        "sns.barplot(x=top_kota.values, y=top_kota.index)\n",
        "plt.title('10 Kota/Kabupaten dengan Jumlah Wisata Terbanyak')\n",
        "plt.xlabel('Jumlah Tempat Wisata')\n",
        "plt.tight_layout()\n",
        "plt.show()"
      ],
      "metadata": {
        "colab": {
          "base_uri": "https://localhost:8080/",
          "height": 507
        },
        "id": "2VaAtkg_D98G",
        "outputId": "d981d412-6fb2-4db8-86ec-67101a1af4f6"
      },
      "execution_count": null,
      "outputs": [
        {
          "output_type": "display_data",
          "data": {
            "text/plain": [
              "<Figure size 1000x500 with 1 Axes>"
            ],
            "image/png": "[encoded data removed]"
          },
          "metadata": {}
        }
      ]
    },
    {
      "cell_type": "markdown",
      "source": [
        "# **Data Preprocessing**"
      ],
      "metadata": {
        "id": "KX_z1WMyGzsm"
      }
    },
    {
      "cell_type": "code",
      "source": [
        "print(df.isnull().sum())"
      ],
      "metadata": {
        "colab": {
          "base_uri": "https://localhost:8080/"
        },
        "id": "PbGiwQdTszFx",
        "outputId": "617b226e-2349-4dad-de8b-fa268b2a1c1d"
      },
      "execution_count": null,
      "outputs": [
        {
          "output_type": "stream",
          "name": "stdout",
          "text": [
            "kategori           0\n",
            "nama_wisata        0\n",
            "latitude           0\n",
            "longitude          0\n",
            "alamat             0\n",
            "provinsi          90\n",
            "kota_kabupaten     0\n",
            "nama_lengkap       0\n",
            "deskripsi          0\n",
            "path               0\n",
            "path_gambar        0\n",
            "dtype: int64\n"
          ]
        }
      ]
    },
    {
      "cell_type": "code",
      "source": [
        "for col in df.columns:\n",
        "  if df[col].isnull().sum() > 0:\n",
        "    df[col].fillna(df[col].mode()[0], inplace=True)\n",
        "\n",
        "print(\"\\nMissing values after filling:\")\n",
        "print(df.isnull().sum())"
      ],
      "metadata": {
        "colab": {
          "base_uri": "https://localhost:8080/"
        },
        "id": "3P4RWNWSdWFn",
        "outputId": "e762eacb-6b72-436f-e951-c8c0ed6c6f9b"
      },
      "execution_count": null,
      "outputs": [
        {
          "output_type": "stream",
          "name": "stdout",
          "text": [
            "\n",
            "Missing values after filling:\n",
            "kategori          0\n",
            "nama_wisata       0\n",
            "latitude          0\n",
            "longitude         0\n",
            "alamat            0\n",
            "provinsi          0\n",
            "kota_kabupaten    0\n",
            "nama_lengkap      0\n",
            "deskripsi         0\n",
            "path              0\n",
            "path_gambar       0\n",
            "dtype: int64\n"
          ]
        },
        {
          "output_type": "stream",
          "name": "stderr",
          "text": [
            "<ipython-input-206-397b8c13651b>:3: FutureWarning: A value is trying to be set on a copy of a DataFrame or Series through chained assignment using an inplace method.\n",
            "The behavior will change in pandas 3.0. This inplace method will never work because the intermediate object on which we are setting values always behaves as a copy.\n",
            "\n",
            "For example, when doing 'df[col].method(value, inplace=True)', try using 'df.method({col: value}, inplace=True)' or df[col] = df[col].method(value) instead, to perform the operation inplace on the original object.\n",
            "\n",
            "\n",
            "  df[col].fillna(df[col].mode()[0], inplace=True)\n"
          ]
        }
      ]
    },
    {
      "cell_type": "code",
      "source": [
        "df.duplicated().sum()"
      ],
      "metadata": {
        "colab": {
          "base_uri": "https://localhost:8080/"
        },
        "id": "b8h5yMf6jknz",
        "outputId": "53693fbb-8be4-4cb0-ac1e-e0808780b6ca"
      },
      "execution_count": null,
      "outputs": [
        {
          "output_type": "execute_result",
          "data": {
            "text/plain": [
              "np.int64(0)"
            ]
          },
          "metadata": {},
          "execution_count": 207
        }
      ]
    },
    {
      "cell_type": "code",
      "source": [
        "df[df.duplicated('nama_wisata', keep=False)]"
      ],
      "metadata": {
        "colab": {
          "base_uri": "https://localhost:8080/",
          "height": 53
        },
        "id": "3ZcIC9ALjlL_",
        "outputId": "78da57d3-0367-4781-e706-0079769116d0"
      },
      "execution_count": null,
      "outputs": [
        {
          "output_type": "execute_result",
          "data": {
            "text/plain": [
              "Empty DataFrame\n",
              "Columns: [kategori, nama_wisata, latitude, longitude, alamat, provinsi, kota_kabupaten, nama_lengkap, deskripsi, path, path_gambar]\n",
              "Index: []"
            ],
            "text/html": [
              "\n",
              "  <div id=\"df-4fa8b22a-be1b-4f6d-86fa-da6d48ab6d97\" class=\"colab-df-container\">\n",
              "    <div>\n",
              "<style scoped>\n",
              "    .dataframe tbody tr th:only-of-type {\n",
              "        vertical-align: middle;\n",
              "    }\n",
              "\n",
              "    .dataframe tbody tr th {\n",
              "        vertical-align: top;\n",
              "    }\n",
              "\n",
              "    .dataframe thead th {\n",
              "        text-align: right;\n",
              "    }\n",
              "</style>\n",
              "<table border=\"1\" class=\"dataframe\">\n",
              "  <thead>\n",
              "    <tr style=\"text-align: right;\">\n",
              "      <th></th>\n",
              "      <th>kategori</th>\n",
              "      <th>nama_wisata</th>\n",
              "      <th>latitude</th>\n",
              "      <th>longitude</th>\n",
              "      <th>alamat</th>\n",
              "      <th>provinsi</th>\n",
              "      <th>kota_kabupaten</th>\n",
              "      <th>nama_lengkap</th>\n",
              "      <th>deskripsi</th>\n",
              "      <th>path</th>\n",
              "      <th>path_gambar</th>\n",
              "    </tr>\n",
              "  </thead>\n",
              "  <tbody>\n",
              "  </tbody>\n",
              "</table>\n",
              "</div>\n",
              "    <div class=\"colab-df-buttons\">\n",
              "\n",
              "  <div class=\"colab-df-container\">\n",
              "    <button class=\"colab-df-convert\" onclick=\"convertToInteractive('df-4fa8b22a-be1b-4f6d-86fa-da6d48ab6d97')\"\n",
              "            title=\"Convert this dataframe to an interactive table.\"\n",
              "            style=\"display:none;\">\n",
              "\n",
              "  <svg xmlns=\"http://www.w3.org/2000/svg\" height=\"24px\" viewBox=\"0 -960 960 960\">\n",
              "    <path d=\"M120-120v-720h720v720H120Zm60-500h600v-160H180v160Zm220 220h160v-160H400v160Zm0 220h160v-160H400v160ZM180-400h160v-160H180v160Zm440 0h160v-160H620v160ZM180-180h160v-160H180v160Zm440 0h160v-160H620v160Z\"/>\n",
              "  </svg>\n",
              "    </button>\n",
              "\n",
              "  <style>\n",
              "    .colab-df-container {\n",
              "      display:flex;\n",
              "      gap: 12px;\n",
              "    }\n",
              "\n",
              "    .colab-df-convert {\n",
              "      background-color: #E8F0FE;\n",
              "      border: none;\n",
              "      border-radius: 50%;\n",
              "      cursor: pointer;\n",
              "      display: none;\n",
              "      fill: #1967D2;\n",
              "      height: 32px;\n",
              "      padding: 0 0 0 0;\n",
              "      width: 32px;\n",
              "    }\n",
              "\n",
              "    .colab-df-convert:hover {\n",
              "      background-color: #E2EBFA;\n",
              "      box-shadow: 0px 1px 2px rgba(60, 64, 67, 0.3), 0px 1px 3px 1px rgba(60, 64, 67, 0.15);\n",
              "      fill: #174EA6;\n",
              "    }\n",
              "\n",
              "    .colab-df-buttons div {\n",
              "      margin-bottom: 4px;\n",
              "    }\n",
              "\n",
              "    [theme=dark] .colab-df-convert {\n",
              "      background-color: #3B4455;\n",
              "      fill: #D2E3FC;\n",
              "    }\n",
              "\n",
              "    [theme=dark] .colab-df-convert:hover {\n",
              "      background-color: #434B5C;\n",
              "      box-shadow: 0px 1px 3px 1px rgba(0, 0, 0, 0.15);\n",
              "      filter: drop-shadow(0px 1px 2px rgba(0, 0, 0, 0.3));\n",
              "      fill: #FFFFFF;\n",
              "    }\n",
              "  </style>\n",
              "\n",
              "    <script>\n",
              "      const buttonEl =\n",
              "        document.querySelector('#df-4fa8b22a-be1b-4f6d-86fa-da6d48ab6d97 button.colab-df-convert');\n",
              "      buttonEl.style.display =\n",
              "        google.colab.kernel.accessAllowed ? 'block' : 'none';\n",
              "\n",
              "      async function convertToInteractive(key) {\n",
              "        const element = document.querySelector('#df-4fa8b22a-be1b-4f6d-86fa-da6d48ab6d97');\n",
              "        const dataTable =\n",
              "          await google.colab.kernel.invokeFunction('convertToInteractive',\n",
              "                                                    [key], {});\n",
              "        if (!dataTable) return;\n",
              "\n",
              "        const docLinkHtml = 'Like what you see? Visit the ' +\n",
              "          '<a target=\"_blank\" href=https://colab.research.google.com/notebooks/data_table.ipynb>data table notebook</a>'\n",
              "          + ' to learn more about interactive tables.';\n",
              "        element.innerHTML = '';\n",
              "        dataTable['output_type'] = 'display_data';\n",
              "        await google.colab.output.renderOutput(dataTable, element);\n",
              "        const docLink = document.createElement('div');\n",
              "        docLink.innerHTML = docLinkHtml;\n",
              "        element.appendChild(docLink);\n",
              "      }\n",
              "    </script>\n",
              "  </div>\n",
              "\n",
              "\n",
              "    </div>\n",
              "  </div>\n"
            ],
            "application/vnd.google.colaboratory.intrinsic+json": {
              "type": "dataframe",
              "repr_error": "Out of range float values are not JSON compliant: nan"
            }
          },
          "metadata": {},
          "execution_count": 208
        }
      ]
    },
    {
      "cell_type": "code",
      "source": [
        "def hapus_karakter_rusak(teks):\n",
        "    return re.sub(r'[^\\x00-\\x7F]+', ' ', str(teks))"
      ],
      "metadata": {
        "id": "7iQGP66vjr5s"
      },
      "execution_count": null,
      "outputs": []
    },
    {
      "cell_type": "code",
      "source": [
        "def bersihkan_deskripsi(teks):\n",
        "    teks = hapus_karakter_rusak(teks)\n",
        "    teks = re.sub(r\"==\\s*[^=]+?\\s*==.*\", \"\", teks, flags=re.IGNORECASE | re.DOTALL)\n",
        "    teks = re.sub(r\"^Berikut(?: ini)?(?: adalah)?(?: daftar)?[^.]*\\.\", \"\", teks, flags=re.IGNORECASE)\n",
        "    teks = re.sub(r\"^(Latar belakang|Sejarah singkat)[^.]*\\.\", \"\", teks, flags=re.IGNORECASE)\n",
        "    teks = hapus_karakter_rusak(teks)\n",
        "    return teks.strip()"
      ],
      "metadata": {
        "id": "XTnn6ObiB4Pc"
      },
      "execution_count": null,
      "outputs": []
    },
    {
      "cell_type": "code",
      "source": [
        "df['provinsi'] = df['provinsi'].str.strip()\n",
        "df['deskripsi_bersih'] = df['deskripsi'].apply(bersihkan_deskripsi)\n",
        "df = df.drop(columns=['path', 'deskripsi'])"
      ],
      "metadata": {
        "id": "8rJQ_dPrjvWS"
      },
      "execution_count": null,
      "outputs": []
    },
    {
      "cell_type": "code",
      "source": [
        "# Buat mapping typo ke kategori benar\n",
        "kategori_mapping = {\n",
        "    'wisate alam': 'wisata alam',\n",
        "    'wisath alam': 'wisata alam',\n",
        "    'wisatr alam': 'wisata alam',\n",
        "    'wisaub alam': 'wisata alam',\n",
        "    'wisawa alam': 'wisata alam',\n",
        "    'wisawi alam': 'wisata alam',\n",
        "}\n",
        "\n",
        "# Ganti nilai berdasarkan mapping\n",
        "df['kategori'] = df['kategori'].replace(kategori_mapping)\n"
      ],
      "metadata": {
        "id": "Gqka2EjY7bZq"
      },
      "execution_count": null,
      "outputs": []
    },
    {
      "cell_type": "code",
      "source": [
        "df_clean = df.copy()\n",
        "df_clean"
      ],
      "metadata": {
        "colab": {
          "base_uri": "https://localhost:8080/",
          "height": 771
        },
        "id": "OX9vHpTHj0gz",
        "outputId": "7cd85a44-8cc4-4208-9884-db1d3ab7b2da"
      },
      "execution_count": null,
      "outputs": [
        {
          "output_type": "execute_result",
          "data": {
            "text/plain": [
              "         kategori                nama_wisata  latitude   longitude  \\\n",
              "0      air terjun     Air Terjun Aling-Aling -8.176792  115.106284   \n",
              "1      air terjun     Air Terjun Bantimurung -5.016520  119.685520   \n",
              "2      air terjun  Air Terjun Benang Kelambu -8.532770  116.337011   \n",
              "3      air terjun   Air Terjun Benang Stokel -8.533036  116.341379   \n",
              "4      air terjun        Air Terjun Bidadari -2.928361  107.839043   \n",
              "...           ...                        ...       ...         ...   \n",
              "1020  wisata alam              Situ Cileunca -7.202004  107.547142   \n",
              "1021  wisata alam               Situ Cisanti -7.209391  107.657477   \n",
              "1022  wisata alam            Situ Patenggang -7.165260  107.369782   \n",
              "1023  wisata alam             Situ Rawa Gede -6.292928  106.977288   \n",
              "1024         mall        Sukawati Art Market -8.596449  115.282342   \n",
              "\n",
              "                                                 alamat  \\\n",
              "0     Air Terjun Aling-Aling, Panji Anom, Buleleng, ...   \n",
              "1     Air Terjun Bantimurung, Jalan Poros Bantimurun...   \n",
              "2     Air Terjun Benang Kelambu, Pemotoh, Lombok Ten...   \n",
              "3     Air Terjun Benang Stokel, Pemotoh, Lombok Teng...   \n",
              "4     Air Terjun Bidadari, Nyuruk, Belitung Timur, K...   \n",
              "...                                                 ...   \n",
              "1020  Situ Cileunca, Kampung Cibuluh, Pulosari, Kabu...   \n",
              "1021  Situ Cisanti, Kertasari, Kabupaten Bandung, Ja...   \n",
              "1022  Situ Patenggang, Bauan, Rancabali, Kabupaten B...   \n",
              "1023  Situ Rawa Gede, Pesona Metropolitan, Bojong Me...   \n",
              "1024  Sukawati Art Market, Jalan Lettu Wayan Sutha, ...   \n",
              "\n",
              "                       provinsi     kota_kabupaten  \\\n",
              "0                          Bali           Buleleng   \n",
              "1              Sulawesi Selatan           Sulawesi   \n",
              "2           Nusa Tenggara Barat      Lombok Tengah   \n",
              "3           Nusa Tenggara Barat      Lombok Tengah   \n",
              "4     Kepulauan Bangka Belitung     Belitung Timur   \n",
              "...                         ...                ...   \n",
              "1020                 Jawa Barat  Kabupaten Bandung   \n",
              "1021                 Jawa Barat  Kabupaten Bandung   \n",
              "1022                 Jawa Barat  Kabupaten Bandung   \n",
              "1023                 Jawa Barat             Bekasi   \n",
              "1024                       Bali            Gianyar   \n",
              "\n",
              "                                           nama_lengkap  \\\n",
              "0                Air Terjun Aling-Aling, Buleleng, Bali   \n",
              "1     Air Terjun Bantimurung, Sulawesi, Sulawesi Sel...   \n",
              "2     Air Terjun Benang Kelambu, Lombok Tengah, Nusa...   \n",
              "3     Air Terjun Benang Stokel, Lombok Tengah, Nusa ...   \n",
              "4     Air Terjun Bidadari, Belitung Timur, Kepulauan...   \n",
              "...                                                 ...   \n",
              "1020       Situ Cileunca, Kabupaten Bandung, Jawa Barat   \n",
              "1021        Situ Cisanti, Kabupaten Bandung, Jawa Barat   \n",
              "1022     Situ Patenggang, Kabupaten Bandung, Jawa Barat   \n",
              "1023                 Situ Rawa Gede, Bekasi, Jawa Barat   \n",
              "1024                 Sukawati Art Market, Gianyar, Bali   \n",
              "\n",
              "                                  path_gambar  \\\n",
              "0        gambar_wisata/Air_Terjun_Aling-Aling   \n",
              "1        gambar_wisata/Air_Terjun_Bantimurung   \n",
              "2     gambar_wisata/Air_Terjun_Benang_Kelambu   \n",
              "3      gambar_wisata/Air_Terjun_Benang_Stokel   \n",
              "4           gambar_wisata/Air_Terjun_Bidadari   \n",
              "...                                       ...   \n",
              "1020              gambar_wisata/Situ_Cileunca   \n",
              "1021               gambar_wisata/Situ_Cisanti   \n",
              "1022            gambar_wisata/Situ_Patenggang   \n",
              "1023             gambar_wisata/Situ_Rawa_Gede   \n",
              "1024        gambar_wisata/Sukawati_Art_Market   \n",
              "\n",
              "                                       deskripsi_bersih  \n",
              "0                             Deskripsi tidak ditemukan  \n",
              "1     Air Terjun Bantimurung adalah salah satu air t...  \n",
              "2                             Deskripsi tidak ditemukan  \n",
              "3                             Deskripsi tidak ditemukan  \n",
              "4     Daftar ini tidak lengkap dan hanya dapat dijad...  \n",
              "...                                                 ...  \n",
              "1020  Situ Cileunca (Aksara Sunda Baku:    ),  adala...  \n",
              "1021  Situ Cisanti (Aksara Sunda Baku:    ) adalah d...  \n",
              "1022  Situ Patenggang atau Situ Patengan adalah suat...  \n",
              "1023  Kabupaten Purwakarta (bahasa Sunda:  ) adalah ...  \n",
              "1024  Ubud (aksara Bali:  ) adalah sebuah desa adat ...  \n",
              "\n",
              "[1025 rows x 10 columns]"
            ],
            "text/html": [
              "\n",
              "  <div id=\"df-bedc879c-1cd6-4f51-9254-300220437752\" class=\"colab-df-container\">\n",
              "    <div>\n",
              "<style scoped>\n",
              "    .dataframe tbody tr th:only-of-type {\n",
              "        vertical-align: middle;\n",
              "    }\n",
              "\n",
              "    .dataframe tbody tr th {\n",
              "        vertical-align: top;\n",
              "    }\n",
              "\n",
              "    .dataframe thead th {\n",
              "        text-align: right;\n",
              "    }\n",
              "</style>\n",
              "<table border=\"1\" class=\"dataframe\">\n",
              "  <thead>\n",
              "    <tr style=\"text-align: right;\">\n",
              "      <th></th>\n",
              "      <th>kategori</th>\n",
              "      <th>nama_wisata</th>\n",
              "      <th>latitude</th>\n",
              "      <th>longitude</th>\n",
              "      <th>alamat</th>\n",
              "      <th>provinsi</th>\n",
              "      <th>kota_kabupaten</th>\n",
              "      <th>nama_lengkap</th>\n",
              "      <th>path_gambar</th>\n",
              "      <th>deskripsi_bersih</th>\n",
              "    </tr>\n",
              "  </thead>\n",
              "  <tbody>\n",
              "    <tr>\n",
              "      <th>0</th>\n",
              "      <td>air terjun</td>\n",
              "      <td>Air Terjun Aling-Aling</td>\n",
              "      <td>-8.176792</td>\n",
              "      <td>115.106284</td>\n",
              "      <td>Air Terjun Aling-Aling, Panji Anom, Buleleng, ...</td>\n",
              "      <td>Bali</td>\n",
              "      <td>Buleleng</td>\n",
              "      <td>Air Terjun Aling-Aling, Buleleng, Bali</td>\n",
              "      <td>gambar_wisata/Air_Terjun_Aling-Aling</td>\n",
              "      <td>Deskripsi tidak ditemukan</td>\n",
              "    </tr>\n",
              "    <tr>\n",
              "      <th>1</th>\n",
              "      <td>air terjun</td>\n",
              "      <td>Air Terjun Bantimurung</td>\n",
              "      <td>-5.016520</td>\n",
              "      <td>119.685520</td>\n",
              "      <td>Air Terjun Bantimurung, Jalan Poros Bantimurun...</td>\n",
              "      <td>Sulawesi Selatan</td>\n",
              "      <td>Sulawesi</td>\n",
              "      <td>Air Terjun Bantimurung, Sulawesi, Sulawesi Sel...</td>\n",
              "      <td>gambar_wisata/Air_Terjun_Bantimurung</td>\n",
              "      <td>Air Terjun Bantimurung adalah salah satu air t...</td>\n",
              "    </tr>\n",
              "    <tr>\n",
              "      <th>2</th>\n",
              "      <td>air terjun</td>\n",
              "      <td>Air Terjun Benang Kelambu</td>\n",
              "      <td>-8.532770</td>\n",
              "      <td>116.337011</td>\n",
              "      <td>Air Terjun Benang Kelambu, Pemotoh, Lombok Ten...</td>\n",
              "      <td>Nusa Tenggara Barat</td>\n",
              "      <td>Lombok Tengah</td>\n",
              "      <td>Air Terjun Benang Kelambu, Lombok Tengah, Nusa...</td>\n",
              "      <td>gambar_wisata/Air_Terjun_Benang_Kelambu</td>\n",
              "      <td>Deskripsi tidak ditemukan</td>\n",
              "    </tr>\n",
              "    <tr>\n",
              "      <th>3</th>\n",
              "      <td>air terjun</td>\n",
              "      <td>Air Terjun Benang Stokel</td>\n",
              "      <td>-8.533036</td>\n",
              "      <td>116.341379</td>\n",
              "      <td>Air Terjun Benang Stokel, Pemotoh, Lombok Teng...</td>\n",
              "      <td>Nusa Tenggara Barat</td>\n",
              "      <td>Lombok Tengah</td>\n",
              "      <td>Air Terjun Benang Stokel, Lombok Tengah, Nusa ...</td>\n",
              "      <td>gambar_wisata/Air_Terjun_Benang_Stokel</td>\n",
              "      <td>Deskripsi tidak ditemukan</td>\n",
              "    </tr>\n",
              "    <tr>\n",
              "      <th>4</th>\n",
              "      <td>air terjun</td>\n",
              "      <td>Air Terjun Bidadari</td>\n",
              "      <td>-2.928361</td>\n",
              "      <td>107.839043</td>\n",
              "      <td>Air Terjun Bidadari, Nyuruk, Belitung Timur, K...</td>\n",
              "      <td>Kepulauan Bangka Belitung</td>\n",
              "      <td>Belitung Timur</td>\n",
              "      <td>Air Terjun Bidadari, Belitung Timur, Kepulauan...</td>\n",
              "      <td>gambar_wisata/Air_Terjun_Bidadari</td>\n",
              "      <td>Daftar ini tidak lengkap dan hanya dapat dijad...</td>\n",
              "    </tr>\n",
              "    <tr>\n",
              "      <th>...</th>\n",
              "      <td>...</td>\n",
              "      <td>...</td>\n",
              "      <td>...</td>\n",
              "      <td>...</td>\n",
              "      <td>...</td>\n",
              "      <td>...</td>\n",
              "      <td>...</td>\n",
              "      <td>...</td>\n",
              "      <td>...</td>\n",
              "      <td>...</td>\n",
              "    </tr>\n",
              "    <tr>\n",
              "      <th>1020</th>\n",
              "      <td>wisata alam</td>\n",
              "      <td>Situ Cileunca</td>\n",
              "      <td>-7.202004</td>\n",
              "      <td>107.547142</td>\n",
              "      <td>Situ Cileunca, Kampung Cibuluh, Pulosari, Kabu...</td>\n",
              "      <td>Jawa Barat</td>\n",
              "      <td>Kabupaten Bandung</td>\n",
              "      <td>Situ Cileunca, Kabupaten Bandung, Jawa Barat</td>\n",
              "      <td>gambar_wisata/Situ_Cileunca</td>\n",
              "      <td>Situ Cileunca (Aksara Sunda Baku:    ),  adala...</td>\n",
              "    </tr>\n",
              "    <tr>\n",
              "      <th>1021</th>\n",
              "      <td>wisata alam</td>\n",
              "      <td>Situ Cisanti</td>\n",
              "      <td>-7.209391</td>\n",
              "      <td>107.657477</td>\n",
              "      <td>Situ Cisanti, Kertasari, Kabupaten Bandung, Ja...</td>\n",
              "      <td>Jawa Barat</td>\n",
              "      <td>Kabupaten Bandung</td>\n",
              "      <td>Situ Cisanti, Kabupaten Bandung, Jawa Barat</td>\n",
              "      <td>gambar_wisata/Situ_Cisanti</td>\n",
              "      <td>Situ Cisanti (Aksara Sunda Baku:    ) adalah d...</td>\n",
              "    </tr>\n",
              "    <tr>\n",
              "      <th>1022</th>\n",
              "      <td>wisata alam</td>\n",
              "      <td>Situ Patenggang</td>\n",
              "      <td>-7.165260</td>\n",
              "      <td>107.369782</td>\n",
              "      <td>Situ Patenggang, Bauan, Rancabali, Kabupaten B...</td>\n",
              "      <td>Jawa Barat</td>\n",
              "      <td>Kabupaten Bandung</td>\n",
              "      <td>Situ Patenggang, Kabupaten Bandung, Jawa Barat</td>\n",
              "      <td>gambar_wisata/Situ_Patenggang</td>\n",
              "      <td>Situ Patenggang atau Situ Patengan adalah suat...</td>\n",
              "    </tr>\n",
              "    <tr>\n",
              "      <th>1023</th>\n",
              "      <td>wisata alam</td>\n",
              "      <td>Situ Rawa Gede</td>\n",
              "      <td>-6.292928</td>\n",
              "      <td>106.977288</td>\n",
              "      <td>Situ Rawa Gede, Pesona Metropolitan, Bojong Me...</td>\n",
              "      <td>Jawa Barat</td>\n",
              "      <td>Bekasi</td>\n",
              "      <td>Situ Rawa Gede, Bekasi, Jawa Barat</td>\n",
              "      <td>gambar_wisata/Situ_Rawa_Gede</td>\n",
              "      <td>Kabupaten Purwakarta (bahasa Sunda:  ) adalah ...</td>\n",
              "    </tr>\n",
              "    <tr>\n",
              "      <th>1024</th>\n",
              "      <td>mall</td>\n",
              "      <td>Sukawati Art Market</td>\n",
              "      <td>-8.596449</td>\n",
              "      <td>115.282342</td>\n",
              "      <td>Sukawati Art Market, Jalan Lettu Wayan Sutha, ...</td>\n",
              "      <td>Bali</td>\n",
              "      <td>Gianyar</td>\n",
              "      <td>Sukawati Art Market, Gianyar, Bali</td>\n",
              "      <td>gambar_wisata/Sukawati_Art_Market</td>\n",
              "      <td>Ubud (aksara Bali:  ) adalah sebuah desa adat ...</td>\n",
              "    </tr>\n",
              "  </tbody>\n",
              "</table>\n",
              "<p>1025 rows × 10 columns</p>\n",
              "</div>\n",
              "    <div class=\"colab-df-buttons\">\n",
              "\n",
              "  <div class=\"colab-df-container\">\n",
              "    <button class=\"colab-df-convert\" onclick=\"convertToInteractive('df-bedc879c-1cd6-4f51-9254-300220437752')\"\n",
              "            title=\"Convert this dataframe to an interactive table.\"\n",
              "            style=\"display:none;\">\n",
              "\n",
              "  <svg xmlns=\"http://www.w3.org/2000/svg\" height=\"24px\" viewBox=\"0 -960 960 960\">\n",
              "    <path d=\"M120-120v-720h720v720H120Zm60-500h600v-160H180v160Zm220 220h160v-160H400v160Zm0 220h160v-160H400v160ZM180-400h160v-160H180v160Zm440 0h160v-160H620v160ZM180-180h160v-160H180v160Zm440 0h160v-160H620v160Z\"/>\n",
              "  </svg>\n",
              "    </button>\n",
              "\n",
              "  <style>\n",
              "    .colab-df-container {\n",
              "      display:flex;\n",
              "      gap: 12px;\n",
              "    }\n",
              "\n",
              "    .colab-df-convert {\n",
              "      background-color: #E8F0FE;\n",
              "      border: none;\n",
              "      border-radius: 50%;\n",
              "      cursor: pointer;\n",
              "      display: none;\n",
              "      fill: #1967D2;\n",
              "      height: 32px;\n",
              "      padding: 0 0 0 0;\n",
              "      width: 32px;\n",
              "    }\n",
              "\n",
              "    .colab-df-convert:hover {\n",
              "      background-color: #E2EBFA;\n",
              "      box-shadow: 0px 1px 2px rgba(60, 64, 67, 0.3), 0px 1px 3px 1px rgba(60, 64, 67, 0.15);\n",
              "      fill: #174EA6;\n",
              "    }\n",
              "\n",
              "    .colab-df-buttons div {\n",
              "      margin-bottom: 4px;\n",
              "    }\n",
              "\n",
              "    [theme=dark] .colab-df-convert {\n",
              "      background-color: #3B4455;\n",
              "      fill: #D2E3FC;\n",
              "    }\n",
              "\n",
              "    [theme=dark] .colab-df-convert:hover {\n",
              "      background-color: #434B5C;\n",
              "      box-shadow: 0px 1px 3px 1px rgba(0, 0, 0, 0.15);\n",
              "      filter: drop-shadow(0px 1px 2px rgba(0, 0, 0, 0.3));\n",
              "      fill: #FFFFFF;\n",
              "    }\n",
              "  </style>\n",
              "\n",
              "    <script>\n",
              "      const buttonEl =\n",
              "        document.querySelector('#df-bedc879c-1cd6-4f51-9254-300220437752 button.colab-df-convert');\n",
              "      buttonEl.style.display =\n",
              "        google.colab.kernel.accessAllowed ? 'block' : 'none';\n",
              "\n",
              "      async function convertToInteractive(key) {\n",
              "        const element = document.querySelector('#df-bedc879c-1cd6-4f51-9254-300220437752');\n",
              "        const dataTable =\n",
              "          await google.colab.kernel.invokeFunction('convertToInteractive',\n",
              "                                                    [key], {});\n",
              "        if (!dataTable) return;\n",
              "\n",
              "        const docLinkHtml = 'Like what you see? Visit the ' +\n",
              "          '<a target=\"_blank\" href=https://colab.research.google.com/notebooks/data_table.ipynb>data table notebook</a>'\n",
              "          + ' to learn more about interactive tables.';\n",
              "        element.innerHTML = '';\n",
              "        dataTable['output_type'] = 'display_data';\n",
              "        await google.colab.output.renderOutput(dataTable, element);\n",
              "        const docLink = document.createElement('div');\n",
              "        docLink.innerHTML = docLinkHtml;\n",
              "        element.appendChild(docLink);\n",
              "      }\n",
              "    </script>\n",
              "  </div>\n",
              "\n",
              "\n",
              "    <div id=\"df-b3a38ae5-c026-4ca0-8b3a-35cad1568a76\">\n",
              "      <button class=\"colab-df-quickchart\" onclick=\"quickchart('df-b3a38ae5-c026-4ca0-8b3a-35cad1568a76')\"\n",
              "                title=\"Suggest charts\"\n",
              "                style=\"display:none;\">\n",
              "\n",
              "<svg xmlns=\"http://www.w3.org/2000/svg\" height=\"24px\"viewBox=\"0 0 24 24\"\n",
              "     width=\"24px\">\n",
              "    <g>\n",
              "        <path d=\"M19 3H5c-1.1 0-2 .9-2 2v14c0 1.1.9 2 2 2h14c1.1 0 2-.9 2-2V5c0-1.1-.9-2-2-2zM9 17H7v-7h2v7zm4 0h-2V7h2v10zm4 0h-2v-4h2v4z\"/>\n",
              "    </g>\n",
              "</svg>\n",
              "      </button>\n",
              "\n",
              "<style>\n",
              "  .colab-df-quickchart {\n",
              "      --bg-color: #E8F0FE;\n",
              "      --fill-color: #1967D2;\n",
              "      --hover-bg-color: #E2EBFA;\n",
              "      --hover-fill-color: #174EA6;\n",
              "      --disabled-fill-color: #AAA;\n",
              "      --disabled-bg-color: #DDD;\n",
              "  }\n",
              "\n",
              "  [theme=dark] .colab-df-quickchart {\n",
              "      --bg-color: #3B4455;\n",
              "      --fill-color: #D2E3FC;\n",
              "      --hover-bg-color: #434B5C;\n",
              "      --hover-fill-color: #FFFFFF;\n",
              "      --disabled-bg-color: #3B4455;\n",
              "      --disabled-fill-color: #666;\n",
              "  }\n",
              "\n",
              "  .colab-df-quickchart {\n",
              "    background-color: var(--bg-color);\n",
              "    border: none;\n",
              "    border-radius: 50%;\n",
              "    cursor: pointer;\n",
              "    display: none;\n",
              "    fill: var(--fill-color);\n",
              "    height: 32px;\n",
              "    padding: 0;\n",
              "    width: 32px;\n",
              "  }\n",
              "\n",
              "  .colab-df-quickchart:hover {\n",
              "    background-color: var(--hover-bg-color);\n",
              "    box-shadow: 0 1px 2px rgba(60, 64, 67, 0.3), 0 1px 3px 1px rgba(60, 64, 67, 0.15);\n",
              "    fill: var(--button-hover-fill-color);\n",
              "  }\n",
              "\n",
              "  .colab-df-quickchart-complete:disabled,\n",
              "  .colab-df-quickchart-complete:disabled:hover {\n",
              "    background-color: var(--disabled-bg-color);\n",
              "    fill: var(--disabled-fill-color);\n",
              "    box-shadow: none;\n",
              "  }\n",
              "\n",
              "  .colab-df-spinner {\n",
              "    border: 2px solid var(--fill-color);\n",
              "    border-color: transparent;\n",
              "    border-bottom-color: var(--fill-color);\n",
              "    animation:\n",
              "      spin 1s steps(1) infinite;\n",
              "  }\n",
              "\n",
              "  @keyframes spin {\n",
              "    0% {\n",
              "      border-color: transparent;\n",
              "      border-bottom-color: var(--fill-color);\n",
              "      border-left-color: var(--fill-color);\n",
              "    }\n",
              "    20% {\n",
              "      border-color: transparent;\n",
              "      border-left-color: var(--fill-color);\n",
              "      border-top-color: var(--fill-color);\n",
              "    }\n",
              "    30% {\n",
              "      border-color: transparent;\n",
              "      border-left-color: var(--fill-color);\n",
              "      border-top-color: var(--fill-color);\n",
              "      border-right-color: var(--fill-color);\n",
              "    }\n",
              "    40% {\n",
              "      border-color: transparent;\n",
              "      border-right-color: var(--fill-color);\n",
              "      border-top-color: var(--fill-color);\n",
              "    }\n",
              "    60% {\n",
              "      border-color: transparent;\n",
              "      border-right-color: var(--fill-color);\n",
              "    }\n",
              "    80% {\n",
              "      border-color: transparent;\n",
              "      border-right-color: var(--fill-color);\n",
              "      border-bottom-color: var(--fill-color);\n",
              "    }\n",
              "    90% {\n",
              "      border-color: transparent;\n",
              "      border-bottom-color: var(--fill-color);\n",
              "    }\n",
              "  }\n",
              "</style>\n",
              "\n",
              "      <script>\n",
              "        async function quickchart(key) {\n",
              "          const quickchartButtonEl =\n",
              "            document.querySelector('#' + key + ' button');\n",
              "          quickchartButtonEl.disabled = true;  // To prevent multiple clicks.\n",
              "          quickchartButtonEl.classList.add('colab-df-spinner');\n",
              "          try {\n",
              "            const charts = await google.colab.kernel.invokeFunction(\n",
              "                'suggestCharts', [key], {});\n",
              "          } catch (error) {\n",
              "            console.error('Error during call to suggestCharts:', error);\n",
              "          }\n",
              "          quickchartButtonEl.classList.remove('colab-df-spinner');\n",
              "          quickchartButtonEl.classList.add('colab-df-quickchart-complete');\n",
              "        }\n",
              "        (() => {\n",
              "          let quickchartButtonEl =\n",
              "            document.querySelector('#df-b3a38ae5-c026-4ca0-8b3a-35cad1568a76 button');\n",
              "          quickchartButtonEl.style.display =\n",
              "            google.colab.kernel.accessAllowed ? 'block' : 'none';\n",
              "        })();\n",
              "      </script>\n",
              "    </div>\n",
              "\n",
              "  <div id=\"id_54fff4d2-a6ac-46e8-91ec-02e7366afb20\">\n",
              "    <style>\n",
              "      .colab-df-generate {\n",
              "        background-color: #E8F0FE;\n",
              "        border: none;\n",
              "        border-radius: 50%;\n",
              "        cursor: pointer;\n",
              "        display: none;\n",
              "        fill: #1967D2;\n",
              "        height: 32px;\n",
              "        padding: 0 0 0 0;\n",
              "        width: 32px;\n",
              "      }\n",
              "\n",
              "      .colab-df-generate:hover {\n",
              "        background-color: #E2EBFA;\n",
              "        box-shadow: 0px 1px 2px rgba(60, 64, 67, 0.3), 0px 1px 3px 1px rgba(60, 64, 67, 0.15);\n",
              "        fill: #174EA6;\n",
              "      }\n",
              "\n",
              "      [theme=dark] .colab-df-generate {\n",
              "        background-color: #3B4455;\n",
              "        fill: #D2E3FC;\n",
              "      }\n",
              "\n",
              "      [theme=dark] .colab-df-generate:hover {\n",
              "        background-color: #434B5C;\n",
              "        box-shadow: 0px 1px 3px 1px rgba(0, 0, 0, 0.15);\n",
              "        filter: drop-shadow(0px 1px 2px rgba(0, 0, 0, 0.3));\n",
              "        fill: #FFFFFF;\n",
              "      }\n",
              "    </style>\n",
              "    <button class=\"colab-df-generate\" onclick=\"generateWithVariable('df_clean')\"\n",
              "            title=\"Generate code using this dataframe.\"\n",
              "            style=\"display:none;\">\n",
              "\n",
              "  <svg xmlns=\"http://www.w3.org/2000/svg\" height=\"24px\"viewBox=\"0 0 24 24\"\n",
              "       width=\"24px\">\n",
              "    <path d=\"M7,19H8.4L18.45,9,17,7.55,7,17.6ZM5,21V16.75L18.45,3.32a2,2,0,0,1,2.83,0l1.4,1.43a1.91,1.91,0,0,1,.58,1.4,1.91,1.91,0,0,1-.58,1.4L9.25,21ZM18.45,9,17,7.55Zm-12,3A5.31,5.31,0,0,0,4.9,8.1,5.31,5.31,0,0,0,1,6.5,5.31,5.31,0,0,0,4.9,4.9,5.31,5.31,0,0,0,6.5,1,5.31,5.31,0,0,0,8.1,4.9,5.31,5.31,0,0,0,12,6.5,5.46,5.46,0,0,0,6.5,12Z\"/>\n",
              "  </svg>\n",
              "    </button>\n",
              "    <script>\n",
              "      (() => {\n",
              "      const buttonEl =\n",
              "        document.querySelector('#id_54fff4d2-a6ac-46e8-91ec-02e7366afb20 button.colab-df-generate');\n",
              "      buttonEl.style.display =\n",
              "        google.colab.kernel.accessAllowed ? 'block' : 'none';\n",
              "\n",
              "      buttonEl.onclick = () => {\n",
              "        google.colab.notebook.generateWithVariable('df_clean');\n",
              "      }\n",
              "      })();\n",
              "    </script>\n",
              "  </div>\n",
              "\n",
              "    </div>\n",
              "  </div>\n"
            ],
            "application/vnd.google.colaboratory.intrinsic+json": {
              "type": "dataframe",
              "variable_name": "df_clean",
              "summary": "{\n  \"name\": \"df_clean\",\n  \"rows\": 1025,\n  \"fields\": [\n    {\n      \"column\": \"kategori\",\n      \"properties\": {\n        \"dtype\": \"category\",\n        \"num_unique_values\": 23,\n        \"samples\": [\n          \"wisata  religi\",\n          \"monumen\",\n          \"air terjun\"\n        ],\n        \"semantic_type\": \"\",\n        \"description\": \"\"\n      }\n    },\n    {\n      \"column\": \"nama_wisata\",\n      \"properties\": {\n        \"dtype\": \"string\",\n        \"num_unique_values\": 1025,\n        \"samples\": [\n          \"Pantai Sulamadaha\",\n          \"Museum Batik Pekalongan\",\n          \"Pantai Batu Bedaun\"\n        ],\n        \"semantic_type\": \"\",\n        \"description\": \"\"\n      }\n    },\n    {\n      \"column\": \"latitude\",\n      \"properties\": {\n        \"dtype\": \"number\",\n        \"std\": 3.3301622509946864,\n        \"min\": -10.8898977,\n        \"max\": 5.553631,\n        \"num_unique_values\": 937,\n        \"samples\": [\n          -6.2883341,\n          -8.0491348,\n          -8.4117272\n        ],\n        \"semantic_type\": \"\",\n        \"description\": \"\"\n      }\n    },\n    {\n      \"column\": \"longitude\",\n      \"properties\": {\n        \"dtype\": \"number\",\n        \"std\": 6.952516433364058,\n        \"min\": 95.3151652,\n        \"max\": 140.7692643,\n        \"num_unique_values\": 938,\n        \"samples\": [\n          111.7092032,\n          106.8129483,\n          104.7440276\n        ],\n        \"semantic_type\": \"\",\n        \"description\": \"\"\n      }\n    },\n    {\n      \"column\": \"alamat\",\n      \"properties\": {\n        \"dtype\": \"string\",\n        \"num_unique_values\": 939,\n        \"samples\": [\n          \"Paris Van Java, Jalan Karang Tinggal, Cipedes, Sukasari, Kota Bandung, Jawa Barat, Jawa, 40161, Indonesia\",\n          \"Alun-Alun Sidoarjo, Pucanganom, Sidoarjo, Jawa Timur, Jawa, Indonesia\",\n          \"Candi Mendut, Jalan Mayor Kusen, Ngrajek, Mendut, Magelang, Jawa Tengah, Jawa, 56511, Indonesia\"\n        ],\n        \"semantic_type\": \"\",\n        \"description\": \"\"\n      }\n    },\n    {\n      \"column\": \"provinsi\",\n      \"properties\": {\n        \"dtype\": \"category\",\n        \"num_unique_values\": 36,\n        \"samples\": [\n          \"Papua\",\n          \"Kalimantan Tengah\",\n          \"Kalimantan Timur\"\n        ],\n        \"semantic_type\": \"\",\n        \"description\": \"\"\n      }\n    },\n    {\n      \"column\": \"kota_kabupaten\",\n      \"properties\": {\n        \"dtype\": \"category\",\n        \"num_unique_values\": 255,\n        \"samples\": [\n          \"Kutai Timur\",\n          \"Tasikmalaya\",\n          \"Badung\"\n        ],\n        \"semantic_type\": \"\",\n        \"description\": \"\"\n      }\n    },\n    {\n      \"column\": \"nama_lengkap\",\n      \"properties\": {\n        \"dtype\": \"string\",\n        \"num_unique_values\": 1025,\n        \"samples\": [\n          \"Pantai Sulamadaha, Ternate, Maluku Utara\",\n          \"Museum Batik Pekalongan, Pekalongan, Jawa Tengah\",\n          \"Pantai Batu Bedaun, Bangka, Kepulauan Bangka Belitung\"\n        ],\n        \"semantic_type\": \"\",\n        \"description\": \"\"\n      }\n    },\n    {\n      \"column\": \"path_gambar\",\n      \"properties\": {\n        \"dtype\": \"string\",\n        \"num_unique_values\": 1025,\n        \"samples\": [\n          \"gambar_wisata/Pantai_Sulamadaha\",\n          \"gambar_wisata/Museum_Batik_Pekalongan\",\n          \"gambar_wisata/Pantai_Batu_Bedaun\"\n        ],\n        \"semantic_type\": \"\",\n        \"description\": \"\"\n      }\n    },\n    {\n      \"column\": \"deskripsi_bersih\",\n      \"properties\": {\n        \"dtype\": \"string\",\n        \"num_unique_values\": 515,\n        \"samples\": [\n          \"Pantai Plengkung, atau lebih dikenal dengan nama G-Land, adalah pantai yang terletak dalam kawasan Taman Nasional Alas Purwo, Kabupaten Banyuwangi, Jawa Timur. Plengkung dapat dicapai selama setengah hari perjalanan darat dari Bali.\",\n          \"Pura Ulun Danu Bratan (ejaan tidak baku: Pura Ulun Danu Beratan, bahasa Bali:        , translit. Pura Ulun Danu B ratan., disebut juga Bratan Pura)adalah sebuah pura dan candi air besar di Bali - candi utama air lainnya menjadi Pura Ulun Danu Batur.\",\n          \"Desa Ciburial adalah salah satu desa di kecamatan Cimenyan, Kabupaten Bandung, provinsi Jawa Barat, Indonesia. Desa ini merupakan desa yang berada paling utara di Kabupaten Bandung.\"\n        ],\n        \"semantic_type\": \"\",\n        \"description\": \"\"\n      }\n    }\n  ]\n}"
            }
          },
          "metadata": {},
          "execution_count": 213
        }
      ]
    },
    {
      "cell_type": "code",
      "source": [
        "csv_string = df_clean.to_csv(index=False)\n",
        "from google.colab import files\n",
        "with open('wisata_indonesia_final.csv', 'w') as f:\n",
        "  f.write(csv_string)\n",
        "\n",
        "files.download('wisata_indonesia_final.csv')"
      ],
      "metadata": {
        "colab": {
          "base_uri": "https://localhost:8080/",
          "height": 17
        },
        "id": "HnDp8oe4X8pC",
        "outputId": "06114614-6298-4824-badc-cd586716f212"
      },
      "execution_count": null,
      "outputs": [
        {
          "output_type": "display_data",
          "data": {
            "text/plain": [
              "<IPython.core.display.Javascript object>"
            ],
            "application/javascript": [
              "\n",
              "    async function download(id, filename, size) {\n",
              "      if (!google.colab.kernel.accessAllowed) {\n",
              "        return;\n",
              "      }\n",
              "      const div = document.createElement('div');\n",
              "      const label = document.createElement('label');\n",
              "      label.textContent = `Downloading \"${filename}\": `;\n",
              "      div.appendChild(label);\n",
              "      const progress = document.createElement('progress');\n",
              "      progress.max = size;\n",
              "      div.appendChild(progress);\n",
              "      document.body.appendChild(div);\n",
              "\n",
              "      const buffers = [];\n",
              "      let downloaded = 0;\n",
              "\n",
              "      const channel = await google.colab.kernel.comms.open(id);\n",
              "      // Send a message to notify the kernel that we're ready.\n",
              "      channel.send({})\n",
              "\n",
              "      for await (const message of channel.messages) {\n",
              "        // Send a message to notify the kernel that we're ready.\n",
              "        channel.send({})\n",
              "        if (message.buffers) {\n",
              "          for (const buffer of message.buffers) {\n",
              "            buffers.push(buffer);\n",
              "            downloaded += buffer.byteLength;\n",
              "            progress.value = downloaded;\n",
              "          }\n",
              "        }\n",
              "      }\n",
              "      const blob = new Blob(buffers, {type: 'application/binary'});\n",
              "      const a = document.createElement('a');\n",
              "      a.href = window.URL.createObjectURL(blob);\n",
              "      a.download = filename;\n",
              "      div.appendChild(a);\n",
              "      a.click();\n",
              "      div.remove();\n",
              "    }\n",
              "  "
            ]
          },
          "metadata": {}
        },
        {
          "output_type": "display_data",
          "data": {
            "text/plain": [
              "<IPython.core.display.Javascript object>"
            ],
            "application/javascript": [
              "download(\"download_d7a36ad0-250f-419f-9257-9dce754a380e\", \"wisata_indonesia_final.csv\", 479665)"
            ]
          },
          "metadata": {}
        }
      ]
    },
    {
      "cell_type": "code",
      "source": [
        "preferred_categories = [\"gunung\", \"taman\", \"pantai\"]\n",
        "user_provinsi = \"Jawa Timur\"\n",
        "\n",
        "filtered_df = df_clean[df_clean['provinsi'].str.lower() == user_provinsi.lower()].copy()\n",
        "filtered_df['label'] = filtered_df['kategori'].apply(lambda x: 1 if x in preferred_categories else 0)\n",
        "\n",
        "\n",
        "print(\"Data setelah filter:\", filtered_df.shape)"
      ],
      "metadata": {
        "id": "BWpwHEReawLi",
        "colab": {
          "base_uri": "https://localhost:8080/"
        },
        "outputId": "f832264b-b338-47f5-f7d3-a30a6a620bb3"
      },
      "execution_count": null,
      "outputs": [
        {
          "output_type": "stream",
          "name": "stdout",
          "text": [
            "Data setelah filter: (209, 11)\n"
          ]
        }
      ]
    },
    {
      "cell_type": "markdown",
      "source": [
        "# **Modelling: Skor Cosine Similarity**"
      ],
      "metadata": {
        "id": "ScBFDFUZjOlR"
      }
    },
    {
      "cell_type": "code",
      "source": [
        "tfidf = TfidfVectorizer(stop_words=stopwords_indonesia)\n",
        "tfidf_matrix = tfidf.fit_transform(filtered_df['deskripsi_bersih'])"
      ],
      "metadata": {
        "colab": {
          "base_uri": "https://localhost:8080/"
        },
        "id": "a23HqPwjqNpy",
        "outputId": "9bb6f29b-1d8c-4c63-a7db-802bbdbbc868"
      },
      "execution_count": null,
      "outputs": [
        {
          "output_type": "stream",
          "name": "stderr",
          "text": [
            "/usr/local/lib/python3.11/dist-packages/sklearn/feature_extraction/text.py:402: UserWarning: Your stop_words may be inconsistent with your preprocessing. Tokenizing the stop words generated tokens ['baiknya', 'berkali', 'kali', 'kurangnya', 'mata', 'olah', 'sekurang', 'setidak', 'tama', 'tidaknya'] not in stop_words.\n",
            "  warnings.warn(\n"
          ]
        }
      ]
    },
    {
      "cell_type": "code",
      "source": [
        "user_pref_kategori = \" \".join(preferred_categories)\n",
        "user_vector = tfidf.transform([user_pref_kategori])\n",
        "cosine_sim = cosine_similarity(user_vector, tfidf_matrix).flatten()"
      ],
      "metadata": {
        "id": "hRLUn2gkqQbw"
      },
      "execution_count": null,
      "outputs": []
    },
    {
      "cell_type": "code",
      "source": [
        "filtered_df['score'] = cosine_sim"
      ],
      "metadata": {
        "id": "g8yTIBxyqWTs"
      },
      "execution_count": null,
      "outputs": []
    },
    {
      "cell_type": "markdown",
      "source": [
        "# **Feature Engineering**"
      ],
      "metadata": {
        "id": "mWKcOVNTCXsF"
      }
    },
    {
      "cell_type": "code",
      "source": [
        "filtered_df['desc_len'] = filtered_df['deskripsi_bersih'].apply(lambda x: len(str(x).split()))"
      ],
      "metadata": {
        "id": "WPS_ReSjFggW"
      },
      "execution_count": null,
      "outputs": []
    },
    {
      "cell_type": "code",
      "source": [
        "le_kategori = LabelEncoder()\n",
        "le_provinsi = LabelEncoder()"
      ],
      "metadata": {
        "id": "uoNl5eVIbInw"
      },
      "execution_count": null,
      "outputs": []
    },
    {
      "cell_type": "code",
      "source": [
        "filtered_df['desc_len'] = filtered_df['deskripsi_bersih'].apply(lambda x: len(str(x).split()))\n",
        "filtered_df['kategori_enc'] = le_kategori.fit_transform(filtered_df['kategori'])\n",
        "filtered_df['provinsi_enc'] = le_provinsi.fit_transform(filtered_df['provinsi'])\n",
        "filtered_df['is_preferred_category'] = filtered_df['kategori'].apply(lambda x: 1 if x in preferred_categories else 0)"
      ],
      "metadata": {
        "id": "OAVfRHLjbR9H"
      },
      "execution_count": null,
      "outputs": []
    },
    {
      "cell_type": "code",
      "source": [
        "X = filtered_df[['kategori_enc', 'provinsi_enc', 'desc_len', 'is_preferred_category']]\n",
        "y = filtered_df['score']"
      ],
      "metadata": {
        "id": "IOHVfYdpcj3_"
      },
      "execution_count": null,
      "outputs": []
    },
    {
      "cell_type": "code",
      "source": [
        "scaler = MinMaxScaler()\n",
        "X_scaled = scaler.fit_transform(X)"
      ],
      "metadata": {
        "id": "_724P0-UCd7V"
      },
      "execution_count": null,
      "outputs": []
    },
    {
      "cell_type": "code",
      "source": [
        "X_train, X_test, y_train, y_test = train_test_split(X_scaled, y, test_size=0.2, random_state=42)"
      ],
      "metadata": {
        "id": "BlbD_7HtCgeC"
      },
      "execution_count": null,
      "outputs": []
    },
    {
      "cell_type": "code",
      "source": [
        "df_clean['kategori'].unique()"
      ],
      "metadata": {
        "colab": {
          "base_uri": "https://localhost:8080/"
        },
        "id": "7j03d1y56m2Y",
        "outputId": "05493315-9b29-424a-fee7-52777b29b205"
      },
      "execution_count": null,
      "outputs": [
        {
          "output_type": "execute_result",
          "data": {
            "text/plain": [
              "array(['air terjun', 'alun-alun', 'bukit', 'cafe view', 'candi', 'gunung',\n",
              "       'kebun binatang', 'lembah', 'mall', 'monumen', 'museum', 'pantai',\n",
              "       'rumah adat', 'taman', 'wahana keluarga', 'wisata  religi',\n",
              "       'wisata alam', 'wisata edukasi', 'wisata kerajaan',\n",
              "       'wisata kuliner', 'wisata lampion', 'wisata religi',\n",
              "       'wisata tematik'], dtype=object)"
            ]
          },
          "metadata": {},
          "execution_count": 225
        }
      ]
    },
    {
      "cell_type": "markdown",
      "source": [
        "# **Modelling dengan TensorFlow**"
      ],
      "metadata": {
        "id": "uRaLnK0ICjSv"
      }
    },
    {
      "cell_type": "code",
      "source": [
        "from tensorflow.keras.models import Sequential\n",
        "from tensorflow.keras.layers import Dense, Dropout, Input\n",
        "from tensorflow.keras.optimizers import Adam\n",
        "\n",
        "model = Sequential([\n",
        "    Input(batch_shape=(4, 4)),  # <-- batch size = 4, fitur = 4\n",
        "    Dense(64, activation='relu'),\n",
        "    Dropout(0.3),\n",
        "    Dense(32, activation='relu'),\n",
        "    Dropout(0.2),\n",
        "    Dense(1, activation='sigmoid')\n",
        "])\n",
        "\n",
        "model.compile(optimizer=Adam(learning_rate=0.001), loss='mse', metrics=['mae'])\n"
      ],
      "metadata": {
        "id": "S0XrC_u1Cj1R"
      },
      "execution_count": null,
      "outputs": []
    },
    {
      "cell_type": "code",
      "source": [
        "history = model.fit(X_train, y_train, epochs=30, batch_size=16, validation_split=0.2)"
      ],
      "metadata": {
        "colab": {
          "base_uri": "https://localhost:8080/"
        },
        "id": "gI-oQ7irCoBN",
        "outputId": "e8e428c5-5b01-4b72-fd9a-5b0fa7d335f9"
      },
      "execution_count": null,
      "outputs": [
        {
          "output_type": "stream",
          "name": "stdout",
          "text": [
            "Epoch 1/30\n",
            "\u001b[1m9/9\u001b[0m \u001b[32m━━━━━━━━━━━━━━━━━━━━\u001b[0m\u001b[37m\u001b[0m \u001b[1m2s\u001b[0m 31ms/step - loss: 0.2171 - mae: 0.4554 - val_loss: 0.1970 - val_mae: 0.4320\n",
            "Epoch 2/30\n",
            "\u001b[1m9/9\u001b[0m \u001b[32m━━━━━━━━━━━━━━━━━━━━\u001b[0m\u001b[37m\u001b[0m \u001b[1m0s\u001b[0m 12ms/step - loss: 0.1862 - mae: 0.4224 - val_loss: 0.1611 - val_mae: 0.3887\n",
            "Epoch 3/30\n",
            "\u001b[1m9/9\u001b[0m \u001b[32m━━━━━━━━━━━━━━━━━━━━\u001b[0m\u001b[37m\u001b[0m \u001b[1m0s\u001b[0m 11ms/step - loss: 0.1521 - mae: 0.3765 - val_loss: 0.1255 - val_mae: 0.3419\n",
            "Epoch 4/30\n",
            "\u001b[1m9/9\u001b[0m \u001b[32m━━━━━━━━━━━━━━━━━━━━\u001b[0m\u001b[37m\u001b[0m \u001b[1m0s\u001b[0m 10ms/step - loss: 0.1167 - mae: 0.3212 - val_loss: 0.0911 - val_mae: 0.2885\n",
            "Epoch 5/30\n",
            "\u001b[1m9/9\u001b[0m \u001b[32m━━━━━━━━━━━━━━━━━━━━\u001b[0m\u001b[37m\u001b[0m \u001b[1m0s\u001b[0m 11ms/step - loss: 0.0862 - mae: 0.2757 - val_loss: 0.0605 - val_mae: 0.2322\n",
            "Epoch 6/30\n",
            "\u001b[1m9/9\u001b[0m \u001b[32m━━━━━━━━━━━━━━━━━━━━\u001b[0m\u001b[37m\u001b[0m \u001b[1m0s\u001b[0m 11ms/step - loss: 0.0620 - mae: 0.2372 - val_loss: 0.0383 - val_mae: 0.1843\n",
            "Epoch 7/30\n",
            "\u001b[1m9/9\u001b[0m \u001b[32m━━━━━━━━━━━━━━━━━━━━\u001b[0m\u001b[37m\u001b[0m \u001b[1m0s\u001b[0m 11ms/step - loss: 0.0391 - mae: 0.1847 - val_loss: 0.0253 - val_mae: 0.1473\n",
            "Epoch 8/30\n",
            "\u001b[1m9/9\u001b[0m \u001b[32m━━━━━━━━━━━━━━━━━━━━\u001b[0m\u001b[37m\u001b[0m \u001b[1m0s\u001b[0m 15ms/step - loss: 0.0255 - mae: 0.1473 - val_loss: 0.0185 - val_mae: 0.1224\n",
            "Epoch 9/30\n",
            "\u001b[1m9/9\u001b[0m \u001b[32m━━━━━━━━━━━━━━━━━━━━\u001b[0m\u001b[37m\u001b[0m \u001b[1m0s\u001b[0m 15ms/step - loss: 0.0168 - mae: 0.1149 - val_loss: 0.0152 - val_mae: 0.1058\n",
            "Epoch 10/30\n",
            "\u001b[1m9/9\u001b[0m \u001b[32m━━━━━━━━━━━━━━━━━━━━\u001b[0m\u001b[37m\u001b[0m \u001b[1m0s\u001b[0m 17ms/step - loss: 0.0136 - mae: 0.0993 - val_loss: 0.0134 - val_mae: 0.0946\n",
            "Epoch 11/30\n",
            "\u001b[1m9/9\u001b[0m \u001b[32m━━━━━━━━━━━━━━━━━━━━\u001b[0m\u001b[37m\u001b[0m \u001b[1m0s\u001b[0m 19ms/step - loss: 0.0143 - mae: 0.0977 - val_loss: 0.0123 - val_mae: 0.0867\n",
            "Epoch 12/30\n",
            "\u001b[1m9/9\u001b[0m \u001b[32m━━━━━━━━━━━━━━━━━━━━\u001b[0m\u001b[37m\u001b[0m \u001b[1m0s\u001b[0m 15ms/step - loss: 0.0124 - mae: 0.0878 - val_loss: 0.0116 - val_mae: 0.0801\n",
            "Epoch 13/30\n",
            "\u001b[1m9/9\u001b[0m \u001b[32m━━━━━━━━━━━━━━━━━━━━\u001b[0m\u001b[37m\u001b[0m \u001b[1m0s\u001b[0m 15ms/step - loss: 0.0109 - mae: 0.0797 - val_loss: 0.0111 - val_mae: 0.0749\n",
            "Epoch 14/30\n",
            "\u001b[1m9/9\u001b[0m \u001b[32m━━━━━━━━━━━━━━━━━━━━\u001b[0m\u001b[37m\u001b[0m \u001b[1m0s\u001b[0m 17ms/step - loss: 0.0109 - mae: 0.0777 - val_loss: 0.0108 - val_mae: 0.0713\n",
            "Epoch 15/30\n",
            "\u001b[1m9/9\u001b[0m \u001b[32m━━━━━━━━━━━━━━━━━━━━\u001b[0m\u001b[37m\u001b[0m \u001b[1m0s\u001b[0m 20ms/step - loss: 0.0085 - mae: 0.0687 - val_loss: 0.0105 - val_mae: 0.0684\n",
            "Epoch 16/30\n",
            "\u001b[1m9/9\u001b[0m \u001b[32m━━━━━━━━━━━━━━━━━━━━\u001b[0m\u001b[37m\u001b[0m \u001b[1m0s\u001b[0m 18ms/step - loss: 0.0107 - mae: 0.0744 - val_loss: 0.0103 - val_mae: 0.0662\n",
            "Epoch 17/30\n",
            "\u001b[1m9/9\u001b[0m \u001b[32m━━━━━━━━━━━━━━━━━━━━\u001b[0m\u001b[37m\u001b[0m \u001b[1m0s\u001b[0m 19ms/step - loss: 0.0107 - mae: 0.0723 - val_loss: 0.0101 - val_mae: 0.0649\n",
            "Epoch 18/30\n",
            "\u001b[1m9/9\u001b[0m \u001b[32m━━━━━━━━━━━━━━━━━━━━\u001b[0m\u001b[37m\u001b[0m \u001b[1m0s\u001b[0m 20ms/step - loss: 0.0090 - mae: 0.0670 - val_loss: 0.0099 - val_mae: 0.0635\n",
            "Epoch 19/30\n",
            "\u001b[1m9/9\u001b[0m \u001b[32m━━━━━━━━━━━━━━━━━━━━\u001b[0m\u001b[37m\u001b[0m \u001b[1m0s\u001b[0m 16ms/step - loss: 0.0084 - mae: 0.0637 - val_loss: 0.0098 - val_mae: 0.0617\n",
            "Epoch 20/30\n",
            "\u001b[1m9/9\u001b[0m \u001b[32m━━━━━━━━━━━━━━━━━━━━\u001b[0m\u001b[37m\u001b[0m \u001b[1m0s\u001b[0m 10ms/step - loss: 0.0094 - mae: 0.0678 - val_loss: 0.0096 - val_mae: 0.0602\n",
            "Epoch 21/30\n",
            "\u001b[1m9/9\u001b[0m \u001b[32m━━━━━━━━━━━━━━━━━━━━\u001b[0m\u001b[37m\u001b[0m \u001b[1m0s\u001b[0m 11ms/step - loss: 0.0082 - mae: 0.0588 - val_loss: 0.0094 - val_mae: 0.0589\n",
            "Epoch 22/30\n",
            "\u001b[1m9/9\u001b[0m \u001b[32m━━━━━━━━━━━━━━━━━━━━\u001b[0m\u001b[37m\u001b[0m \u001b[1m0s\u001b[0m 11ms/step - loss: 0.0100 - mae: 0.0669 - val_loss: 0.0092 - val_mae: 0.0575\n",
            "Epoch 23/30\n",
            "\u001b[1m9/9\u001b[0m \u001b[32m━━━━━━━━━━━━━━━━━━━━\u001b[0m\u001b[37m\u001b[0m \u001b[1m0s\u001b[0m 16ms/step - loss: 0.0062 - mae: 0.0529 - val_loss: 0.0090 - val_mae: 0.0565\n",
            "Epoch 24/30\n",
            "\u001b[1m9/9\u001b[0m \u001b[32m━━━━━━━━━━━━━━━━━━━━\u001b[0m\u001b[37m\u001b[0m \u001b[1m0s\u001b[0m 11ms/step - loss: 0.0078 - mae: 0.0565 - val_loss: 0.0088 - val_mae: 0.0559\n",
            "Epoch 25/30\n",
            "\u001b[1m9/9\u001b[0m \u001b[32m━━━━━━━━━━━━━━━━━━━━\u001b[0m\u001b[37m\u001b[0m \u001b[1m0s\u001b[0m 12ms/step - loss: 0.0074 - mae: 0.0553 - val_loss: 0.0086 - val_mae: 0.0553\n",
            "Epoch 26/30\n",
            "\u001b[1m9/9\u001b[0m \u001b[32m━━━━━━━━━━━━━━━━━━━━\u001b[0m\u001b[37m\u001b[0m \u001b[1m0s\u001b[0m 11ms/step - loss: 0.0077 - mae: 0.0582 - val_loss: 0.0083 - val_mae: 0.0546\n",
            "Epoch 27/30\n",
            "\u001b[1m9/9\u001b[0m \u001b[32m━━━━━━━━━━━━━━━━━━━━\u001b[0m\u001b[37m\u001b[0m \u001b[1m0s\u001b[0m 11ms/step - loss: 0.0061 - mae: 0.0548 - val_loss: 0.0081 - val_mae: 0.0538\n",
            "Epoch 28/30\n",
            "\u001b[1m9/9\u001b[0m \u001b[32m━━━━━━━━━━━━━━━━━━━━\u001b[0m\u001b[37m\u001b[0m \u001b[1m0s\u001b[0m 11ms/step - loss: 0.0065 - mae: 0.0555 - val_loss: 0.0079 - val_mae: 0.0529\n",
            "Epoch 29/30\n",
            "\u001b[1m9/9\u001b[0m \u001b[32m━━━━━━━━━━━━━━━━━━━━\u001b[0m\u001b[37m\u001b[0m \u001b[1m0s\u001b[0m 15ms/step - loss: 0.0053 - mae: 0.0472 - val_loss: 0.0077 - val_mae: 0.0519\n",
            "Epoch 30/30\n",
            "\u001b[1m9/9\u001b[0m \u001b[32m━━━━━━━━━━━━━━━━━━━━\u001b[0m\u001b[37m\u001b[0m \u001b[1m0s\u001b[0m 11ms/step - loss: 0.0049 - mae: 0.0489 - val_loss: 0.0075 - val_mae: 0.0508\n"
          ]
        }
      ]
    },
    {
      "cell_type": "markdown",
      "source": [
        "# **Evaluasi Model**"
      ],
      "metadata": {
        "id": "3UTvRcodjURH"
      }
    },
    {
      "cell_type": "code",
      "source": [
        "# Ambil ground truth dan hasil rekomendasi\n",
        "filtered_df['label'] = filtered_df['kategori'].apply(lambda x: 1 if x in preferred_categories else 0)\n",
        "\n",
        "# Urutkan berdasarkan skor cosine similarity\n",
        "filtered_df_sorted = filtered_df.sort_values(by='score', ascending=False)\n",
        "top_k = 10\n",
        "top_k_recommendations = filtered_df_sorted.head(top_k)\n",
        "ground_truth = filtered_df[filtered_df['label'] == 1]['nama_wisata'].values\n",
        "predicted = top_k_recommendations['nama_wisata'].values\n",
        "\n",
        "def precision_recall_at_k(ground_truth, predicted, k):\n",
        "    predicted_k = predicted[:k]\n",
        "    relevant = set(ground_truth)\n",
        "    retrieved = set(predicted_k)\n",
        "    true_positive = relevant.intersection(retrieved)\n",
        "\n",
        "    precision = len(true_positive) / k\n",
        "    recall = len(true_positive) / len(relevant) if len(relevant) > 0 else 0.0\n",
        "\n",
        "    return precision, recall\n",
        "\n",
        "precision, recall = precision_recall_at_k(ground_truth, predicted, top_k)\n",
        "print(f\"Precision@{top_k}: {precision:.2f}\")\n",
        "print(f\"Recall@{top_k}: {recall:.2f}\")\n"
      ],
      "metadata": {
        "colab": {
          "base_uri": "https://localhost:8080/"
        },
        "id": "KUKcotyPBu6r",
        "outputId": "383c4a60-b2c7-4898-b2dd-30b2281f692f"
      },
      "execution_count": null,
      "outputs": [
        {
          "output_type": "stream",
          "name": "stdout",
          "text": [
            "Precision@10: 1.00\n",
            "Recall@10: 0.28\n"
          ]
        }
      ]
    },
    {
      "cell_type": "code",
      "source": [
        "loss, mae = model.evaluate(X_test, y_test)\n",
        "print(f\"Loss: {loss:.4f} | MAE: {mae:.4f}\")"
      ],
      "metadata": {
        "colab": {
          "base_uri": "https://localhost:8080/"
        },
        "id": "zllw6k1qco0C",
        "outputId": "dfe6b3b9-e813-4b36-d751-b600b916c357"
      },
      "execution_count": null,
      "outputs": [
        {
          "output_type": "stream",
          "name": "stdout",
          "text": [
            "\u001b[1m2/2\u001b[0m \u001b[32m━━━━━━━━━━━━━━━━━━━━\u001b[0m\u001b[37m\u001b[0m \u001b[1m0s\u001b[0m 34ms/step - loss: 0.0030 - mae: 0.0357\n",
            "Loss: 0.0036 | MAE: 0.0378\n"
          ]
        }
      ]
    },
    {
      "cell_type": "markdown",
      "source": [
        "# **Prediksi & Rekomendasi**"
      ],
      "metadata": {
        "id": "-dl3qsitCuFL"
      }
    },
    {
      "cell_type": "code",
      "source": [
        "filtered_df['predicted_score'] = model.predict(X_scaled).flatten()\n",
        "top_rekomendasi = filtered_df.sort_values(by='predicted_score', ascending=False).head(10)"
      ],
      "metadata": {
        "colab": {
          "base_uri": "https://localhost:8080/"
        },
        "id": "CCS52G2fcsD7",
        "outputId": "35dc8502-fc95-4fdf-ac07-0a24293d8855"
      },
      "execution_count": null,
      "outputs": [
        {
          "output_type": "stream",
          "name": "stdout",
          "text": [
            "\u001b[1m7/7\u001b[0m \u001b[32m━━━━━━━━━━━━━━━━━━━━\u001b[0m\u001b[37m\u001b[0m \u001b[1m0s\u001b[0m 10ms/step\n"
          ]
        }
      ]
    },
    {
      "cell_type": "code",
      "source": [
        "import matplotlib.pyplot as plt\n",
        "# Visualisasi hasil evaluasi model\n",
        "plt.figure(figsize=(12, 6))\n",
        "plt.plot(history.history['loss'], label='Training Loss')\n",
        "plt.plot(history.history['val_loss'], label='Validation Loss')\n",
        "plt.title('Model Loss during Training')\n",
        "plt.xlabel('Epoch')\n",
        "plt.ylabel('Loss (MSE)')\n",
        "plt.legend()\n",
        "plt.show()\n",
        "\n",
        "plt.figure(figsize=(12, 6))\n",
        "plt.plot(history.history['mae'], label='Training MAE')\n",
        "plt.plot(history.history['val_mae'], label='Validation MAE')\n",
        "plt.title('Model MAE during Training')\n",
        "plt.xlabel('Epoch')\n",
        "plt.ylabel('Mean Absolute Error')\n",
        "plt.legend()\n",
        "plt.show()"
      ],
      "metadata": {
        "colab": {
          "base_uri": "https://localhost:8080/",
          "height": 1000
        },
        "id": "0YeDzhaTNiTh",
        "outputId": "2e0facce-dc59-4d8a-faee-513988b9c059"
      },
      "execution_count": null,
      "outputs": [
        {
          "output_type": "display_data",
          "data": {
            "text/plain": [
              "<Figure size 1200x600 with 1 Axes>"
            ],
            "image/png": "[encoded data removed]"
          },
          "metadata": {}
        },
        {
          "output_type": "display_data",
          "data": {
            "text/plain": [
              "<Figure size 1200x600 with 1 Axes>"
            ],
            "image/png": "[encoded data removed]"
          },
          "metadata": {}
        }
      ]
    },
    {
      "cell_type": "markdown",
      "source": [
        "# Rekomendasi dari Preferensi User"
      ],
      "metadata": {
        "id": "lcutBw5NHaUb"
      }
    },
    {
      "cell_type": "code",
      "source": [
        "def rekomendasi_wisata_berbobot(preferred_categories, user_provinsi, df, model, le_kategori, le_provinsi, scaler, weight_model=0.3, weight_tfidf=0.7):\n",
        "    # Filter data sesuai provinsi\n",
        "    filtered_df = df[df['provinsi'].str.lower() == user_provinsi.lower()].copy()\n",
        "    if 'deskripsi_bersih' not in filtered_df.columns:\n",
        "        filtered_df['deskripsi_bersih'] = filtered_df['deskripsi'].apply(bersihkan_deskripsi)\n",
        "\n",
        "    # Hitung TF-IDF cosine similarity\n",
        "    tfidf = TfidfVectorizer(stop_words=stopwords_indonesia)\n",
        "    tfidf_matrix = tfidf.fit_transform(filtered_df['deskripsi_bersih'])\n",
        "    user_pref_kategori = \" \".join(preferred_categories)\n",
        "    user_vector = tfidf.transform([user_pref_kategori])\n",
        "    cosine_sim = cosine_similarity(user_vector, tfidf_matrix).flatten()\n",
        "    filtered_df['cosine_score'] = cosine_sim\n",
        "\n",
        "    # Feature engineering untuk model\n",
        "    filtered_df['desc_len'] = filtered_df['deskripsi_bersih'].apply(lambda x: len(str(x).split()))\n",
        "    filtered_df['kategori_enc'] = le_kategori.transform(filtered_df['kategori'])\n",
        "    filtered_df['provinsi_enc'] = le_provinsi.transform(filtered_df['provinsi'])\n",
        "    filtered_df['is_preferred_category'] = filtered_df['kategori'].apply(lambda x: 1 if x in preferred_categories else 0)\n",
        "\n",
        "    X = filtered_df[['kategori_enc', 'provinsi_enc', 'desc_len', 'is_preferred_category']]\n",
        "    X_scaled = scaler.transform(X)\n",
        "\n",
        "    # Prediksi skor dengan model TensorFlow\n",
        "    filtered_df['model_score'] = model.predict(X_scaled).flatten()\n",
        "    filtered_df['final_score'] = weight_model * filtered_df['model_score'] + weight_tfidf * filtered_df['cosine_score']\n",
        "\n",
        "    # Ambil top 10 rekomendasi berdasarkan final_score\n",
        "    top_rekomendasi = filtered_df.sort_values(by='final_score', ascending=False).head(10)\n",
        "\n",
        "    # Tampilkan kolom yang diminta plus skor\n",
        "    return top_rekomendasi[['nama_wisata', 'provinsi', 'alamat', 'deskripsi_bersih', 'kota_kabupaten', 'final_score', 'cosine_score', 'model_score']]\n"
      ],
      "metadata": {
        "id": "GXqIcGhXG4vY"
      },
      "execution_count": null,
      "outputs": []
    },
    {
      "cell_type": "code",
      "source": [
        "valid_categories = df_clean[\"kategori\"].unique()\n",
        "\n",
        "filtered_preferred_categories = [cat for cat in preferred_categories if cat in valid_categories]\n",
        "\n",
        "if not filtered_preferred_categories:\n",
        "    print(\"Maaf, tidak ada kategori yang cocok dengan preferensi Anda.\")\n",
        "else:\n",
        "    hasil_rekomendasi = rekomendasi_wisata_berbobot(\n",
        "        filtered_preferred_categories,\n",
        "        user_provinsi,\n",
        "        df_clean,\n",
        "        model,\n",
        "        le_kategori,\n",
        "        le_provinsi,\n",
        "        scaler\n",
        "    )\n",
        "    print(hasil_rekomendasi)"
      ],
      "metadata": {
        "colab": {
          "base_uri": "https://localhost:8080/"
        },
        "id": "k4dbdua2G6Bn",
        "outputId": "dad53ed1-afdc-4ba5-9b20-4c64e2eb6b5a"
      },
      "execution_count": null,
      "outputs": [
        {
          "output_type": "stream",
          "name": "stdout",
          "text": [
            "\u001b[1m7/7\u001b[0m \u001b[32m━━━━━━━━━━━━━━━━━━━━\u001b[0m\u001b[37m\u001b[0m \u001b[1m0s\u001b[0m 4ms/step \n",
            "                nama_wisata    provinsi  \\\n",
            "512        Pantai Rajegwesi  Jawa Timur   \n",
            "574  Taman Nasional Baluran  Jawa Timur   \n",
            "225           Gunung Semeru  Jawa Timur   \n",
            "453             Pantai Boom  Jawa Timur   \n",
            "169           Gunung Arjuno  Jawa Timur   \n",
            "239         Gunung Welirang  Jawa Timur   \n",
            "529       Pantai Tambakrejo  Jawa Timur   \n",
            "509        Pantai Plengkung  Jawa Timur   \n",
            "473           Pantai Klayar  Jawa Timur   \n",
            "511            Pantai Popoh  Jawa Timur   \n",
            "\n",
            "                                                alamat  \\\n",
            "512  Pantai Rajegwesi, Rajegwesi, Banyuwangi, Jawa ...   \n",
            "574  Taman Nasional Baluran, Situbondo, Banyuwangi,...   \n",
            "225  Gunung Semeru, Lumajang, Jawa Timur, Jawa, Ind...   \n",
            "453  Pantai Boom, Krajan, Banyuwangi, Kampungmandar...   \n",
            "169  Gunung Arjuno, Bumirejo, Kabupaten Malang, Jaw...   \n",
            "239  Gunung Welirang, Pacet, Mojokerto, Jawa Timur,...   \n",
            "529  Pantai Tambakrejo, Jalan Pantai, Tambakrejo, B...   \n",
            "509  Pantai Plengkung, G-Land, Banyuwangi, Jawa Tim...   \n",
            "473  Pantai Klayar, Pacitan, Jawa Timur, Jawa, Indo...   \n",
            "511  Jalan Pantai Popoh, Tulungagung, Jawa Timur, J...   \n",
            "\n",
            "                                      deskripsi_bersih    kota_kabupaten  \\\n",
            "512  Pantai Rajegwesi adalah sebuah pantai yang ter...        Banyuwangi   \n",
            "574  Taman Nasional Baluran adalah salah satu taman...         Situbondo   \n",
            "225  Gunung Semeru atau Gunung Meru adalah sebuah g...          Lumajang   \n",
            "453  Pantai Boom adalah sebuah pantai yang terletak...        Banyuwangi   \n",
            "169  Gunung Arjuno (terkadang dieja Gunung Arjuna) ...  Kabupaten Malang   \n",
            "239  Gunung Welirang adalah sebuah gunung berapi ak...         Mojokerto   \n",
            "529  Pantai Tambakrejo merupakan sebuah pantai yang...            Blitar   \n",
            "509  Pantai Plengkung, atau lebih dikenal dengan na...        Banyuwangi   \n",
            "473  Pantai Klayar adalah sebuah pantai dengan pasi...           Pacitan   \n",
            "511  Pantai Popoh adalah sebuah pantai yang terleta...       Tulungagung   \n",
            "\n",
            "     final_score  cosine_score  model_score  \n",
            "512     0.337466      0.433328     0.113787  \n",
            "574     0.293153      0.374682     0.102918  \n",
            "225     0.282560      0.332316     0.166460  \n",
            "453     0.280846      0.352704     0.113176  \n",
            "169     0.280698      0.335771     0.152196  \n",
            "239     0.266248      0.310531     0.162920  \n",
            "529     0.266096      0.331471     0.113552  \n",
            "509     0.258623      0.320028     0.115343  \n",
            "473     0.243975      0.299293     0.114899  \n",
            "511     0.243879      0.299156     0.114899  \n"
          ]
        },
        {
          "output_type": "stream",
          "name": "stderr",
          "text": [
            "/usr/local/lib/python3.11/dist-packages/sklearn/feature_extraction/text.py:402: UserWarning: Your stop_words may be inconsistent with your preprocessing. Tokenizing the stop words generated tokens ['baiknya', 'berkali', 'kali', 'kurangnya', 'mata', 'olah', 'sekurang', 'setidak', 'tama', 'tidaknya'] not in stop_words.\n",
            "  warnings.warn(\n"
          ]
        }
      ]
    },
    {
      "cell_type": "code",
      "source": [
        "model.save(\"my_model.h5\")\n"
      ],
      "metadata": {
        "colab": {
          "base_uri": "https://localhost:8080/"
        },
        "id": "mnbVnAdrbFvw",
        "outputId": "785e6f07-b05b-470c-ad11-7146b730bf88"
      },
      "execution_count": null,
      "outputs": [
        {
          "output_type": "stream",
          "name": "stderr",
          "text": [
            "WARNING:absl:You are saving your model as an HDF5 file via `model.save()` or `keras.saving.save_model(model)`. This file format is considered legacy. We recommend using instead the native Keras format, e.g. `model.save('my_model.keras')` or `keras.saving.save_model(model, 'my_model.keras')`. \n"
          ]
        }
      ]
    },
    {
      "cell_type": "code",
      "source": [
        "!pip install tensorflowjs"
      ],
      "metadata": {
        "colab": {
          "base_uri": "https://localhost:8080/"
        },
        "id": "244zp-vPYA6n",
        "outputId": "a00a3db9-3a51-460e-9994-08e662309f49"
      },
      "execution_count": null,
      "outputs": [
        {
          "output_type": "stream",
          "name": "stdout",
          "text": [
            "Requirement already satisfied: tensorflowjs in /usr/local/lib/python3.11/dist-packages (4.22.0)\n",
            "Requirement already satisfied: flax>=0.7.2 in /usr/local/lib/python3.11/dist-packages (from tensorflowjs) (0.10.6)\n",
            "Requirement already satisfied: importlib_resources>=5.9.0 in /usr/local/lib/python3.11/dist-packages (from tensorflowjs) (6.5.2)\n",
            "Requirement already satisfied: jax>=0.4.13 in /usr/local/lib/python3.11/dist-packages (from tensorflowjs) (0.5.2)\n",
            "Requirement already satisfied: jaxlib>=0.4.13 in /usr/local/lib/python3.11/dist-packages (from tensorflowjs) (0.5.1)\n",
            "Requirement already satisfied: tensorflow<3,>=2.13.0 in /usr/local/lib/python3.11/dist-packages (from tensorflowjs) (2.18.0)\n",
            "Requirement already satisfied: tf-keras>=2.13.0 in /usr/local/lib/python3.11/dist-packages (from tensorflowjs) (2.18.0)\n",
            "Requirement already satisfied: tensorflow-decision-forests>=1.5.0 in /usr/local/lib/python3.11/dist-packages (from tensorflowjs) (1.11.0)\n",
            "Requirement already satisfied: six<2,>=1.16.0 in /usr/local/lib/python3.11/dist-packages (from tensorflowjs) (1.17.0)\n",
            "Requirement already satisfied: tensorflow-hub>=0.16.1 in /usr/local/lib/python3.11/dist-packages (from tensorflowjs) (0.16.1)\n",
            "Requirement already satisfied: packaging~=23.1 in /usr/local/lib/python3.11/dist-packages (from tensorflowjs) (23.2)\n",
            "Requirement already satisfied: numpy>=1.23.2 in /usr/local/lib/python3.11/dist-packages (from flax>=0.7.2->tensorflowjs) (2.0.2)\n",
            "Requirement already satisfied: msgpack in /usr/local/lib/python3.11/dist-packages (from flax>=0.7.2->tensorflowjs) (1.1.0)\n",
            "Requirement already satisfied: optax in /usr/local/lib/python3.11/dist-packages (from flax>=0.7.2->tensorflowjs) (0.2.4)\n",
            "Requirement already satisfied: orbax-checkpoint in /usr/local/lib/python3.11/dist-packages (from flax>=0.7.2->tensorflowjs) (0.11.13)\n",
            "Requirement already satisfied: tensorstore in /usr/local/lib/python3.11/dist-packages (from flax>=0.7.2->tensorflowjs) (0.1.74)\n",
            "Requirement already satisfied: rich>=11.1 in /usr/local/lib/python3.11/dist-packages (from flax>=0.7.2->tensorflowjs) (13.9.4)\n",
            "Requirement already satisfied: typing_extensions>=4.2 in /usr/local/lib/python3.11/dist-packages (from flax>=0.7.2->tensorflowjs) (4.13.2)\n",
            "Requirement already satisfied: PyYAML>=5.4.1 in /usr/local/lib/python3.11/dist-packages (from flax>=0.7.2->tensorflowjs) (6.0.2)\n",
            "Requirement already satisfied: treescope>=0.1.7 in /usr/local/lib/python3.11/dist-packages (from flax>=0.7.2->tensorflowjs) (0.1.9)\n",
            "Requirement already satisfied: ml_dtypes>=0.4.0 in /usr/local/lib/python3.11/dist-packages (from jax>=0.4.13->tensorflowjs) (0.4.1)\n",
            "Requirement already satisfied: opt_einsum in /usr/local/lib/python3.11/dist-packages (from jax>=0.4.13->tensorflowjs) (3.4.0)\n",
            "Requirement already satisfied: scipy>=1.11.1 in /usr/local/lib/python3.11/dist-packages (from jax>=0.4.13->tensorflowjs) (1.15.3)\n",
            "Requirement already satisfied: absl-py>=1.0.0 in /usr/local/lib/python3.11/dist-packages (from tensorflow<3,>=2.13.0->tensorflowjs) (1.4.0)\n",
            "Requirement already satisfied: astunparse>=1.6.0 in /usr/local/lib/python3.11/dist-packages (from tensorflow<3,>=2.13.0->tensorflowjs) (1.6.3)\n",
            "Requirement already satisfied: flatbuffers>=24.3.25 in /usr/local/lib/python3.11/dist-packages (from tensorflow<3,>=2.13.0->tensorflowjs) (25.2.10)\n",
            "Requirement already satisfied: gast!=0.5.0,!=0.5.1,!=0.5.2,>=0.2.1 in /usr/local/lib/python3.11/dist-packages (from tensorflow<3,>=2.13.0->tensorflowjs) (0.6.0)\n",
            "Requirement already satisfied: google-pasta>=0.1.1 in /usr/local/lib/python3.11/dist-packages (from tensorflow<3,>=2.13.0->tensorflowjs) (0.2.0)\n",
            "Requirement already satisfied: libclang>=13.0.0 in /usr/local/lib/python3.11/dist-packages (from tensorflow<3,>=2.13.0->tensorflowjs) (18.1.1)\n",
            "Requirement already satisfied: protobuf!=4.21.0,!=4.21.1,!=4.21.2,!=4.21.3,!=4.21.4,!=4.21.5,<6.0.0dev,>=3.20.3 in /usr/local/lib/python3.11/dist-packages (from tensorflow<3,>=2.13.0->tensorflowjs) (5.29.4)\n",
            "Requirement already satisfied: requests<3,>=2.21.0 in /usr/local/lib/python3.11/dist-packages (from tensorflow<3,>=2.13.0->tensorflowjs) (2.32.3)\n",
            "Requirement already satisfied: setuptools in /usr/local/lib/python3.11/dist-packages (from tensorflow<3,>=2.13.0->tensorflowjs) (75.2.0)\n",
            "Requirement already satisfied: termcolor>=1.1.0 in /usr/local/lib/python3.11/dist-packages (from tensorflow<3,>=2.13.0->tensorflowjs) (3.1.0)\n",
            "Requirement already satisfied: wrapt>=1.11.0 in /usr/local/lib/python3.11/dist-packages (from tensorflow<3,>=2.13.0->tensorflowjs) (1.17.2)\n",
            "Requirement already satisfied: grpcio<2.0,>=1.24.3 in /usr/local/lib/python3.11/dist-packages (from tensorflow<3,>=2.13.0->tensorflowjs) (1.71.0)\n",
            "Requirement already satisfied: tensorboard<2.19,>=2.18 in /usr/local/lib/python3.11/dist-packages (from tensorflow<3,>=2.13.0->tensorflowjs) (2.18.0)\n",
            "Requirement already satisfied: keras>=3.5.0 in /usr/local/lib/python3.11/dist-packages (from tensorflow<3,>=2.13.0->tensorflowjs) (3.8.0)\n",
            "Requirement already satisfied: h5py>=3.11.0 in /usr/local/lib/python3.11/dist-packages (from tensorflow<3,>=2.13.0->tensorflowjs) (3.13.0)\n",
            "Requirement already satisfied: tensorflow-io-gcs-filesystem>=0.23.1 in /usr/local/lib/python3.11/dist-packages (from tensorflow<3,>=2.13.0->tensorflowjs) (0.37.1)\n",
            "Requirement already satisfied: pandas in /usr/local/lib/python3.11/dist-packages (from tensorflow-decision-forests>=1.5.0->tensorflowjs) (2.2.2)\n",
            "Requirement already satisfied: wheel in /usr/local/lib/python3.11/dist-packages (from tensorflow-decision-forests>=1.5.0->tensorflowjs) (0.45.1)\n",
            "Requirement already satisfied: wurlitzer in /usr/local/lib/python3.11/dist-packages (from tensorflow-decision-forests>=1.5.0->tensorflowjs) (3.1.1)\n",
            "Requirement already satisfied: ydf in /usr/local/lib/python3.11/dist-packages (from tensorflow-decision-forests>=1.5.0->tensorflowjs) (0.11.0)\n",
            "Requirement already satisfied: namex in /usr/local/lib/python3.11/dist-packages (from keras>=3.5.0->tensorflow<3,>=2.13.0->tensorflowjs) (0.0.9)\n",
            "Requirement already satisfied: optree in /usr/local/lib/python3.11/dist-packages (from keras>=3.5.0->tensorflow<3,>=2.13.0->tensorflowjs) (0.15.0)\n",
            "Requirement already satisfied: charset-normalizer<4,>=2 in /usr/local/lib/python3.11/dist-packages (from requests<3,>=2.21.0->tensorflow<3,>=2.13.0->tensorflowjs) (3.4.2)\n",
            "Requirement already satisfied: idna<4,>=2.5 in /usr/local/lib/python3.11/dist-packages (from requests<3,>=2.21.0->tensorflow<3,>=2.13.0->tensorflowjs) (3.10)\n",
            "Requirement already satisfied: urllib3<3,>=1.21.1 in /usr/local/lib/python3.11/dist-packages (from requests<3,>=2.21.0->tensorflow<3,>=2.13.0->tensorflowjs) (2.4.0)\n",
            "Requirement already satisfied: certifi>=2017.4.17 in /usr/local/lib/python3.11/dist-packages (from requests<3,>=2.21.0->tensorflow<3,>=2.13.0->tensorflowjs) (2025.4.26)\n",
            "Requirement already satisfied: markdown-it-py>=2.2.0 in /usr/local/lib/python3.11/dist-packages (from rich>=11.1->flax>=0.7.2->tensorflowjs) (3.0.0)\n",
            "Requirement already satisfied: pygments<3.0.0,>=2.13.0 in /usr/local/lib/python3.11/dist-packages (from rich>=11.1->flax>=0.7.2->tensorflowjs) (2.19.1)\n",
            "Requirement already satisfied: markdown>=2.6.8 in /usr/local/lib/python3.11/dist-packages (from tensorboard<2.19,>=2.18->tensorflow<3,>=2.13.0->tensorflowjs) (3.8)\n",
            "Requirement already satisfied: tensorboard-data-server<0.8.0,>=0.7.0 in /usr/local/lib/python3.11/dist-packages (from tensorboard<2.19,>=2.18->tensorflow<3,>=2.13.0->tensorflowjs) (0.7.2)\n",
            "Requirement already satisfied: werkzeug>=1.0.1 in /usr/local/lib/python3.11/dist-packages (from tensorboard<2.19,>=2.18->tensorflow<3,>=2.13.0->tensorflowjs) (3.1.3)\n",
            "Requirement already satisfied: chex>=0.1.87 in /usr/local/lib/python3.11/dist-packages (from optax->flax>=0.7.2->tensorflowjs) (0.1.89)\n",
            "Requirement already satisfied: etils[epy] in /usr/local/lib/python3.11/dist-packages (from optax->flax>=0.7.2->tensorflowjs) (1.12.2)\n",
            "Requirement already satisfied: nest_asyncio in /usr/local/lib/python3.11/dist-packages (from orbax-checkpoint->flax>=0.7.2->tensorflowjs) (1.6.0)\n",
            "Requirement already satisfied: humanize in /usr/local/lib/python3.11/dist-packages (from orbax-checkpoint->flax>=0.7.2->tensorflowjs) (4.12.3)\n",
            "Requirement already satisfied: simplejson>=3.16.0 in /usr/local/lib/python3.11/dist-packages (from orbax-checkpoint->flax>=0.7.2->tensorflowjs) (3.20.1)\n",
            "Requirement already satisfied: python-dateutil>=2.8.2 in /usr/local/lib/python3.11/dist-packages (from pandas->tensorflow-decision-forests>=1.5.0->tensorflowjs) (2.9.0.post0)\n",
            "Requirement already satisfied: pytz>=2020.1 in /usr/local/lib/python3.11/dist-packages (from pandas->tensorflow-decision-forests>=1.5.0->tensorflowjs) (2025.2)\n",
            "Requirement already satisfied: tzdata>=2022.7 in /usr/local/lib/python3.11/dist-packages (from pandas->tensorflow-decision-forests>=1.5.0->tensorflowjs) (2025.2)\n",
            "Requirement already satisfied: toolz>=0.9.0 in /usr/local/lib/python3.11/dist-packages (from chex>=0.1.87->optax->flax>=0.7.2->tensorflowjs) (0.12.1)\n",
            "Requirement already satisfied: mdurl~=0.1 in /usr/local/lib/python3.11/dist-packages (from markdown-it-py>=2.2.0->rich>=11.1->flax>=0.7.2->tensorflowjs) (0.1.2)\n",
            "Requirement already satisfied: MarkupSafe>=2.1.1 in /usr/local/lib/python3.11/dist-packages (from werkzeug>=1.0.1->tensorboard<2.19,>=2.18->tensorflow<3,>=2.13.0->tensorflowjs) (3.0.2)\n",
            "Requirement already satisfied: fsspec in /usr/local/lib/python3.11/dist-packages (from etils[epath,epy]->orbax-checkpoint->flax>=0.7.2->tensorflowjs) (2025.3.2)\n",
            "Requirement already satisfied: zipp in /usr/local/lib/python3.11/dist-packages (from etils[epath,epy]->orbax-checkpoint->flax>=0.7.2->tensorflowjs) (3.21.0)\n"
          ]
        }
      ]
    },
    {
      "cell_type": "code",
      "source": [
        "!tensorflowjs_converter --input_format=keras my_model.h5 tfjs_model/"
      ],
      "metadata": {
        "colab": {
          "base_uri": "https://localhost:8080/"
        },
        "id": "eYuNnyZfYED4",
        "outputId": "1d7cea8b-a98f-43ef-9af0-847614c69839"
      },
      "execution_count": null,
      "outputs": [
        {
          "output_type": "stream",
          "name": "stdout",
          "text": [
            "2025-05-26 09:37:40.262436: E external/local_xla/xla/stream_executor/cuda/cuda_fft.cc:477] Unable to register cuFFT factory: Attempting to register factory for plugin cuFFT when one has already been registered\n",
            "WARNING: All log messages before absl::InitializeLog() is called are written to STDERR\n",
            "E0000 00:00:1748252260.287394    7448 cuda_dnn.cc:8310] Unable to register cuDNN factory: Attempting to register factory for plugin cuDNN when one has already been registered\n",
            "E0000 00:00:1748252260.296447    7448 cuda_blas.cc:1418] Unable to register cuBLAS factory: Attempting to register factory for plugin cuBLAS when one has already been registered\n",
            "\u001b[32m🌲 Try \u001b[0m\u001b[34mhttps://ydf.readthedocs.io\u001b[0m\u001b[32m, the successor of TensorFlow Decision Forests with more features and faster training!\u001b[0m\n",
            "failed to lookup keras version from the file,\n",
            "    this is likely a weight only file\n"
          ]
        }
      ]
    },
    {
      "cell_type": "code",
      "source": [
        "!zip -r tfjs.zip tfjs_model/\n",
        "files.download('tfjs.zip')"
      ],
      "metadata": {
        "colab": {
          "base_uri": "https://localhost:8080/",
          "height": 72
        },
        "id": "rdh6C9mf41os",
        "outputId": "f7610f76-40d6-4e00-cdba-0129577070fa"
      },
      "execution_count": null,
      "outputs": [
        {
          "output_type": "stream",
          "name": "stdout",
          "text": [
            "updating: tfjs_model/ (stored 0%)\n",
            "updating: tfjs_model/group1-shard1of1.bin (deflated 8%)\n",
            "updating: tfjs_model/model.json (deflated 79%)\n"
          ]
        },
        {
          "output_type": "display_data",
          "data": {
            "text/plain": [
              "<IPython.core.display.Javascript object>"
            ],
            "application/javascript": [
              "\n",
              "    async function download(id, filename, size) {\n",
              "      if (!google.colab.kernel.accessAllowed) {\n",
              "        return;\n",
              "      }\n",
              "      const div = document.createElement('div');\n",
              "      const label = document.createElement('label');\n",
              "      label.textContent = `Downloading \"${filename}\": `;\n",
              "      div.appendChild(label);\n",
              "      const progress = document.createElement('progress');\n",
              "      progress.max = size;\n",
              "      div.appendChild(progress);\n",
              "      document.body.appendChild(div);\n",
              "\n",
              "      const buffers = [];\n",
              "      let downloaded = 0;\n",
              "\n",
              "      const channel = await google.colab.kernel.comms.open(id);\n",
              "      // Send a message to notify the kernel that we're ready.\n",
              "      channel.send({})\n",
              "\n",
              "      for await (const message of channel.messages) {\n",
              "        // Send a message to notify the kernel that we're ready.\n",
              "        channel.send({})\n",
              "        if (message.buffers) {\n",
              "          for (const buffer of message.buffers) {\n",
              "            buffers.push(buffer);\n",
              "            downloaded += buffer.byteLength;\n",
              "            progress.value = downloaded;\n",
              "          }\n",
              "        }\n",
              "      }\n",
              "      const blob = new Blob(buffers, {type: 'application/binary'});\n",
              "      const a = document.createElement('a');\n",
              "      a.href = window.URL.createObjectURL(blob);\n",
              "      a.download = filename;\n",
              "      div.appendChild(a);\n",
              "      a.click();\n",
              "      div.remove();\n",
              "    }\n",
              "  "
            ]
          },
          "metadata": {}
        },
        {
          "output_type": "display_data",
          "data": {
            "text/plain": [
              "<IPython.core.display.Javascript object>"
            ],
            "application/javascript": [
              "download(\"download_fde38bc0-6fb4-44f8-99d4-527d11cd0176\", \"tfjs.zip\", 10346)"
            ]
          },
          "metadata": {}
        }
      ]
    }
  ]
}
