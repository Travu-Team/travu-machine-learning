{
  "nbformat": 4,
  "nbformat_minor": 0,
  "metadata": {
    "colab": {
      "provenance": []
    },
    "kernelspec": {
      "name": "python3",
      "display_name": "Python 3"
    },
    "language_info": {
      "name": "python"
    }
  },
  "cells": [
    {
      "cell_type": "code",
      "source": [
        "!pip install wikipedia"
      ],
      "metadata": {
        "colab": {
          "base_uri": "https://localhost:8080/"
        },
        "id": "eEPBuIUxGRnM",
        "outputId": "6b8d561f-7439-4bd6-c971-2bc54a71076b"
      },
      "execution_count": 2,
      "outputs": [
        {
          "output_type": "stream",
          "name": "stdout",
          "text": [
            "Collecting wikipedia\n",
            "  Downloading wikipedia-1.4.0.tar.gz (27 kB)\n",
            "  Preparing metadata (setup.py) ... \u001b[?25l\u001b[?25hdone\n",
            "Requirement already satisfied: beautifulsoup4 in /usr/local/lib/python3.11/dist-packages (from wikipedia) (4.13.4)\n",
            "Requirement already satisfied: requests<3.0.0,>=2.0.0 in /usr/local/lib/python3.11/dist-packages (from wikipedia) (2.32.3)\n",
            "Requirement already satisfied: charset-normalizer<4,>=2 in /usr/local/lib/python3.11/dist-packages (from requests<3.0.0,>=2.0.0->wikipedia) (3.4.2)\n",
            "Requirement already satisfied: idna<4,>=2.5 in /usr/local/lib/python3.11/dist-packages (from requests<3.0.0,>=2.0.0->wikipedia) (3.10)\n",
            "Requirement already satisfied: urllib3<3,>=1.21.1 in /usr/local/lib/python3.11/dist-packages (from requests<3.0.0,>=2.0.0->wikipedia) (2.4.0)\n",
            "Requirement already satisfied: certifi>=2017.4.17 in /usr/local/lib/python3.11/dist-packages (from requests<3.0.0,>=2.0.0->wikipedia) (2025.4.26)\n",
            "Requirement already satisfied: soupsieve>1.2 in /usr/local/lib/python3.11/dist-packages (from beautifulsoup4->wikipedia) (2.7)\n",
            "Requirement already satisfied: typing-extensions>=4.0.0 in /usr/local/lib/python3.11/dist-packages (from beautifulsoup4->wikipedia) (4.13.2)\n",
            "Building wheels for collected packages: wikipedia\n",
            "  Building wheel for wikipedia (setup.py) ... \u001b[?25l\u001b[?25hdone\n",
            "  Created wheel for wikipedia: filename=wikipedia-1.4.0-py3-none-any.whl size=11678 sha256=54a87455e56f3b65cb62dfd28232a5390a10216b906c62fb01cd0db091bdb477\n",
            "  Stored in directory: /root/.cache/pip/wheels/8f/ab/cb/45ccc40522d3a1c41e1d2ad53b8f33a62f394011ec38cd71c6\n",
            "Successfully built wikipedia\n",
            "Installing collected packages: wikipedia\n",
            "Successfully installed wikipedia-1.4.0\n"
          ]
        }
      ]
    },
    {
      "cell_type": "code",
      "execution_count": null,
      "metadata": {
        "id": "sDvzPGhvGFIY"
      },
      "outputs": [],
      "source": [
        "import pandas as pd\n",
        "import wikipedia\n",
        "\n",
        "# Set Wikipedia ke Bahasa Indonesia\n",
        "wikipedia.set_lang(\"id\")\n",
        "\n",
        "# Load data\n",
        "df = pd.read_csv(\"/content/wisata_indonesia.csv\")\n",
        "\n",
        "# Gabungkan nama_wisata + kota_kabupaten + provinsi jadi 1 string pencarian\n",
        "def gabung_nama_lengkap(row):\n",
        "    return f\"{row['nama_wisata']}, {row['kota_kabupaten']}, {row['provinsi']}\"\n",
        "\n",
        "df['nama_lengkap'] = df.apply(gabung_nama_lengkap, axis=1)\n",
        "\n",
        "# Fungsi ambil deskripsi\n",
        "def ambil_deskripsi_wiki(nama_lengkap):\n",
        "    try:\n",
        "        return wikipedia.summary(nama_lengkap, sentences=2)\n",
        "    except:\n",
        "        return \"Deskripsi tidak ditemukan\"\n",
        "\n",
        "# Terapkan fungsi\n",
        "df['deskripsi'] = df['nama_lengkap'].apply(ambil_deskripsi_wiki)\n",
        "\n",
        "# Simpan hasil\n",
        "df.to_csv(\"wisata_indonesia_dengan_deskripsi.csv\", index=False)\n",
        "\n",
        "print(\"✅ Selesai! wisata_indonesia_dengan_deskripsi.csv\")\n"
      ]
    }
  ]
}