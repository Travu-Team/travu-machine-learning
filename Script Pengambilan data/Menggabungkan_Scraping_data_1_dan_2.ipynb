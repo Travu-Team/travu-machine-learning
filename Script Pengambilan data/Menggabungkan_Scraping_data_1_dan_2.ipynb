{
  "nbformat": 4,
  "nbformat_minor": 0,
  "metadata": {
    "colab": {
      "provenance": []
    },
    "kernelspec": {
      "name": "python3",
      "display_name": "Python 3"
    },
    "language_info": {
      "name": "python"
    }
  },
  "cells": [
    {
      "cell_type": "code",
      "execution_count": null,
      "metadata": {
        "colab": {
          "base_uri": "https://localhost:8080/"
        },
        "id": "nqyHWzWDcyGe",
        "outputId": "40872684-66c3-4a49-d237-d65e4249c2c2"
      },
      "outputs": [
        {
          "output_type": "stream",
          "name": "stdout",
          "text": [
            "     kategori                nama_wisata  latitude   longitude  \\\n",
            "0        mall  23 Paskal Shopping Center -6.915388  107.594302   \n",
            "1        mall              AEON Mall BSD -6.304409  106.644157   \n",
            "2  air terjun     Air Terjun Bantimurung -5.016520  119.685520   \n",
            "3  air terjun  Air Terjun Benang Kelambu -8.532770  116.337011   \n",
            "4  air terjun   Air Terjun Benang Stokel -8.533036  116.341379   \n",
            "\n",
            "                                              alamat             provinsi  \\\n",
            "0  23 Paskal Shopping Center, 25-27, Jalan Kebon ...           Jawa Barat   \n",
            "1  ÆON Mall, Jalan BSD Raya Utama, BSD City, Page...               Banten   \n",
            "2  Air Terjun Bantimurung, Jalan Poros Bantimurun...     Sulawesi Selatan   \n",
            "3  Air Terjun Benang Kelambu, Pemotoh, Lombok Ten...  Nusa Tenggara Barat   \n",
            "4  Air Terjun Benang Stokel, Pemotoh, Lombok Teng...  Nusa Tenggara Barat   \n",
            "\n",
            "        kota_kabupaten  \n",
            "0         Kota Bandung  \n",
            "1  Kabupaten Tangerang  \n",
            "2             Sulawesi  \n",
            "3        Lombok Tengah  \n",
            "4        Lombok Tengah  \n"
          ]
        }
      ],
      "source": [
        "import pandas as pd\n",
        "\n",
        "df_master = pd.read_csv('master_wisata.csv')\n",
        "df_nusantara = pd.read_csv('wisata_nusantara.csv')\n",
        "df_wisata_indonesia = pd.concat([df_master, df_nusantara], ignore_index=True)\n",
        "\n",
        "df_wisata_indonesia.to_csv('wisata_indonesia.csv', index=False)\n",
        "print(df_wisata_indonesia.head())\n"
      ]
    }
  ]
}