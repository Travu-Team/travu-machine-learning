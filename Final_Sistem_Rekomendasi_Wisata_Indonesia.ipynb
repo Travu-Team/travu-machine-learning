{
  "nbformat": 4,
  "nbformat_minor": 0,
  "metadata": {
    "colab": {
      "provenance": []
    },
    "kernelspec": {
      "name": "python3",
      "display_name": "Python 3"
    },
    "language_info": {
      "name": "python"
    }
  },
  "cells": [
    {
      "cell_type": "markdown",
      "source": [
        "# **Import Library**"
      ],
      "metadata": {
        "id": "0-pX06FeGmEY"
      }
    },
    {
      "cell_type": "code",
      "execution_count": 1,
      "metadata": {
        "id": "dJG9cYqdYnSC",
        "colab": {
          "base_uri": "https://localhost:8080/"
        },
        "outputId": "27a66332-dbe7-479f-9b4a-14c67df3a87c"
      },
      "outputs": [
        {
          "output_type": "stream",
          "name": "stderr",
          "text": [
            "[nltk_data] Downloading package stopwords to /root/nltk_data...\n",
            "[nltk_data]   Unzipping corpora/stopwords.zip.\n"
          ]
        }
      ],
      "source": [
        "import pandas as pd\n",
        "import numpy as np\n",
        "import re\n",
        "import matplotlib.pyplot as plt\n",
        "import seaborn as sns\n",
        "from sklearn.preprocessing import LabelEncoder, MinMaxScaler\n",
        "from sklearn.model_selection import train_test_split\n",
        "from sklearn.feature_extraction.text import TfidfVectorizer\n",
        "from sklearn.metrics.pairwise import cosine_similarity\n",
        "from tensorflow.keras.models import Sequential\n",
        "from tensorflow.keras.layers import Dense, Dropout, Input\n",
        "from tensorflow.keras.optimizers import Adam\n",
        "import nltk\n",
        "nltk.download('stopwords')\n",
        "from nltk.corpus import stopwords\n",
        "stopwords_indonesia = stopwords.words('indonesian')"
      ]
    },
    {
      "cell_type": "markdown",
      "source": [
        "Mengimpor library untuk manipulasi data, visualisasi, preprocessing teks, pembuatan model neural network, serta mengunduh daftar kata berhenti bahasa Indonesia dari NLTK untuk mendukung analisis dan pemodelan teks."
      ],
      "metadata": {
        "id": "zD_r9xypH_gI"
      }
    },
    {
      "cell_type": "markdown",
      "source": [
        "# **Data Understanding**"
      ],
      "metadata": {
        "id": "MfiHxRM2GrBE"
      }
    },
    {
      "cell_type": "code",
      "source": [
        "file_path = \"https://raw.githubusercontent.com/Travu-Team/travu-machine-learning/refs/heads/main/data/wisata_indonesia_final.csv\"\n",
        "df = pd.read_csv(file_path, encoding='ISO-8859-1')"
      ],
      "metadata": {
        "id": "vXjn9cw1YtvN"
      },
      "execution_count": 2,
      "outputs": []
    },
    {
      "cell_type": "markdown",
      "source": [
        "Kode tersebut membaca file CSV dari URL GitHub menggunakan pandas dan menyimpannya ke dalam DataFrame df. File dibaca dengan encoding 'ISO-8859-1' untuk menangani karakter khusus yang mungkin ada dalam data."
      ],
      "metadata": {
        "id": "yXLfs0ztHstR"
      }
    },
    {
      "cell_type": "code",
      "source": [
        "df.head()"
      ],
      "metadata": {
        "colab": {
          "base_uri": "https://localhost:8080/",
          "height": 328
        },
        "id": "Z9XHhc2oBQYa",
        "outputId": "162386e4-a13a-4286-ff43-4c61ed7b90f3"
      },
      "execution_count": 3,
      "outputs": [
        {
          "output_type": "execute_result",
          "data": {
            "text/plain": [
              "     kategori                nama_wisata  latitude   longitude  \\\n",
              "0  air terjun     Air Terjun Aling-Aling -8.176792  115.106284   \n",
              "1  air terjun     Air Terjun Bantimurung -5.016520  119.685520   \n",
              "2  air terjun  Air Terjun Benang Kelambu -8.532770  116.337011   \n",
              "3  air terjun   Air Terjun Benang Stokel -8.533036  116.341379   \n",
              "4  air terjun        Air Terjun Bidadari -2.928361  107.839043   \n",
              "\n",
              "                                              alamat  \\\n",
              "0  Air Terjun Aling-Aling, Panji Anom, Buleleng, ...   \n",
              "1  Air Terjun Bantimurung, Jalan Poros Bantimurun...   \n",
              "2  Air Terjun Benang Kelambu, Pemotoh, Lombok Ten...   \n",
              "3  Air Terjun Benang Stokel, Pemotoh, Lombok Teng...   \n",
              "4  Air Terjun Bidadari, Nyuruk, Belitung Timur, K...   \n",
              "\n",
              "                    provinsi  kota_kabupaten  \\\n",
              "0                       Bali        Buleleng   \n",
              "1           Sulawesi Selatan        Sulawesi   \n",
              "2        Nusa Tenggara Barat   Lombok Tengah   \n",
              "3        Nusa Tenggara Barat   Lombok Tengah   \n",
              "4  Kepulauan Bangka Belitung  Belitung Timur   \n",
              "\n",
              "                                        nama_lengkap  \\\n",
              "0             Air Terjun Aling-Aling, Buleleng, Bali   \n",
              "1  Air Terjun Bantimurung, Sulawesi, Sulawesi Sel...   \n",
              "2  Air Terjun Benang Kelambu, Lombok Tengah, Nusa...   \n",
              "3  Air Terjun Benang Stokel, Lombok Tengah, Nusa ...   \n",
              "4  Air Terjun Bidadari, Belitung Timur, Kepulauan...   \n",
              "\n",
              "                                           deskripsi  \\\n",
              "0                          Deskripsi tidak ditemukan   \n",
              "1  Air Terjun Bantimurung adalah salah satu air t...   \n",
              "2                          Deskripsi tidak ditemukan   \n",
              "3                          Deskripsi tidak ditemukan   \n",
              "4  Berikut ini adalah daftar air terjun di Indone...   \n",
              "\n",
              "                                      path  \\\n",
              "0     gambar_wisata/Air_Terjun_Aling-Aling   \n",
              "1     gambar_wisata/Air_Terjun_Bantimurung   \n",
              "2  gambar_wisata/Air_Terjun_Benang_Kelambu   \n",
              "3   gambar_wisata/Air_Terjun_Benang_Stokel   \n",
              "4        gambar_wisata/Air_Terjun_Bidadari   \n",
              "\n",
              "                               path_gambar  \n",
              "0     gambar_wisata/Air_Terjun_Aling-Aling  \n",
              "1     gambar_wisata/Air_Terjun_Bantimurung  \n",
              "2  gambar_wisata/Air_Terjun_Benang_Kelambu  \n",
              "3   gambar_wisata/Air_Terjun_Benang_Stokel  \n",
              "4        gambar_wisata/Air_Terjun_Bidadari  "
            ],
            "text/html": [
              "\n",
              "  <div id=\"df-7cc73148-8f80-43f6-ba01-e206b5cf8d79\" class=\"colab-df-container\">\n",
              "    <div>\n",
              "<style scoped>\n",
              "    .dataframe tbody tr th:only-of-type {\n",
              "        vertical-align: middle;\n",
              "    }\n",
              "\n",
              "    .dataframe tbody tr th {\n",
              "        vertical-align: top;\n",
              "    }\n",
              "\n",
              "    .dataframe thead th {\n",
              "        text-align: right;\n",
              "    }\n",
              "</style>\n",
              "<table border=\"1\" class=\"dataframe\">\n",
              "  <thead>\n",
              "    <tr style=\"text-align: right;\">\n",
              "      <th></th>\n",
              "      <th>kategori</th>\n",
              "      <th>nama_wisata</th>\n",
              "      <th>latitude</th>\n",
              "      <th>longitude</th>\n",
              "      <th>alamat</th>\n",
              "      <th>provinsi</th>\n",
              "      <th>kota_kabupaten</th>\n",
              "      <th>nama_lengkap</th>\n",
              "      <th>deskripsi</th>\n",
              "      <th>path</th>\n",
              "      <th>path_gambar</th>\n",
              "    </tr>\n",
              "  </thead>\n",
              "  <tbody>\n",
              "    <tr>\n",
              "      <th>0</th>\n",
              "      <td>air terjun</td>\n",
              "      <td>Air Terjun Aling-Aling</td>\n",
              "      <td>-8.176792</td>\n",
              "      <td>115.106284</td>\n",
              "      <td>Air Terjun Aling-Aling, Panji Anom, Buleleng, ...</td>\n",
              "      <td>Bali</td>\n",
              "      <td>Buleleng</td>\n",
              "      <td>Air Terjun Aling-Aling, Buleleng, Bali</td>\n",
              "      <td>Deskripsi tidak ditemukan</td>\n",
              "      <td>gambar_wisata/Air_Terjun_Aling-Aling</td>\n",
              "      <td>gambar_wisata/Air_Terjun_Aling-Aling</td>\n",
              "    </tr>\n",
              "    <tr>\n",
              "      <th>1</th>\n",
              "      <td>air terjun</td>\n",
              "      <td>Air Terjun Bantimurung</td>\n",
              "      <td>-5.016520</td>\n",
              "      <td>119.685520</td>\n",
              "      <td>Air Terjun Bantimurung, Jalan Poros Bantimurun...</td>\n",
              "      <td>Sulawesi Selatan</td>\n",
              "      <td>Sulawesi</td>\n",
              "      <td>Air Terjun Bantimurung, Sulawesi, Sulawesi Sel...</td>\n",
              "      <td>Air Terjun Bantimurung adalah salah satu air t...</td>\n",
              "      <td>gambar_wisata/Air_Terjun_Bantimurung</td>\n",
              "      <td>gambar_wisata/Air_Terjun_Bantimurung</td>\n",
              "    </tr>\n",
              "    <tr>\n",
              "      <th>2</th>\n",
              "      <td>air terjun</td>\n",
              "      <td>Air Terjun Benang Kelambu</td>\n",
              "      <td>-8.532770</td>\n",
              "      <td>116.337011</td>\n",
              "      <td>Air Terjun Benang Kelambu, Pemotoh, Lombok Ten...</td>\n",
              "      <td>Nusa Tenggara Barat</td>\n",
              "      <td>Lombok Tengah</td>\n",
              "      <td>Air Terjun Benang Kelambu, Lombok Tengah, Nusa...</td>\n",
              "      <td>Deskripsi tidak ditemukan</td>\n",
              "      <td>gambar_wisata/Air_Terjun_Benang_Kelambu</td>\n",
              "      <td>gambar_wisata/Air_Terjun_Benang_Kelambu</td>\n",
              "    </tr>\n",
              "    <tr>\n",
              "      <th>3</th>\n",
              "      <td>air terjun</td>\n",
              "      <td>Air Terjun Benang Stokel</td>\n",
              "      <td>-8.533036</td>\n",
              "      <td>116.341379</td>\n",
              "      <td>Air Terjun Benang Stokel, Pemotoh, Lombok Teng...</td>\n",
              "      <td>Nusa Tenggara Barat</td>\n",
              "      <td>Lombok Tengah</td>\n",
              "      <td>Air Terjun Benang Stokel, Lombok Tengah, Nusa ...</td>\n",
              "      <td>Deskripsi tidak ditemukan</td>\n",
              "      <td>gambar_wisata/Air_Terjun_Benang_Stokel</td>\n",
              "      <td>gambar_wisata/Air_Terjun_Benang_Stokel</td>\n",
              "    </tr>\n",
              "    <tr>\n",
              "      <th>4</th>\n",
              "      <td>air terjun</td>\n",
              "      <td>Air Terjun Bidadari</td>\n",
              "      <td>-2.928361</td>\n",
              "      <td>107.839043</td>\n",
              "      <td>Air Terjun Bidadari, Nyuruk, Belitung Timur, K...</td>\n",
              "      <td>Kepulauan Bangka Belitung</td>\n",
              "      <td>Belitung Timur</td>\n",
              "      <td>Air Terjun Bidadari, Belitung Timur, Kepulauan...</td>\n",
              "      <td>Berikut ini adalah daftar air terjun di Indone...</td>\n",
              "      <td>gambar_wisata/Air_Terjun_Bidadari</td>\n",
              "      <td>gambar_wisata/Air_Terjun_Bidadari</td>\n",
              "    </tr>\n",
              "  </tbody>\n",
              "</table>\n",
              "</div>\n",
              "    <div class=\"colab-df-buttons\">\n",
              "\n",
              "  <div class=\"colab-df-container\">\n",
              "    <button class=\"colab-df-convert\" onclick=\"convertToInteractive('df-7cc73148-8f80-43f6-ba01-e206b5cf8d79')\"\n",
              "            title=\"Convert this dataframe to an interactive table.\"\n",
              "            style=\"display:none;\">\n",
              "\n",
              "  <svg xmlns=\"http://www.w3.org/2000/svg\" height=\"24px\" viewBox=\"0 -960 960 960\">\n",
              "    <path d=\"M120-120v-720h720v720H120Zm60-500h600v-160H180v160Zm220 220h160v-160H400v160Zm0 220h160v-160H400v160ZM180-400h160v-160H180v160Zm440 0h160v-160H620v160ZM180-180h160v-160H180v160Zm440 0h160v-160H620v160Z\"/>\n",
              "  </svg>\n",
              "    </button>\n",
              "\n",
              "  <style>\n",
              "    .colab-df-container {\n",
              "      display:flex;\n",
              "      gap: 12px;\n",
              "    }\n",
              "\n",
              "    .colab-df-convert {\n",
              "      background-color: #E8F0FE;\n",
              "      border: none;\n",
              "      border-radius: 50%;\n",
              "      cursor: pointer;\n",
              "      display: none;\n",
              "      fill: #1967D2;\n",
              "      height: 32px;\n",
              "      padding: 0 0 0 0;\n",
              "      width: 32px;\n",
              "    }\n",
              "\n",
              "    .colab-df-convert:hover {\n",
              "      background-color: #E2EBFA;\n",
              "      box-shadow: 0px 1px 2px rgba(60, 64, 67, 0.3), 0px 1px 3px 1px rgba(60, 64, 67, 0.15);\n",
              "      fill: #174EA6;\n",
              "    }\n",
              "\n",
              "    .colab-df-buttons div {\n",
              "      margin-bottom: 4px;\n",
              "    }\n",
              "\n",
              "    [theme=dark] .colab-df-convert {\n",
              "      background-color: #3B4455;\n",
              "      fill: #D2E3FC;\n",
              "    }\n",
              "\n",
              "    [theme=dark] .colab-df-convert:hover {\n",
              "      background-color: #434B5C;\n",
              "      box-shadow: 0px 1px 3px 1px rgba(0, 0, 0, 0.15);\n",
              "      filter: drop-shadow(0px 1px 2px rgba(0, 0, 0, 0.3));\n",
              "      fill: #FFFFFF;\n",
              "    }\n",
              "  </style>\n",
              "\n",
              "    <script>\n",
              "      const buttonEl =\n",
              "        document.querySelector('#df-7cc73148-8f80-43f6-ba01-e206b5cf8d79 button.colab-df-convert');\n",
              "      buttonEl.style.display =\n",
              "        google.colab.kernel.accessAllowed ? 'block' : 'none';\n",
              "\n",
              "      async function convertToInteractive(key) {\n",
              "        const element = document.querySelector('#df-7cc73148-8f80-43f6-ba01-e206b5cf8d79');\n",
              "        const dataTable =\n",
              "          await google.colab.kernel.invokeFunction('convertToInteractive',\n",
              "                                                    [key], {});\n",
              "        if (!dataTable) return;\n",
              "\n",
              "        const docLinkHtml = 'Like what you see? Visit the ' +\n",
              "          '<a target=\"_blank\" href=https://colab.research.google.com/notebooks/data_table.ipynb>data table notebook</a>'\n",
              "          + ' to learn more about interactive tables.';\n",
              "        element.innerHTML = '';\n",
              "        dataTable['output_type'] = 'display_data';\n",
              "        await google.colab.output.renderOutput(dataTable, element);\n",
              "        const docLink = document.createElement('div');\n",
              "        docLink.innerHTML = docLinkHtml;\n",
              "        element.appendChild(docLink);\n",
              "      }\n",
              "    </script>\n",
              "  </div>\n",
              "\n",
              "\n",
              "    <div id=\"df-d90c619d-d682-401d-8b3b-a24f6eaf555c\">\n",
              "      <button class=\"colab-df-quickchart\" onclick=\"quickchart('df-d90c619d-d682-401d-8b3b-a24f6eaf555c')\"\n",
              "                title=\"Suggest charts\"\n",
              "                style=\"display:none;\">\n",
              "\n",
              "<svg xmlns=\"http://www.w3.org/2000/svg\" height=\"24px\"viewBox=\"0 0 24 24\"\n",
              "     width=\"24px\">\n",
              "    <g>\n",
              "        <path d=\"M19 3H5c-1.1 0-2 .9-2 2v14c0 1.1.9 2 2 2h14c1.1 0 2-.9 2-2V5c0-1.1-.9-2-2-2zM9 17H7v-7h2v7zm4 0h-2V7h2v10zm4 0h-2v-4h2v4z\"/>\n",
              "    </g>\n",
              "</svg>\n",
              "      </button>\n",
              "\n",
              "<style>\n",
              "  .colab-df-quickchart {\n",
              "      --bg-color: #E8F0FE;\n",
              "      --fill-color: #1967D2;\n",
              "      --hover-bg-color: #E2EBFA;\n",
              "      --hover-fill-color: #174EA6;\n",
              "      --disabled-fill-color: #AAA;\n",
              "      --disabled-bg-color: #DDD;\n",
              "  }\n",
              "\n",
              "  [theme=dark] .colab-df-quickchart {\n",
              "      --bg-color: #3B4455;\n",
              "      --fill-color: #D2E3FC;\n",
              "      --hover-bg-color: #434B5C;\n",
              "      --hover-fill-color: #FFFFFF;\n",
              "      --disabled-bg-color: #3B4455;\n",
              "      --disabled-fill-color: #666;\n",
              "  }\n",
              "\n",
              "  .colab-df-quickchart {\n",
              "    background-color: var(--bg-color);\n",
              "    border: none;\n",
              "    border-radius: 50%;\n",
              "    cursor: pointer;\n",
              "    display: none;\n",
              "    fill: var(--fill-color);\n",
              "    height: 32px;\n",
              "    padding: 0;\n",
              "    width: 32px;\n",
              "  }\n",
              "\n",
              "  .colab-df-quickchart:hover {\n",
              "    background-color: var(--hover-bg-color);\n",
              "    box-shadow: 0 1px 2px rgba(60, 64, 67, 0.3), 0 1px 3px 1px rgba(60, 64, 67, 0.15);\n",
              "    fill: var(--button-hover-fill-color);\n",
              "  }\n",
              "\n",
              "  .colab-df-quickchart-complete:disabled,\n",
              "  .colab-df-quickchart-complete:disabled:hover {\n",
              "    background-color: var(--disabled-bg-color);\n",
              "    fill: var(--disabled-fill-color);\n",
              "    box-shadow: none;\n",
              "  }\n",
              "\n",
              "  .colab-df-spinner {\n",
              "    border: 2px solid var(--fill-color);\n",
              "    border-color: transparent;\n",
              "    border-bottom-color: var(--fill-color);\n",
              "    animation:\n",
              "      spin 1s steps(1) infinite;\n",
              "  }\n",
              "\n",
              "  @keyframes spin {\n",
              "    0% {\n",
              "      border-color: transparent;\n",
              "      border-bottom-color: var(--fill-color);\n",
              "      border-left-color: var(--fill-color);\n",
              "    }\n",
              "    20% {\n",
              "      border-color: transparent;\n",
              "      border-left-color: var(--fill-color);\n",
              "      border-top-color: var(--fill-color);\n",
              "    }\n",
              "    30% {\n",
              "      border-color: transparent;\n",
              "      border-left-color: var(--fill-color);\n",
              "      border-top-color: var(--fill-color);\n",
              "      border-right-color: var(--fill-color);\n",
              "    }\n",
              "    40% {\n",
              "      border-color: transparent;\n",
              "      border-right-color: var(--fill-color);\n",
              "      border-top-color: var(--fill-color);\n",
              "    }\n",
              "    60% {\n",
              "      border-color: transparent;\n",
              "      border-right-color: var(--fill-color);\n",
              "    }\n",
              "    80% {\n",
              "      border-color: transparent;\n",
              "      border-right-color: var(--fill-color);\n",
              "      border-bottom-color: var(--fill-color);\n",
              "    }\n",
              "    90% {\n",
              "      border-color: transparent;\n",
              "      border-bottom-color: var(--fill-color);\n",
              "    }\n",
              "  }\n",
              "</style>\n",
              "\n",
              "      <script>\n",
              "        async function quickchart(key) {\n",
              "          const quickchartButtonEl =\n",
              "            document.querySelector('#' + key + ' button');\n",
              "          quickchartButtonEl.disabled = true;  // To prevent multiple clicks.\n",
              "          quickchartButtonEl.classList.add('colab-df-spinner');\n",
              "          try {\n",
              "            const charts = await google.colab.kernel.invokeFunction(\n",
              "                'suggestCharts', [key], {});\n",
              "          } catch (error) {\n",
              "            console.error('Error during call to suggestCharts:', error);\n",
              "          }\n",
              "          quickchartButtonEl.classList.remove('colab-df-spinner');\n",
              "          quickchartButtonEl.classList.add('colab-df-quickchart-complete');\n",
              "        }\n",
              "        (() => {\n",
              "          let quickchartButtonEl =\n",
              "            document.querySelector('#df-d90c619d-d682-401d-8b3b-a24f6eaf555c button');\n",
              "          quickchartButtonEl.style.display =\n",
              "            google.colab.kernel.accessAllowed ? 'block' : 'none';\n",
              "        })();\n",
              "      </script>\n",
              "    </div>\n",
              "\n",
              "    </div>\n",
              "  </div>\n"
            ],
            "application/vnd.google.colaboratory.intrinsic+json": {
              "type": "dataframe",
              "variable_name": "df",
              "summary": "{\n  \"name\": \"df\",\n  \"rows\": 1025,\n  \"fields\": [\n    {\n      \"column\": \"kategori\",\n      \"properties\": {\n        \"dtype\": \"category\",\n        \"num_unique_values\": 29,\n        \"samples\": [\n          \"wisawa alam\",\n          \"wisata alam\",\n          \"rumah adat\"\n        ],\n        \"semantic_type\": \"\",\n        \"description\": \"\"\n      }\n    },\n    {\n      \"column\": \"nama_wisata\",\n      \"properties\": {\n        \"dtype\": \"string\",\n        \"num_unique_values\": 1025,\n        \"samples\": [\n          \"Pantai Sulamadaha\",\n          \"Museum Batik Pekalongan\",\n          \"Pantai Batu Bedaun\"\n        ],\n        \"semantic_type\": \"\",\n        \"description\": \"\"\n      }\n    },\n    {\n      \"column\": \"latitude\",\n      \"properties\": {\n        \"dtype\": \"number\",\n        \"std\": 3.3301622509946864,\n        \"min\": -10.8898977,\n        \"max\": 5.553631,\n        \"num_unique_values\": 937,\n        \"samples\": [\n          -6.2883341,\n          -8.0491348,\n          -8.4117272\n        ],\n        \"semantic_type\": \"\",\n        \"description\": \"\"\n      }\n    },\n    {\n      \"column\": \"longitude\",\n      \"properties\": {\n        \"dtype\": \"number\",\n        \"std\": 6.952516433364058,\n        \"min\": 95.3151652,\n        \"max\": 140.7692643,\n        \"num_unique_values\": 938,\n        \"samples\": [\n          111.7092032,\n          106.8129483,\n          104.7440276\n        ],\n        \"semantic_type\": \"\",\n        \"description\": \"\"\n      }\n    },\n    {\n      \"column\": \"alamat\",\n      \"properties\": {\n        \"dtype\": \"string\",\n        \"num_unique_values\": 939,\n        \"samples\": [\n          \"Paris Van Java, Jalan Karang Tinggal, Cipedes, Sukasari, Kota Bandung, Jawa Barat, Jawa, 40161, Indonesia\",\n          \"Alun-Alun Sidoarjo, Pucanganom, Sidoarjo, Jawa Timur, Jawa, Indonesia\",\n          \"Candi Mendut, Jalan Mayor Kusen, Ngrajek, Mendut, Magelang, Jawa Tengah, Jawa, 56511, Indonesia\"\n        ],\n        \"semantic_type\": \"\",\n        \"description\": \"\"\n      }\n    },\n    {\n      \"column\": \"provinsi\",\n      \"properties\": {\n        \"dtype\": \"category\",\n        \"num_unique_values\": 36,\n        \"samples\": [\n          \"Papua\",\n          \"Kalimantan Tengah\",\n          \"Kalimantan Timur\"\n        ],\n        \"semantic_type\": \"\",\n        \"description\": \"\"\n      }\n    },\n    {\n      \"column\": \"kota_kabupaten\",\n      \"properties\": {\n        \"dtype\": \"category\",\n        \"num_unique_values\": 254,\n        \"samples\": [\n          \"Kelurahan Cilacap Kecamatan Cilacap\",\n          \"Tasikmalaya\",\n          \"Badung\"\n        ],\n        \"semantic_type\": \"\",\n        \"description\": \"\"\n      }\n    },\n    {\n      \"column\": \"nama_lengkap\",\n      \"properties\": {\n        \"dtype\": \"string\",\n        \"num_unique_values\": 1025,\n        \"samples\": [\n          \"Pantai Sulamadaha, Ternate, Maluku Utara\",\n          \"Museum Batik Pekalongan, Pekalongan, Jawa Tengah\",\n          \"Pantai Batu Bedaun, Bangka, Kepulauan Bangka Belitung\"\n        ],\n        \"semantic_type\": \"\",\n        \"description\": \"\"\n      }\n    },\n    {\n      \"column\": \"deskripsi\",\n      \"properties\": {\n        \"dtype\": \"string\",\n        \"num_unique_values\": 520,\n        \"samples\": [\n          \"Museum Wayang adalah sebuah museum yang berlokasi di Jalan Pintu Besar Utara Nomor 27, Jakarta Barat.\\r\\n\\r\\n\\r\\n== Sejarah ==\\r\\n\\r\\nGedung yang tampak unik dan menarik ini telah beberapa kali mengalami perombakan.\",\n          \"Jawa adalah salah satu pulau di Indonesia yang terletak di Kepulauan Sunda Besar dan merupakan pulau terluas ke-13 di dunia. Jumlah penduduk di Pulau Jawa sekitar 150 juta.\",\n          \"Air Terjun Moramo terletak di kawasan Hutan Suaka Alam Tanjung Peropa, Sulawesi Tenggara dan merupakan air terjun bertingkat (cascade) yang indah dengan ketinggian sekitar 100 meter. Dari ketinggian tersebut, air mengalir melewati tujuh tingkatan utama.\"\n        ],\n        \"semantic_type\": \"\",\n        \"description\": \"\"\n      }\n    },\n    {\n      \"column\": \"path\",\n      \"properties\": {\n        \"dtype\": \"string\",\n        \"num_unique_values\": 1025,\n        \"samples\": [\n          \"gambar_wisata/Pantai_Sulamadaha\",\n          \"gambar_wisata/Museum_Batik_Pekalongan\",\n          \"gambar_wisata/Pantai_Batu_Bedaun\"\n        ],\n        \"semantic_type\": \"\",\n        \"description\": \"\"\n      }\n    },\n    {\n      \"column\": \"path_gambar\",\n      \"properties\": {\n        \"dtype\": \"string\",\n        \"num_unique_values\": 1025,\n        \"samples\": [\n          \"gambar_wisata/Pantai_Sulamadaha\",\n          \"gambar_wisata/Museum_Batik_Pekalongan\",\n          \"gambar_wisata/Pantai_Batu_Bedaun\"\n        ],\n        \"semantic_type\": \"\",\n        \"description\": \"\"\n      }\n    }\n  ]\n}"
            }
          },
          "metadata": {},
          "execution_count": 3
        }
      ]
    },
    {
      "cell_type": "markdown",
      "source": [
        "Data diatas adalah contoh 5 baris pertama dari dataset wisata Indonesia yang berisi informasi seperti kategori wisata (misal: air terjun), nama wisata, koordinat geografis (latitude dan longitude), alamat lengkap, provinsi dan kota/kabupaten, nama lengkap tempat wisata, deskripsi singkat, serta path untuk file data dan gambar terkait wisata tersebut."
      ],
      "metadata": {
        "id": "2BuC_vxPLfeD"
      }
    },
    {
      "cell_type": "code",
      "source": [
        "df.info()"
      ],
      "metadata": {
        "colab": {
          "base_uri": "https://localhost:8080/"
        },
        "id": "X_UJX9HbBRw-",
        "outputId": "ef2ac141-e097-4982-8eca-3858bf2d6545"
      },
      "execution_count": 4,
      "outputs": [
        {
          "output_type": "stream",
          "name": "stdout",
          "text": [
            "<class 'pandas.core.frame.DataFrame'>\n",
            "RangeIndex: 1025 entries, 0 to 1024\n",
            "Data columns (total 11 columns):\n",
            " #   Column          Non-Null Count  Dtype  \n",
            "---  ------          --------------  -----  \n",
            " 0   kategori        1025 non-null   object \n",
            " 1   nama_wisata     1025 non-null   object \n",
            " 2   latitude        1025 non-null   float64\n",
            " 3   longitude       1025 non-null   float64\n",
            " 4   alamat          1025 non-null   object \n",
            " 5   provinsi        935 non-null    object \n",
            " 6   kota_kabupaten  1007 non-null   object \n",
            " 7   nama_lengkap    1025 non-null   object \n",
            " 8   deskripsi       1025 non-null   object \n",
            " 9   path            1025 non-null   object \n",
            " 10  path_gambar     1025 non-null   object \n",
            "dtypes: float64(2), object(9)\n",
            "memory usage: 88.2+ KB\n"
          ]
        }
      ]
    },
    {
      "cell_type": "markdown",
      "source": [
        "Dataset berisi 1.025 baris dengan 11 kolom yang mencakup data kategori, nama wisata, koordinat (latitude dan longitude), alamat, provinsi, kota/kabupaten, nama lengkap, deskripsi, dan path file serta gambar. Beberapa kolom seperti provinsi dan kota_kabupaten memiliki nilai kosong (null), sedangkan kolom lainnya lengkap."
      ],
      "metadata": {
        "id": "vO-kUtfiLowi"
      }
    },
    {
      "cell_type": "code",
      "source": [
        "df.describe()"
      ],
      "metadata": {
        "colab": {
          "base_uri": "https://localhost:8080/",
          "height": 300
        },
        "id": "jLYIHyFhBTb9",
        "outputId": "a788da80-1ab4-4c9e-804a-e204b1ca0fc0"
      },
      "execution_count": 5,
      "outputs": [
        {
          "output_type": "execute_result",
          "data": {
            "text/plain": [
              "          latitude    longitude\n",
              "count  1025.000000  1025.000000\n",
              "mean     -5.590934   112.866129\n",
              "std       3.330162     6.952516\n",
              "min     -10.889898    95.315165\n",
              "25%      -7.901259   107.620323\n",
              "50%      -6.889073   111.709203\n",
              "75%      -3.812014   116.108254\n",
              "max       5.553631   140.769264"
            ],
            "text/html": [
              "\n",
              "  <div id=\"df-f6262317-fb63-49e5-a5a0-d5003be40343\" class=\"colab-df-container\">\n",
              "    <div>\n",
              "<style scoped>\n",
              "    .dataframe tbody tr th:only-of-type {\n",
              "        vertical-align: middle;\n",
              "    }\n",
              "\n",
              "    .dataframe tbody tr th {\n",
              "        vertical-align: top;\n",
              "    }\n",
              "\n",
              "    .dataframe thead th {\n",
              "        text-align: right;\n",
              "    }\n",
              "</style>\n",
              "<table border=\"1\" class=\"dataframe\">\n",
              "  <thead>\n",
              "    <tr style=\"text-align: right;\">\n",
              "      <th></th>\n",
              "      <th>latitude</th>\n",
              "      <th>longitude</th>\n",
              "    </tr>\n",
              "  </thead>\n",
              "  <tbody>\n",
              "    <tr>\n",
              "      <th>count</th>\n",
              "      <td>1025.000000</td>\n",
              "      <td>1025.000000</td>\n",
              "    </tr>\n",
              "    <tr>\n",
              "      <th>mean</th>\n",
              "      <td>-5.590934</td>\n",
              "      <td>112.866129</td>\n",
              "    </tr>\n",
              "    <tr>\n",
              "      <th>std</th>\n",
              "      <td>3.330162</td>\n",
              "      <td>6.952516</td>\n",
              "    </tr>\n",
              "    <tr>\n",
              "      <th>min</th>\n",
              "      <td>-10.889898</td>\n",
              "      <td>95.315165</td>\n",
              "    </tr>\n",
              "    <tr>\n",
              "      <th>25%</th>\n",
              "      <td>-7.901259</td>\n",
              "      <td>107.620323</td>\n",
              "    </tr>\n",
              "    <tr>\n",
              "      <th>50%</th>\n",
              "      <td>-6.889073</td>\n",
              "      <td>111.709203</td>\n",
              "    </tr>\n",
              "    <tr>\n",
              "      <th>75%</th>\n",
              "      <td>-3.812014</td>\n",
              "      <td>116.108254</td>\n",
              "    </tr>\n",
              "    <tr>\n",
              "      <th>max</th>\n",
              "      <td>5.553631</td>\n",
              "      <td>140.769264</td>\n",
              "    </tr>\n",
              "  </tbody>\n",
              "</table>\n",
              "</div>\n",
              "    <div class=\"colab-df-buttons\">\n",
              "\n",
              "  <div class=\"colab-df-container\">\n",
              "    <button class=\"colab-df-convert\" onclick=\"convertToInteractive('df-f6262317-fb63-49e5-a5a0-d5003be40343')\"\n",
              "            title=\"Convert this dataframe to an interactive table.\"\n",
              "            style=\"display:none;\">\n",
              "\n",
              "  <svg xmlns=\"http://www.w3.org/2000/svg\" height=\"24px\" viewBox=\"0 -960 960 960\">\n",
              "    <path d=\"M120-120v-720h720v720H120Zm60-500h600v-160H180v160Zm220 220h160v-160H400v160Zm0 220h160v-160H400v160ZM180-400h160v-160H180v160Zm440 0h160v-160H620v160ZM180-180h160v-160H180v160Zm440 0h160v-160H620v160Z\"/>\n",
              "  </svg>\n",
              "    </button>\n",
              "\n",
              "  <style>\n",
              "    .colab-df-container {\n",
              "      display:flex;\n",
              "      gap: 12px;\n",
              "    }\n",
              "\n",
              "    .colab-df-convert {\n",
              "      background-color: #E8F0FE;\n",
              "      border: none;\n",
              "      border-radius: 50%;\n",
              "      cursor: pointer;\n",
              "      display: none;\n",
              "      fill: #1967D2;\n",
              "      height: 32px;\n",
              "      padding: 0 0 0 0;\n",
              "      width: 32px;\n",
              "    }\n",
              "\n",
              "    .colab-df-convert:hover {\n",
              "      background-color: #E2EBFA;\n",
              "      box-shadow: 0px 1px 2px rgba(60, 64, 67, 0.3), 0px 1px 3px 1px rgba(60, 64, 67, 0.15);\n",
              "      fill: #174EA6;\n",
              "    }\n",
              "\n",
              "    .colab-df-buttons div {\n",
              "      margin-bottom: 4px;\n",
              "    }\n",
              "\n",
              "    [theme=dark] .colab-df-convert {\n",
              "      background-color: #3B4455;\n",
              "      fill: #D2E3FC;\n",
              "    }\n",
              "\n",
              "    [theme=dark] .colab-df-convert:hover {\n",
              "      background-color: #434B5C;\n",
              "      box-shadow: 0px 1px 3px 1px rgba(0, 0, 0, 0.15);\n",
              "      filter: drop-shadow(0px 1px 2px rgba(0, 0, 0, 0.3));\n",
              "      fill: #FFFFFF;\n",
              "    }\n",
              "  </style>\n",
              "\n",
              "    <script>\n",
              "      const buttonEl =\n",
              "        document.querySelector('#df-f6262317-fb63-49e5-a5a0-d5003be40343 button.colab-df-convert');\n",
              "      buttonEl.style.display =\n",
              "        google.colab.kernel.accessAllowed ? 'block' : 'none';\n",
              "\n",
              "      async function convertToInteractive(key) {\n",
              "        const element = document.querySelector('#df-f6262317-fb63-49e5-a5a0-d5003be40343');\n",
              "        const dataTable =\n",
              "          await google.colab.kernel.invokeFunction('convertToInteractive',\n",
              "                                                    [key], {});\n",
              "        if (!dataTable) return;\n",
              "\n",
              "        const docLinkHtml = 'Like what you see? Visit the ' +\n",
              "          '<a target=\"_blank\" href=https://colab.research.google.com/notebooks/data_table.ipynb>data table notebook</a>'\n",
              "          + ' to learn more about interactive tables.';\n",
              "        element.innerHTML = '';\n",
              "        dataTable['output_type'] = 'display_data';\n",
              "        await google.colab.output.renderOutput(dataTable, element);\n",
              "        const docLink = document.createElement('div');\n",
              "        docLink.innerHTML = docLinkHtml;\n",
              "        element.appendChild(docLink);\n",
              "      }\n",
              "    </script>\n",
              "  </div>\n",
              "\n",
              "\n",
              "    <div id=\"df-8e705c06-5bdc-4a51-a309-6ef0cdb1ccd6\">\n",
              "      <button class=\"colab-df-quickchart\" onclick=\"quickchart('df-8e705c06-5bdc-4a51-a309-6ef0cdb1ccd6')\"\n",
              "                title=\"Suggest charts\"\n",
              "                style=\"display:none;\">\n",
              "\n",
              "<svg xmlns=\"http://www.w3.org/2000/svg\" height=\"24px\"viewBox=\"0 0 24 24\"\n",
              "     width=\"24px\">\n",
              "    <g>\n",
              "        <path d=\"M19 3H5c-1.1 0-2 .9-2 2v14c0 1.1.9 2 2 2h14c1.1 0 2-.9 2-2V5c0-1.1-.9-2-2-2zM9 17H7v-7h2v7zm4 0h-2V7h2v10zm4 0h-2v-4h2v4z\"/>\n",
              "    </g>\n",
              "</svg>\n",
              "      </button>\n",
              "\n",
              "<style>\n",
              "  .colab-df-quickchart {\n",
              "      --bg-color: #E8F0FE;\n",
              "      --fill-color: #1967D2;\n",
              "      --hover-bg-color: #E2EBFA;\n",
              "      --hover-fill-color: #174EA6;\n",
              "      --disabled-fill-color: #AAA;\n",
              "      --disabled-bg-color: #DDD;\n",
              "  }\n",
              "\n",
              "  [theme=dark] .colab-df-quickchart {\n",
              "      --bg-color: #3B4455;\n",
              "      --fill-color: #D2E3FC;\n",
              "      --hover-bg-color: #434B5C;\n",
              "      --hover-fill-color: #FFFFFF;\n",
              "      --disabled-bg-color: #3B4455;\n",
              "      --disabled-fill-color: #666;\n",
              "  }\n",
              "\n",
              "  .colab-df-quickchart {\n",
              "    background-color: var(--bg-color);\n",
              "    border: none;\n",
              "    border-radius: 50%;\n",
              "    cursor: pointer;\n",
              "    display: none;\n",
              "    fill: var(--fill-color);\n",
              "    height: 32px;\n",
              "    padding: 0;\n",
              "    width: 32px;\n",
              "  }\n",
              "\n",
              "  .colab-df-quickchart:hover {\n",
              "    background-color: var(--hover-bg-color);\n",
              "    box-shadow: 0 1px 2px rgba(60, 64, 67, 0.3), 0 1px 3px 1px rgba(60, 64, 67, 0.15);\n",
              "    fill: var(--button-hover-fill-color);\n",
              "  }\n",
              "\n",
              "  .colab-df-quickchart-complete:disabled,\n",
              "  .colab-df-quickchart-complete:disabled:hover {\n",
              "    background-color: var(--disabled-bg-color);\n",
              "    fill: var(--disabled-fill-color);\n",
              "    box-shadow: none;\n",
              "  }\n",
              "\n",
              "  .colab-df-spinner {\n",
              "    border: 2px solid var(--fill-color);\n",
              "    border-color: transparent;\n",
              "    border-bottom-color: var(--fill-color);\n",
              "    animation:\n",
              "      spin 1s steps(1) infinite;\n",
              "  }\n",
              "\n",
              "  @keyframes spin {\n",
              "    0% {\n",
              "      border-color: transparent;\n",
              "      border-bottom-color: var(--fill-color);\n",
              "      border-left-color: var(--fill-color);\n",
              "    }\n",
              "    20% {\n",
              "      border-color: transparent;\n",
              "      border-left-color: var(--fill-color);\n",
              "      border-top-color: var(--fill-color);\n",
              "    }\n",
              "    30% {\n",
              "      border-color: transparent;\n",
              "      border-left-color: var(--fill-color);\n",
              "      border-top-color: var(--fill-color);\n",
              "      border-right-color: var(--fill-color);\n",
              "    }\n",
              "    40% {\n",
              "      border-color: transparent;\n",
              "      border-right-color: var(--fill-color);\n",
              "      border-top-color: var(--fill-color);\n",
              "    }\n",
              "    60% {\n",
              "      border-color: transparent;\n",
              "      border-right-color: var(--fill-color);\n",
              "    }\n",
              "    80% {\n",
              "      border-color: transparent;\n",
              "      border-right-color: var(--fill-color);\n",
              "      border-bottom-color: var(--fill-color);\n",
              "    }\n",
              "    90% {\n",
              "      border-color: transparent;\n",
              "      border-bottom-color: var(--fill-color);\n",
              "    }\n",
              "  }\n",
              "</style>\n",
              "\n",
              "      <script>\n",
              "        async function quickchart(key) {\n",
              "          const quickchartButtonEl =\n",
              "            document.querySelector('#' + key + ' button');\n",
              "          quickchartButtonEl.disabled = true;  // To prevent multiple clicks.\n",
              "          quickchartButtonEl.classList.add('colab-df-spinner');\n",
              "          try {\n",
              "            const charts = await google.colab.kernel.invokeFunction(\n",
              "                'suggestCharts', [key], {});\n",
              "          } catch (error) {\n",
              "            console.error('Error during call to suggestCharts:', error);\n",
              "          }\n",
              "          quickchartButtonEl.classList.remove('colab-df-spinner');\n",
              "          quickchartButtonEl.classList.add('colab-df-quickchart-complete');\n",
              "        }\n",
              "        (() => {\n",
              "          let quickchartButtonEl =\n",
              "            document.querySelector('#df-8e705c06-5bdc-4a51-a309-6ef0cdb1ccd6 button');\n",
              "          quickchartButtonEl.style.display =\n",
              "            google.colab.kernel.accessAllowed ? 'block' : 'none';\n",
              "        })();\n",
              "      </script>\n",
              "    </div>\n",
              "\n",
              "    </div>\n",
              "  </div>\n"
            ],
            "application/vnd.google.colaboratory.intrinsic+json": {
              "type": "dataframe",
              "summary": "{\n  \"name\": \"df\",\n  \"rows\": 8,\n  \"fields\": [\n    {\n      \"column\": \"latitude\",\n      \"properties\": {\n        \"dtype\": \"number\",\n        \"std\": 363.7583319181974,\n        \"min\": -10.8898977,\n        \"max\": 1025.0,\n        \"num_unique_values\": 8,\n        \"samples\": [\n          -5.5909337742439025,\n          -6.8890732,\n          1025.0\n        ],\n        \"semantic_type\": \"\",\n        \"description\": \"\"\n      }\n    },\n    {\n      \"column\": \"longitude\",\n      \"properties\": {\n        \"dtype\": \"number\",\n        \"std\": 329.85430379927675,\n        \"min\": 6.952516433364058,\n        \"max\": 1025.0,\n        \"num_unique_values\": 8,\n        \"samples\": [\n          112.86612948302438,\n          111.7092032,\n          1025.0\n        ],\n        \"semantic_type\": \"\",\n        \"description\": \"\"\n      }\n    }\n  ]\n}"
            }
          },
          "metadata": {},
          "execution_count": 5
        }
      ]
    },
    {
      "cell_type": "markdown",
      "source": [
        "Statistik deskriptif pada kolom latitude dan longitude menunjukkan data koordinat geografis wisata di Indonesia, dengan latitude rata-rata sekitar -5,59 dan longitude rata-rata sekitar 112,87. Rentang latitude dari -10,89 sampai 5,55 dan longitude dari 95,31 sampai 140,77 menunjukkan sebaran lokasi wisata yang mencakup wilayah Indonesia dari barat ke timur."
      ],
      "metadata": {
        "id": "PViaQlyJLvnd"
      }
    },
    {
      "cell_type": "markdown",
      "source": [
        "# **EDA**"
      ],
      "metadata": {
        "id": "BbbUfjPHG3Qu"
      }
    },
    {
      "cell_type": "code",
      "source": [
        "df['provinsi'].value_counts()"
      ],
      "metadata": {
        "id": "MJt5KreoG5jE",
        "colab": {
          "base_uri": "https://localhost:8080/",
          "height": 1000
        },
        "outputId": "eb9aff33-4568-4a46-884e-89758c2a55cf"
      },
      "execution_count": 6,
      "outputs": [
        {
          "output_type": "execute_result",
          "data": {
            "text/plain": [
              "provinsi\n",
              "Jawa Timur                    119\n",
              "Jawa Barat                    105\n",
              "Jawa Tengah                    99\n",
              "Bali                           98\n",
              "Daerah Istimewa Yogyakarta     80\n",
              "Nusa Tenggara Barat            52\n",
              "Kalimantan Timur               42\n",
              "Sulawesi Selatan               38\n",
              "Nusa Tenggara Timur            32\n",
              "Kalimantan Barat               26\n",
              "Sumatera Utara                 19\n",
              "Sulawesi Tenggara              19\n",
              "Sulawesi Utara                 19\n",
              "Sumatera Selatan               18\n",
              "Kalimantan Tengah              17\n",
              "Maluku                         16\n",
              "Lampung                        16\n",
              "Maluku Utara                   15\n",
              "Kepulauan Bangka Belitung      13\n",
              "Banten                         12\n",
              "Papua Barat Daya               11\n",
              "Sumatera Barat                 10\n",
              "Sulawesi Tengah                 9\n",
              "Kalimantan Selatan              7\n",
              "Sulawesi Barat                  6\n",
              "Jambi                           6\n",
              "Aceh                            5\n",
              "Riau                            5\n",
              "Kalimantan Utara                4\n",
              "Gorontalo                       4\n",
              "Papua Pegunungan                3\n",
              "Papua Barat                     3\n",
              "Bengkulu                        2\n",
              "Papua Tengah                    2\n",
              "Papua Selatan                   2\n",
              "Papua                           1\n",
              "Name: count, dtype: int64"
            ],
            "text/html": [
              "<div>\n",
              "<style scoped>\n",
              "    .dataframe tbody tr th:only-of-type {\n",
              "        vertical-align: middle;\n",
              "    }\n",
              "\n",
              "    .dataframe tbody tr th {\n",
              "        vertical-align: top;\n",
              "    }\n",
              "\n",
              "    .dataframe thead th {\n",
              "        text-align: right;\n",
              "    }\n",
              "</style>\n",
              "<table border=\"1\" class=\"dataframe\">\n",
              "  <thead>\n",
              "    <tr style=\"text-align: right;\">\n",
              "      <th></th>\n",
              "      <th>count</th>\n",
              "    </tr>\n",
              "    <tr>\n",
              "      <th>provinsi</th>\n",
              "      <th></th>\n",
              "    </tr>\n",
              "  </thead>\n",
              "  <tbody>\n",
              "    <tr>\n",
              "      <th>Jawa Timur</th>\n",
              "      <td>119</td>\n",
              "    </tr>\n",
              "    <tr>\n",
              "      <th>Jawa Barat</th>\n",
              "      <td>105</td>\n",
              "    </tr>\n",
              "    <tr>\n",
              "      <th>Jawa Tengah</th>\n",
              "      <td>99</td>\n",
              "    </tr>\n",
              "    <tr>\n",
              "      <th>Bali</th>\n",
              "      <td>98</td>\n",
              "    </tr>\n",
              "    <tr>\n",
              "      <th>Daerah Istimewa Yogyakarta</th>\n",
              "      <td>80</td>\n",
              "    </tr>\n",
              "    <tr>\n",
              "      <th>Nusa Tenggara Barat</th>\n",
              "      <td>52</td>\n",
              "    </tr>\n",
              "    <tr>\n",
              "      <th>Kalimantan Timur</th>\n",
              "      <td>42</td>\n",
              "    </tr>\n",
              "    <tr>\n",
              "      <th>Sulawesi Selatan</th>\n",
              "      <td>38</td>\n",
              "    </tr>\n",
              "    <tr>\n",
              "      <th>Nusa Tenggara Timur</th>\n",
              "      <td>32</td>\n",
              "    </tr>\n",
              "    <tr>\n",
              "      <th>Kalimantan Barat</th>\n",
              "      <td>26</td>\n",
              "    </tr>\n",
              "    <tr>\n",
              "      <th>Sumatera Utara</th>\n",
              "      <td>19</td>\n",
              "    </tr>\n",
              "    <tr>\n",
              "      <th>Sulawesi Tenggara</th>\n",
              "      <td>19</td>\n",
              "    </tr>\n",
              "    <tr>\n",
              "      <th>Sulawesi Utara</th>\n",
              "      <td>19</td>\n",
              "    </tr>\n",
              "    <tr>\n",
              "      <th>Sumatera Selatan</th>\n",
              "      <td>18</td>\n",
              "    </tr>\n",
              "    <tr>\n",
              "      <th>Kalimantan Tengah</th>\n",
              "      <td>17</td>\n",
              "    </tr>\n",
              "    <tr>\n",
              "      <th>Maluku</th>\n",
              "      <td>16</td>\n",
              "    </tr>\n",
              "    <tr>\n",
              "      <th>Lampung</th>\n",
              "      <td>16</td>\n",
              "    </tr>\n",
              "    <tr>\n",
              "      <th>Maluku Utara</th>\n",
              "      <td>15</td>\n",
              "    </tr>\n",
              "    <tr>\n",
              "      <th>Kepulauan Bangka Belitung</th>\n",
              "      <td>13</td>\n",
              "    </tr>\n",
              "    <tr>\n",
              "      <th>Banten</th>\n",
              "      <td>12</td>\n",
              "    </tr>\n",
              "    <tr>\n",
              "      <th>Papua Barat Daya</th>\n",
              "      <td>11</td>\n",
              "    </tr>\n",
              "    <tr>\n",
              "      <th>Sumatera Barat</th>\n",
              "      <td>10</td>\n",
              "    </tr>\n",
              "    <tr>\n",
              "      <th>Sulawesi Tengah</th>\n",
              "      <td>9</td>\n",
              "    </tr>\n",
              "    <tr>\n",
              "      <th>Kalimantan Selatan</th>\n",
              "      <td>7</td>\n",
              "    </tr>\n",
              "    <tr>\n",
              "      <th>Sulawesi Barat</th>\n",
              "      <td>6</td>\n",
              "    </tr>\n",
              "    <tr>\n",
              "      <th>Jambi</th>\n",
              "      <td>6</td>\n",
              "    </tr>\n",
              "    <tr>\n",
              "      <th>Aceh</th>\n",
              "      <td>5</td>\n",
              "    </tr>\n",
              "    <tr>\n",
              "      <th>Riau</th>\n",
              "      <td>5</td>\n",
              "    </tr>\n",
              "    <tr>\n",
              "      <th>Kalimantan Utara</th>\n",
              "      <td>4</td>\n",
              "    </tr>\n",
              "    <tr>\n",
              "      <th>Gorontalo</th>\n",
              "      <td>4</td>\n",
              "    </tr>\n",
              "    <tr>\n",
              "      <th>Papua Pegunungan</th>\n",
              "      <td>3</td>\n",
              "    </tr>\n",
              "    <tr>\n",
              "      <th>Papua Barat</th>\n",
              "      <td>3</td>\n",
              "    </tr>\n",
              "    <tr>\n",
              "      <th>Bengkulu</th>\n",
              "      <td>2</td>\n",
              "    </tr>\n",
              "    <tr>\n",
              "      <th>Papua Tengah</th>\n",
              "      <td>2</td>\n",
              "    </tr>\n",
              "    <tr>\n",
              "      <th>Papua Selatan</th>\n",
              "      <td>2</td>\n",
              "    </tr>\n",
              "    <tr>\n",
              "      <th>Papua</th>\n",
              "      <td>1</td>\n",
              "    </tr>\n",
              "  </tbody>\n",
              "</table>\n",
              "</div><br><label><b>dtype:</b> int64</label>"
            ]
          },
          "metadata": {},
          "execution_count": 6
        }
      ]
    },
    {
      "cell_type": "markdown",
      "source": [
        "Distribusi data wisata menurut provinsi menunjukkan Jawa Timur memiliki jumlah objek wisata terbanyak (209), diikuti Jawa Barat (105) dan Jawa Tengah (99). Provinsi lain dengan jumlah cukup banyak adalah Bali (98) dan Daerah Istimewa Yogyakarta (80). Sementara beberapa provinsi di Papua dan Bengkulu memiliki jumlah objek wisata yang sangat sedikit, menunjukkan persebaran wisata yang lebih terkonsentrasi di Pulau Jawa dan beberapa wilayah lain."
      ],
      "metadata": {
        "id": "JXUmPUSkMJxT"
      }
    },
    {
      "cell_type": "code",
      "source": [
        "df['kategori'].value_counts()"
      ],
      "metadata": {
        "colab": {
          "base_uri": "https://localhost:8080/",
          "height": 1000
        },
        "id": "X7ZO3CRIL9tv",
        "outputId": "cdbfe753-3099-431e-ef6d-4a2fc20bcc13"
      },
      "execution_count": 7,
      "outputs": [
        {
          "output_type": "execute_result",
          "data": {
            "text/plain": [
              "kategori\n",
              "wisata alam        169\n",
              "pantai             104\n",
              "museum              90\n",
              "mall                77\n",
              "gunung              74\n",
              "wisata kuliner      67\n",
              "taman               65\n",
              "alun-alun           55\n",
              "wisata religi       48\n",
              "bukit               47\n",
              "wisata edukasi      43\n",
              "candi               40\n",
              "wahana keluarga     26\n",
              "wisata kerajaan     23\n",
              "air terjun          22\n",
              "wisata tematik      20\n",
              "kebun binatang      17\n",
              "monumen              9\n",
              "rumah adat           8\n",
              "lembah               5\n",
              "wisate alam          4\n",
              "cafe view            3\n",
              "wisata lampion       2\n",
              "wisawi alam          2\n",
              "wisata  religi       1\n",
              "wisath alam          1\n",
              "wisatr alam          1\n",
              "wisaub alam          1\n",
              "wisawa alam          1\n",
              "Name: count, dtype: int64"
            ],
            "text/html": [
              "<div>\n",
              "<style scoped>\n",
              "    .dataframe tbody tr th:only-of-type {\n",
              "        vertical-align: middle;\n",
              "    }\n",
              "\n",
              "    .dataframe tbody tr th {\n",
              "        vertical-align: top;\n",
              "    }\n",
              "\n",
              "    .dataframe thead th {\n",
              "        text-align: right;\n",
              "    }\n",
              "</style>\n",
              "<table border=\"1\" class=\"dataframe\">\n",
              "  <thead>\n",
              "    <tr style=\"text-align: right;\">\n",
              "      <th></th>\n",
              "      <th>count</th>\n",
              "    </tr>\n",
              "    <tr>\n",
              "      <th>kategori</th>\n",
              "      <th></th>\n",
              "    </tr>\n",
              "  </thead>\n",
              "  <tbody>\n",
              "    <tr>\n",
              "      <th>wisata alam</th>\n",
              "      <td>169</td>\n",
              "    </tr>\n",
              "    <tr>\n",
              "      <th>pantai</th>\n",
              "      <td>104</td>\n",
              "    </tr>\n",
              "    <tr>\n",
              "      <th>museum</th>\n",
              "      <td>90</td>\n",
              "    </tr>\n",
              "    <tr>\n",
              "      <th>mall</th>\n",
              "      <td>77</td>\n",
              "    </tr>\n",
              "    <tr>\n",
              "      <th>gunung</th>\n",
              "      <td>74</td>\n",
              "    </tr>\n",
              "    <tr>\n",
              "      <th>wisata kuliner</th>\n",
              "      <td>67</td>\n",
              "    </tr>\n",
              "    <tr>\n",
              "      <th>taman</th>\n",
              "      <td>65</td>\n",
              "    </tr>\n",
              "    <tr>\n",
              "      <th>alun-alun</th>\n",
              "      <td>55</td>\n",
              "    </tr>\n",
              "    <tr>\n",
              "      <th>wisata religi</th>\n",
              "      <td>48</td>\n",
              "    </tr>\n",
              "    <tr>\n",
              "      <th>bukit</th>\n",
              "      <td>47</td>\n",
              "    </tr>\n",
              "    <tr>\n",
              "      <th>wisata edukasi</th>\n",
              "      <td>43</td>\n",
              "    </tr>\n",
              "    <tr>\n",
              "      <th>candi</th>\n",
              "      <td>40</td>\n",
              "    </tr>\n",
              "    <tr>\n",
              "      <th>wahana keluarga</th>\n",
              "      <td>26</td>\n",
              "    </tr>\n",
              "    <tr>\n",
              "      <th>wisata kerajaan</th>\n",
              "      <td>23</td>\n",
              "    </tr>\n",
              "    <tr>\n",
              "      <th>air terjun</th>\n",
              "      <td>22</td>\n",
              "    </tr>\n",
              "    <tr>\n",
              "      <th>wisata tematik</th>\n",
              "      <td>20</td>\n",
              "    </tr>\n",
              "    <tr>\n",
              "      <th>kebun binatang</th>\n",
              "      <td>17</td>\n",
              "    </tr>\n",
              "    <tr>\n",
              "      <th>monumen</th>\n",
              "      <td>9</td>\n",
              "    </tr>\n",
              "    <tr>\n",
              "      <th>rumah adat</th>\n",
              "      <td>8</td>\n",
              "    </tr>\n",
              "    <tr>\n",
              "      <th>lembah</th>\n",
              "      <td>5</td>\n",
              "    </tr>\n",
              "    <tr>\n",
              "      <th>wisate alam</th>\n",
              "      <td>4</td>\n",
              "    </tr>\n",
              "    <tr>\n",
              "      <th>cafe view</th>\n",
              "      <td>3</td>\n",
              "    </tr>\n",
              "    <tr>\n",
              "      <th>wisata lampion</th>\n",
              "      <td>2</td>\n",
              "    </tr>\n",
              "    <tr>\n",
              "      <th>wisawi alam</th>\n",
              "      <td>2</td>\n",
              "    </tr>\n",
              "    <tr>\n",
              "      <th>wisata  religi</th>\n",
              "      <td>1</td>\n",
              "    </tr>\n",
              "    <tr>\n",
              "      <th>wisath alam</th>\n",
              "      <td>1</td>\n",
              "    </tr>\n",
              "    <tr>\n",
              "      <th>wisatr alam</th>\n",
              "      <td>1</td>\n",
              "    </tr>\n",
              "    <tr>\n",
              "      <th>wisaub alam</th>\n",
              "      <td>1</td>\n",
              "    </tr>\n",
              "    <tr>\n",
              "      <th>wisawa alam</th>\n",
              "      <td>1</td>\n",
              "    </tr>\n",
              "  </tbody>\n",
              "</table>\n",
              "</div><br><label><b>dtype:</b> int64</label>"
            ]
          },
          "metadata": {},
          "execution_count": 7
        }
      ]
    },
    {
      "cell_type": "markdown",
      "source": [
        "Kategori wisata terbanyak adalah wisata alam (179), diikuti pantai (104), museum (90), dan mall (77). Kategori lain yang cukup banyak termasuk gunung, wisata kuliner, taman, dan alun-alun. Beberapa kategori seperti wisata lampion dan cafe view memiliki jumlah yang sangat sedikit, menunjukkan variasi jenis objek wisata yang cukup beragam dalam dataset."
      ],
      "metadata": {
        "id": "Sb15St-wMQxy"
      }
    },
    {
      "cell_type": "code",
      "source": [
        "df['kota_kabupaten'].value_counts().head()"
      ],
      "metadata": {
        "colab": {
          "base_uri": "https://localhost:8080/",
          "height": 272
        },
        "id": "FvGirJG7L_Z2",
        "outputId": "bcbffb15-f040-4462-990d-173274f357e2"
      },
      "execution_count": 8,
      "outputs": [
        {
          "output_type": "execute_result",
          "data": {
            "text/plain": [
              "kota_kabupaten\n",
              "Daerah Khusus ibukota Jakarta    73\n",
              "Badung                           30\n",
              "Gianyar                          29\n",
              "Sleman                           22\n",
              "Kota Bandung                     22\n",
              "Name: count, dtype: int64"
            ],
            "text/html": [
              "<div>\n",
              "<style scoped>\n",
              "    .dataframe tbody tr th:only-of-type {\n",
              "        vertical-align: middle;\n",
              "    }\n",
              "\n",
              "    .dataframe tbody tr th {\n",
              "        vertical-align: top;\n",
              "    }\n",
              "\n",
              "    .dataframe thead th {\n",
              "        text-align: right;\n",
              "    }\n",
              "</style>\n",
              "<table border=\"1\" class=\"dataframe\">\n",
              "  <thead>\n",
              "    <tr style=\"text-align: right;\">\n",
              "      <th></th>\n",
              "      <th>count</th>\n",
              "    </tr>\n",
              "    <tr>\n",
              "      <th>kota_kabupaten</th>\n",
              "      <th></th>\n",
              "    </tr>\n",
              "  </thead>\n",
              "  <tbody>\n",
              "    <tr>\n",
              "      <th>Daerah Khusus ibukota Jakarta</th>\n",
              "      <td>73</td>\n",
              "    </tr>\n",
              "    <tr>\n",
              "      <th>Badung</th>\n",
              "      <td>30</td>\n",
              "    </tr>\n",
              "    <tr>\n",
              "      <th>Gianyar</th>\n",
              "      <td>29</td>\n",
              "    </tr>\n",
              "    <tr>\n",
              "      <th>Sleman</th>\n",
              "      <td>22</td>\n",
              "    </tr>\n",
              "    <tr>\n",
              "      <th>Kota Bandung</th>\n",
              "      <td>22</td>\n",
              "    </tr>\n",
              "  </tbody>\n",
              "</table>\n",
              "</div><br><label><b>dtype:</b> int64</label>"
            ]
          },
          "metadata": {},
          "execution_count": 8
        }
      ]
    },
    {
      "cell_type": "markdown",
      "source": [
        "Kota atau kabupaten dengan jumlah objek wisata terbanyak adalah Daerah Khusus Ibukota Jakarta (73), diikuti Badung (30), Gianyar (29), Sleman (22), dan Kota Bandung (22). Hal ini menunjukkan konsentrasi wisata utama di ibu kota dan beberapa daerah populer di Bali serta Jawa Barat dan Yogyakarta."
      ],
      "metadata": {
        "id": "7MJruA2QMV80"
      }
    },
    {
      "cell_type": "code",
      "source": [
        "df['nama_wisata'].value_counts()"
      ],
      "metadata": {
        "colab": {
          "base_uri": "https://localhost:8080/",
          "height": 490
        },
        "id": "PLerMG14MAy7",
        "outputId": "453258e5-7b72-4d65-e893-f723b4c4236c"
      },
      "execution_count": 9,
      "outputs": [
        {
          "output_type": "execute_result",
          "data": {
            "text/plain": [
              "nama_wisata\n",
              "Sukawati Art Market          1\n",
              "Telaga Pengilon              1\n",
              "Tebing Keraton               1\n",
              "Tebing Breksi                1\n",
              "Watu Goyang Bantul           1\n",
              "                            ..\n",
              "Air Terjun Coban Rondo       1\n",
              "Air Terjun Bidadari          1\n",
              "Air Terjun Benang Stokel     1\n",
              "Air Terjun Benang Kelambu    1\n",
              "Air Terjun Bantimurung       1\n",
              "Name: count, Length: 1025, dtype: int64"
            ],
            "text/html": [
              "<div>\n",
              "<style scoped>\n",
              "    .dataframe tbody tr th:only-of-type {\n",
              "        vertical-align: middle;\n",
              "    }\n",
              "\n",
              "    .dataframe tbody tr th {\n",
              "        vertical-align: top;\n",
              "    }\n",
              "\n",
              "    .dataframe thead th {\n",
              "        text-align: right;\n",
              "    }\n",
              "</style>\n",
              "<table border=\"1\" class=\"dataframe\">\n",
              "  <thead>\n",
              "    <tr style=\"text-align: right;\">\n",
              "      <th></th>\n",
              "      <th>count</th>\n",
              "    </tr>\n",
              "    <tr>\n",
              "      <th>nama_wisata</th>\n",
              "      <th></th>\n",
              "    </tr>\n",
              "  </thead>\n",
              "  <tbody>\n",
              "    <tr>\n",
              "      <th>Sukawati Art Market</th>\n",
              "      <td>1</td>\n",
              "    </tr>\n",
              "    <tr>\n",
              "      <th>Telaga Pengilon</th>\n",
              "      <td>1</td>\n",
              "    </tr>\n",
              "    <tr>\n",
              "      <th>Tebing Keraton</th>\n",
              "      <td>1</td>\n",
              "    </tr>\n",
              "    <tr>\n",
              "      <th>Tebing Breksi</th>\n",
              "      <td>1</td>\n",
              "    </tr>\n",
              "    <tr>\n",
              "      <th>Watu Goyang Bantul</th>\n",
              "      <td>1</td>\n",
              "    </tr>\n",
              "    <tr>\n",
              "      <th>...</th>\n",
              "      <td>...</td>\n",
              "    </tr>\n",
              "    <tr>\n",
              "      <th>Air Terjun Coban Rondo</th>\n",
              "      <td>1</td>\n",
              "    </tr>\n",
              "    <tr>\n",
              "      <th>Air Terjun Bidadari</th>\n",
              "      <td>1</td>\n",
              "    </tr>\n",
              "    <tr>\n",
              "      <th>Air Terjun Benang Stokel</th>\n",
              "      <td>1</td>\n",
              "    </tr>\n",
              "    <tr>\n",
              "      <th>Air Terjun Benang Kelambu</th>\n",
              "      <td>1</td>\n",
              "    </tr>\n",
              "    <tr>\n",
              "      <th>Air Terjun Bantimurung</th>\n",
              "      <td>1</td>\n",
              "    </tr>\n",
              "  </tbody>\n",
              "</table>\n",
              "<p>1025 rows × 1 columns</p>\n",
              "</div><br><label><b>dtype:</b> int64</label>"
            ]
          },
          "metadata": {},
          "execution_count": 9
        }
      ]
    },
    {
      "cell_type": "markdown",
      "source": [
        "Setiap nama wisata dalam dataset muncul hanya satu kali, artinya tidak ada duplikasi nama wisata dan setiap baris mewakili objek wisata unik dengan total 1.025 objek wisata berbeda."
      ],
      "metadata": {
        "id": "tQlFA707McJg"
      }
    },
    {
      "cell_type": "markdown",
      "source": [
        "## **Eda Multivarate**"
      ],
      "metadata": {
        "id": "QjK3FTpxi9Ys"
      }
    },
    {
      "cell_type": "code",
      "source": [
        "pivot_table = pd.crosstab(df['provinsi'], df['kategori'])\n",
        "top_kat = df['kategori'].value_counts().nlargest(10).index\n",
        "top_prov = df['provinsi'].value_counts().nlargest(10).index\n",
        "pivot_filtered = pivot_table.loc[top_prov, top_kat]\n",
        "plt.figure(figsize=(12, 8))\n",
        "sns.heatmap(pivot_filtered, annot=True, fmt=\"d\", cmap=\"YlGnBu\")\n",
        "plt.title('Jumlah Tempat Wisata per Provinsi dan Kategori (Top 10)')\n",
        "plt.xlabel(\"Kategori\")\n",
        "plt.ylabel(\"Provinsi\")\n",
        "plt.tight_layout()\n",
        "plt.show()"
      ],
      "metadata": {
        "colab": {
          "base_uri": "https://localhost:8080/",
          "height": 807
        },
        "id": "vRnfCfGe3Axu",
        "outputId": "c7236477-c471-46f1-a145-813e5df74b6a"
      },
      "execution_count": 11,
      "outputs": [
        {
          "output_type": "display_data",
          "data": {
            "text/plain": [
              "<Figure size 1200x800 with 2 Axes>"
            ],
            "image/png": "[encoded data removed]"
          },
          "metadata": {}
        }
      ]
    },
    {
      "cell_type": "markdown",
      "source": [
        "Visualisasi tersebut adalah sebuah heatmap yang menunjukkan jumlah tempat wisata berdasarkan provinsi dan kategori (10 kategori teratas). Sumbu vertikal (Y) mencantumkan nama-nama provinsi, sedangkan sumbu horizontal (X) mencantumkan berbagai kategori tempat wisata seperti \"wisata alam\", \"pantai\", \"museum\", dan lainnya. Setiap sel dalam heatmap menampilkan angka yang merepresentasikan jumlah tempat wisata untuk kombinasi provinsi dan kategori tertentu. Warna sel mengindikasikan kuantitas: warna yang lebih gelap (biru tua) menunjukkan jumlah tempat wisata yang lebih banyak, sedangkan warna yang lebih terang (kuning muda) menunjukkan jumlah yang lebih sedikit, sebagaimana dijelaskan pada legenda warna di sisi kanan. Secara keseluruhan, heatmap ini memberikan gambaran tentang konsentrasi dan sebaran jenis tempat wisata di berbagai provinsi di Indonesia."
      ],
      "metadata": {
        "id": "j2WotYI9SgXL"
      }
    },
    {
      "cell_type": "markdown",
      "source": [
        "## **EDA Univariate**"
      ],
      "metadata": {
        "id": "o7S68ZZmG54-"
      }
    },
    {
      "cell_type": "code",
      "source": [
        "plt.figure(figsize=(12, 6))\n",
        "sns.countplot(data=df, y='provinsi', order=df['provinsi'].value_counts().index)\n",
        "plt.title('Jumlah Tempat Wisata per Provinsi')\n",
        "plt.xlabel('Jumlah')\n",
        "plt.ylabel('Provinsi')\n",
        "plt.tight_layout()\n",
        "plt.show()"
      ],
      "metadata": {
        "id": "bsFbuIsIjGyi",
        "colab": {
          "base_uri": "https://localhost:8080/",
          "height": 607
        },
        "outputId": "fa608d3b-8a63-4531-feff-941239d4c1d8"
      },
      "execution_count": 12,
      "outputs": [
        {
          "output_type": "display_data",
          "data": {
            "text/plain": [
              "<Figure size 1200x600 with 1 Axes>"
            ],
            "image/png": "[encoded data removed]"
          },
          "metadata": {}
        }
      ]
    },
    {
      "cell_type": "markdown",
      "source": [
        "Visualisasi data tersebut adalah diagram batang horizontal yang berjudul \"Jumlah Tempat Wisata per Provinsi\". Diagram ini menampilkan perbandingan jumlah tempat wisata di berbagai provinsi di Indonesia. Sumbu vertikal (Y) mencantumkan nama-nama provinsi, sedangkan sumbu horizontal (X) menunjukkan jumlah tempat wisata. Panjang setiap batang merepresentasikan total tempat wisata di provinsi tersebut; semakin panjang batangnya, semakin banyak jumlah tempat wisatanya. Provinsi-provinsi diurutkan dari yang memiliki jumlah tempat wisata terbanyak (di bagian atas) hingga yang paling sedikit (di bagian bawah), sehingga memudahkan untuk mengidentifikasi provinsi dengan daya tarik wisata tertinggi berdasarkan kuantitas."
      ],
      "metadata": {
        "id": "s4TVgD2LSqz4"
      }
    },
    {
      "cell_type": "code",
      "source": [
        "df['kota_kabupaten'] = df['kota_kabupaten'].apply(lambda x: re.sub(r'[^\\x00-\\x7F]+', '', str(x)))"
      ],
      "metadata": {
        "id": "ygkbr6ZoQ_xG"
      },
      "execution_count": 13,
      "outputs": []
    },
    {
      "cell_type": "markdown",
      "source": [
        "Membersihkan kolom kota_kabupaten di DataFrame df dengan menghapus semua karakter non-ASCII (karakter yang bukan dari set karakter standar bahasa Inggris). Jadi, hanya karakter ASCII biasa yang akan tersisa di tiap nilai kolom tersebut."
      ],
      "metadata": {
        "id": "qM9Kq2rlSx5i"
      }
    },
    {
      "cell_type": "code",
      "source": [
        "plt.figure(figsize=(10, 5))\n",
        "top_kota = df['kota_kabupaten'].value_counts().head(10)\n",
        "sns.barplot(x=top_kota.values, y=top_kota.index)\n",
        "plt.title('10 Kota/Kabupaten dengan Jumlah Wisata Terbanyak')\n",
        "plt.xlabel('Jumlah Tempat Wisata')\n",
        "plt.tight_layout()\n",
        "plt.show()"
      ],
      "metadata": {
        "colab": {
          "base_uri": "https://localhost:8080/",
          "height": 507
        },
        "id": "2VaAtkg_D98G",
        "outputId": "26623069-adc5-4e99-a6db-5b023cc41dc1"
      },
      "execution_count": 14,
      "outputs": [
        {
          "output_type": "display_data",
          "data": {
            "text/plain": [
              "<Figure size 1000x500 with 1 Axes>"
            ],
            "image/png": "[encoded data removed]"
          },
          "metadata": {}
        }
      ]
    },
    {
      "cell_type": "markdown",
      "source": [
        "Visualisasi data tersebut adalah diagram batang horizontal yang berjudul \"Jumlah Tempat Wisata per Provinsi\". Diagram ini menampilkan perbandingan jumlah tempat wisata di berbagai provinsi di Indonesia. Sumbu vertikal (Y) mencantumkan nama-nama provinsi, sedangkan sumbu horizontal (X) menunjukkan jumlah tempat wisata. Panjang setiap batang merepresentasikan total tempat wisata di provinsi tersebut; semakin panjang batangnya, semakin banyak jumlah tempat wisatanya. Provinsi-provinsi diurutkan dari yang memiliki jumlah tempat wisata terbanyak (di bagian atas) hingga yang paling sedikit (di bagian bawah), sehingga memudahkan untuk mengidentifikasi provinsi dengan daya tarik wisata tertinggi berdasarkan kuantitas."
      ],
      "metadata": {
        "id": "jQAOsc3LS8v0"
      }
    },
    {
      "cell_type": "markdown",
      "source": [
        "# **Data Preprocessing**"
      ],
      "metadata": {
        "id": "KX_z1WMyGzsm"
      }
    },
    {
      "cell_type": "code",
      "source": [
        "print(df.isnull().sum())"
      ],
      "metadata": {
        "colab": {
          "base_uri": "https://localhost:8080/"
        },
        "id": "PbGiwQdTszFx",
        "outputId": "6e009f94-cad6-4ffa-8546-6e278c81a11e"
      },
      "execution_count": 15,
      "outputs": [
        {
          "output_type": "stream",
          "name": "stdout",
          "text": [
            "kategori           0\n",
            "nama_wisata        0\n",
            "latitude           0\n",
            "longitude          0\n",
            "alamat             0\n",
            "provinsi          90\n",
            "kota_kabupaten     0\n",
            "nama_lengkap       0\n",
            "deskripsi          0\n",
            "path               0\n",
            "path_gambar        0\n",
            "dtype: int64\n"
          ]
        }
      ]
    },
    {
      "cell_type": "markdown",
      "source": [
        "Kolom provinsi memiliki 90 nilai yang kosong (null), sedangkan kolom lainnya tidak ada nilai yang hilang, menunjukkan data hampir lengkap kecuali untuk informasi provinsi pada beberapa baris."
      ],
      "metadata": {
        "id": "IFvdqgbYMrFY"
      }
    },
    {
      "cell_type": "code",
      "source": [
        "for col in df.columns:\n",
        "  if df[col].isnull().sum() > 0:\n",
        "    df[col].fillna(df[col].mode()[0], inplace=True)\n",
        "\n",
        "print(\"\\nMissing values after filling:\")\n",
        "print(df.isnull().sum())"
      ],
      "metadata": {
        "colab": {
          "base_uri": "https://localhost:8080/"
        },
        "id": "3P4RWNWSdWFn",
        "outputId": "d37f2f6e-0dc6-4aca-ddbb-79e5a8cf8089"
      },
      "execution_count": 16,
      "outputs": [
        {
          "output_type": "stream",
          "name": "stdout",
          "text": [
            "\n",
            "Missing values after filling:\n",
            "kategori          0\n",
            "nama_wisata       0\n",
            "latitude          0\n",
            "longitude         0\n",
            "alamat            0\n",
            "provinsi          0\n",
            "kota_kabupaten    0\n",
            "nama_lengkap      0\n",
            "deskripsi         0\n",
            "path              0\n",
            "path_gambar       0\n",
            "dtype: int64\n"
          ]
        },
        {
          "output_type": "stream",
          "name": "stderr",
          "text": [
            "<ipython-input-16-397b8c13651b>:3: FutureWarning: A value is trying to be set on a copy of a DataFrame or Series through chained assignment using an inplace method.\n",
            "The behavior will change in pandas 3.0. This inplace method will never work because the intermediate object on which we are setting values always behaves as a copy.\n",
            "\n",
            "For example, when doing 'df[col].method(value, inplace=True)', try using 'df.method({col: value}, inplace=True)' or df[col] = df[col].method(value) instead, to perform the operation inplace on the original object.\n",
            "\n",
            "\n",
            "  df[col].fillna(df[col].mode()[0], inplace=True)\n"
          ]
        }
      ]
    },
    {
      "cell_type": "markdown",
      "source": [
        "Kode tersebut mengisi nilai kosong (missing values) di setiap kolom dengan nilai modus (nilai yang paling sering muncul) pada kolom tersebut. Setelah proses ini, tidak ada lagi nilai yang kosong di dataset."
      ],
      "metadata": {
        "id": "f297eZWLMzWH"
      }
    },
    {
      "cell_type": "code",
      "source": [
        "df.duplicated().sum()"
      ],
      "metadata": {
        "colab": {
          "base_uri": "https://localhost:8080/"
        },
        "id": "b8h5yMf6jknz",
        "outputId": "03311fe9-7687-4df3-d11a-a70310a2fe28"
      },
      "execution_count": 17,
      "outputs": [
        {
          "output_type": "execute_result",
          "data": {
            "text/plain": [
              "np.int64(0)"
            ]
          },
          "metadata": {},
          "execution_count": 17
        }
      ]
    },
    {
      "cell_type": "markdown",
      "source": [
        "Tidak ditemukan baris data yang duplikat dalam dataset, artinya semua entri unik."
      ],
      "metadata": {
        "id": "EeJ3F8tuM6DA"
      }
    },
    {
      "cell_type": "code",
      "source": [
        "df[df.duplicated('nama_wisata', keep=False)]"
      ],
      "metadata": {
        "colab": {
          "base_uri": "https://localhost:8080/",
          "height": 53
        },
        "id": "3ZcIC9ALjlL_",
        "outputId": "4e3613fc-134a-4d20-f262-accb2f0b2cdd"
      },
      "execution_count": 18,
      "outputs": [
        {
          "output_type": "execute_result",
          "data": {
            "text/plain": [
              "Empty DataFrame\n",
              "Columns: [kategori, nama_wisata, latitude, longitude, alamat, provinsi, kota_kabupaten, nama_lengkap, deskripsi, path, path_gambar]\n",
              "Index: []"
            ],
            "text/html": [
              "\n",
              "  <div id=\"df-07269c9d-d774-40a8-944c-b3267ac94f35\" class=\"colab-df-container\">\n",
              "    <div>\n",
              "<style scoped>\n",
              "    .dataframe tbody tr th:only-of-type {\n",
              "        vertical-align: middle;\n",
              "    }\n",
              "\n",
              "    .dataframe tbody tr th {\n",
              "        vertical-align: top;\n",
              "    }\n",
              "\n",
              "    .dataframe thead th {\n",
              "        text-align: right;\n",
              "    }\n",
              "</style>\n",
              "<table border=\"1\" class=\"dataframe\">\n",
              "  <thead>\n",
              "    <tr style=\"text-align: right;\">\n",
              "      <th></th>\n",
              "      <th>kategori</th>\n",
              "      <th>nama_wisata</th>\n",
              "      <th>latitude</th>\n",
              "      <th>longitude</th>\n",
              "      <th>alamat</th>\n",
              "      <th>provinsi</th>\n",
              "      <th>kota_kabupaten</th>\n",
              "      <th>nama_lengkap</th>\n",
              "      <th>deskripsi</th>\n",
              "      <th>path</th>\n",
              "      <th>path_gambar</th>\n",
              "    </tr>\n",
              "  </thead>\n",
              "  <tbody>\n",
              "  </tbody>\n",
              "</table>\n",
              "</div>\n",
              "    <div class=\"colab-df-buttons\">\n",
              "\n",
              "  <div class=\"colab-df-container\">\n",
              "    <button class=\"colab-df-convert\" onclick=\"convertToInteractive('df-07269c9d-d774-40a8-944c-b3267ac94f35')\"\n",
              "            title=\"Convert this dataframe to an interactive table.\"\n",
              "            style=\"display:none;\">\n",
              "\n",
              "  <svg xmlns=\"http://www.w3.org/2000/svg\" height=\"24px\" viewBox=\"0 -960 960 960\">\n",
              "    <path d=\"M120-120v-720h720v720H120Zm60-500h600v-160H180v160Zm220 220h160v-160H400v160Zm0 220h160v-160H400v160ZM180-400h160v-160H180v160Zm440 0h160v-160H620v160ZM180-180h160v-160H180v160Zm440 0h160v-160H620v160Z\"/>\n",
              "  </svg>\n",
              "    </button>\n",
              "\n",
              "  <style>\n",
              "    .colab-df-container {\n",
              "      display:flex;\n",
              "      gap: 12px;\n",
              "    }\n",
              "\n",
              "    .colab-df-convert {\n",
              "      background-color: #E8F0FE;\n",
              "      border: none;\n",
              "      border-radius: 50%;\n",
              "      cursor: pointer;\n",
              "      display: none;\n",
              "      fill: #1967D2;\n",
              "      height: 32px;\n",
              "      padding: 0 0 0 0;\n",
              "      width: 32px;\n",
              "    }\n",
              "\n",
              "    .colab-df-convert:hover {\n",
              "      background-color: #E2EBFA;\n",
              "      box-shadow: 0px 1px 2px rgba(60, 64, 67, 0.3), 0px 1px 3px 1px rgba(60, 64, 67, 0.15);\n",
              "      fill: #174EA6;\n",
              "    }\n",
              "\n",
              "    .colab-df-buttons div {\n",
              "      margin-bottom: 4px;\n",
              "    }\n",
              "\n",
              "    [theme=dark] .colab-df-convert {\n",
              "      background-color: #3B4455;\n",
              "      fill: #D2E3FC;\n",
              "    }\n",
              "\n",
              "    [theme=dark] .colab-df-convert:hover {\n",
              "      background-color: #434B5C;\n",
              "      box-shadow: 0px 1px 3px 1px rgba(0, 0, 0, 0.15);\n",
              "      filter: drop-shadow(0px 1px 2px rgba(0, 0, 0, 0.3));\n",
              "      fill: #FFFFFF;\n",
              "    }\n",
              "  </style>\n",
              "\n",
              "    <script>\n",
              "      const buttonEl =\n",
              "        document.querySelector('#df-07269c9d-d774-40a8-944c-b3267ac94f35 button.colab-df-convert');\n",
              "      buttonEl.style.display =\n",
              "        google.colab.kernel.accessAllowed ? 'block' : 'none';\n",
              "\n",
              "      async function convertToInteractive(key) {\n",
              "        const element = document.querySelector('#df-07269c9d-d774-40a8-944c-b3267ac94f35');\n",
              "        const dataTable =\n",
              "          await google.colab.kernel.invokeFunction('convertToInteractive',\n",
              "                                                    [key], {});\n",
              "        if (!dataTable) return;\n",
              "\n",
              "        const docLinkHtml = 'Like what you see? Visit the ' +\n",
              "          '<a target=\"_blank\" href=https://colab.research.google.com/notebooks/data_table.ipynb>data table notebook</a>'\n",
              "          + ' to learn more about interactive tables.';\n",
              "        element.innerHTML = '';\n",
              "        dataTable['output_type'] = 'display_data';\n",
              "        await google.colab.output.renderOutput(dataTable, element);\n",
              "        const docLink = document.createElement('div');\n",
              "        docLink.innerHTML = docLinkHtml;\n",
              "        element.appendChild(docLink);\n",
              "      }\n",
              "    </script>\n",
              "  </div>\n",
              "\n",
              "\n",
              "    </div>\n",
              "  </div>\n"
            ],
            "application/vnd.google.colaboratory.intrinsic+json": {
              "type": "dataframe",
              "repr_error": "Out of range float values are not JSON compliant: nan"
            }
          },
          "metadata": {},
          "execution_count": 18
        }
      ]
    },
    {
      "cell_type": "markdown",
      "source": [
        "Hasil ini menunjukkan tidak ada duplikat pada kolom nama_wisata, sehingga setiap nama wisata memang unik dalam dataset."
      ],
      "metadata": {
        "id": "i9aziOXpNAwj"
      }
    },
    {
      "cell_type": "code",
      "source": [
        "def hapus_karakter_rusak(teks):\n",
        "    return re.sub(r'[^\\x00-\\x7F]+', ' ', str(teks))"
      ],
      "metadata": {
        "id": "7iQGP66vjr5s"
      },
      "execution_count": 19,
      "outputs": []
    },
    {
      "cell_type": "markdown",
      "source": [
        "Fungsi hapus_karakter_rusak(teks) digunakan untuk membersihkan teks dari karakter non-ASCII (karakter yang rusak atau tidak dikenali dalam standar ASCII), menggantinya dengan spasi."
      ],
      "metadata": {
        "id": "hGQtf9ryNGUv"
      }
    },
    {
      "cell_type": "code",
      "source": [
        "def bersihkan_deskripsi(teks):\n",
        "    teks = hapus_karakter_rusak(teks)\n",
        "    teks = re.sub(r\"==\\s*[^=]+?\\s*==.*\", \"\", teks, flags=re.IGNORECASE | re.DOTALL)\n",
        "    teks = re.sub(r\"^Berikut(?: ini)?(?: adalah)?(?: daftar)?[^.]*\\.\", \"\", teks, flags=re.IGNORECASE)\n",
        "    teks = re.sub(r\"^(Latar belakang|Sejarah singkat)[^.]*\\.\", \"\", teks, flags=re.IGNORECASE)\n",
        "    teks = hapus_karakter_rusak(teks)\n",
        "    return teks.strip()"
      ],
      "metadata": {
        "id": "XTnn6ObiB4Pc"
      },
      "execution_count": 20,
      "outputs": []
    },
    {
      "cell_type": "markdown",
      "source": [
        "Fungsi diatas bertujuan untuk membersihkan kolom deskripsi dari karakter rusak dan kalimat pembuka yang tidak informatif. Langkah-langkahnya:\n",
        "\n",
        "1. Menghapus karakter non-ASCII.\n",
        "2. Menghapus bagian dengan pola `== Judul ==` beserta isinya (biasanya format wiki).\n",
        "3. Menghapus kalimat pembuka umum seperti \"Berikut ini adalah daftar...\" atau \"Latar belakang...\".\n",
        "4. Menghapus ulang karakter non-ASCII jika masih ada.\n",
        "5. Mengembalikan teks yang sudah dibersihkan dan dipangkas spasinya."
      ],
      "metadata": {
        "id": "Wi4igOiVNMK8"
      }
    },
    {
      "cell_type": "code",
      "source": [
        "df['provinsi'] = df['provinsi'].str.strip()\n",
        "df['deskripsi_bersih'] = df['deskripsi'].apply(bersihkan_deskripsi)\n",
        "df = df.drop(columns=['path', 'deskripsi'])"
      ],
      "metadata": {
        "id": "8rJQ_dPrjvWS"
      },
      "execution_count": 21,
      "outputs": []
    },
    {
      "cell_type": "markdown",
      "source": [
        "1. `df['provinsi'] = df['provinsi'].str.strip()`\n",
        "   Menghapus spasi di awal dan akhir teks pada kolom `provinsi`, mencegah kesalahan saat analisis atau pengelompokan data.\n",
        "2. `df['deskripsi_bersih'] = df['deskripsi'].apply(bersihkan_deskripsi)`\n",
        "   Menerapkan fungsi `bersihkan_deskripsi` pada kolom `deskripsi` untuk membuat kolom baru `deskripsi_bersih` yang berisi versi teks yang sudah dibersihkan.\n",
        "3. `df = df.drop(columns=['path', 'deskripsi'])`\n",
        "   Menghapus kolom `path` dan `deskripsi` dari DataFrame karena sudah tidak diperlukan lagi (informasi deskripsi telah dipindahkan dan dibersihkan)."
      ],
      "metadata": {
        "id": "yoOGFW4pNU0S"
      }
    },
    {
      "cell_type": "code",
      "source": [
        "# Buat mapping typo ke kategori benar\n",
        "kategori_mapping = {\n",
        "    'wisate alam': 'wisata alam',\n",
        "    'wisath alam': 'wisata alam',\n",
        "    'wisatr alam': 'wisata alam',\n",
        "    'wisaub alam': 'wisata alam',\n",
        "    'wisawa alam': 'wisata alam',\n",
        "    'wisawi alam': 'wisata alam',\n",
        "}\n",
        "\n",
        "# Ganti nilai berdasarkan mapping\n",
        "df['kategori'] = df['kategori'].replace(kategori_mapping)"
      ],
      "metadata": {
        "id": "Gqka2EjY7bZq"
      },
      "execution_count": 22,
      "outputs": []
    },
    {
      "cell_type": "markdown",
      "source": [
        "Memperbaiki kesalahan penulisan pada kolom kategori dengan mengganti typo seperti \"wisate alam\" menjadi \"wisata alam\" agar data lebih konsisten untuk analisis."
      ],
      "metadata": {
        "id": "CkCoMzuvNsnw"
      }
    },
    {
      "cell_type": "code",
      "source": [
        "df_clean = df.copy()\n",
        "df_clean"
      ],
      "metadata": {
        "colab": {
          "base_uri": "https://localhost:8080/",
          "height": 597
        },
        "id": "OX9vHpTHj0gz",
        "outputId": "29aaad09-120e-428d-fe63-f7ba8e15f2ec"
      },
      "execution_count": 23,
      "outputs": [
        {
          "output_type": "execute_result",
          "data": {
            "text/plain": [
              "         kategori                nama_wisata  latitude   longitude  \\\n",
              "0      air terjun     Air Terjun Aling-Aling -8.176792  115.106284   \n",
              "1      air terjun     Air Terjun Bantimurung -5.016520  119.685520   \n",
              "2      air terjun  Air Terjun Benang Kelambu -8.532770  116.337011   \n",
              "3      air terjun   Air Terjun Benang Stokel -8.533036  116.341379   \n",
              "4      air terjun        Air Terjun Bidadari -2.928361  107.839043   \n",
              "...           ...                        ...       ...         ...   \n",
              "1020  wisata alam              Situ Cileunca -7.202004  107.547142   \n",
              "1021  wisata alam               Situ Cisanti -7.209391  107.657477   \n",
              "1022  wisata alam            Situ Patenggang -7.165260  107.369782   \n",
              "1023  wisata alam             Situ Rawa Gede -6.292928  106.977288   \n",
              "1024         mall        Sukawati Art Market -8.596449  115.282342   \n",
              "\n",
              "                                                 alamat  \\\n",
              "0     Air Terjun Aling-Aling, Panji Anom, Buleleng, ...   \n",
              "1     Air Terjun Bantimurung, Jalan Poros Bantimurun...   \n",
              "2     Air Terjun Benang Kelambu, Pemotoh, Lombok Ten...   \n",
              "3     Air Terjun Benang Stokel, Pemotoh, Lombok Teng...   \n",
              "4     Air Terjun Bidadari, Nyuruk, Belitung Timur, K...   \n",
              "...                                                 ...   \n",
              "1020  Situ Cileunca, Kampung Cibuluh, Pulosari, Kabu...   \n",
              "1021  Situ Cisanti, Kertasari, Kabupaten Bandung, Ja...   \n",
              "1022  Situ Patenggang, Bauan, Rancabali, Kabupaten B...   \n",
              "1023  Situ Rawa Gede, Pesona Metropolitan, Bojong Me...   \n",
              "1024  Sukawati Art Market, Jalan Lettu Wayan Sutha, ...   \n",
              "\n",
              "                       provinsi     kota_kabupaten  \\\n",
              "0                          Bali           Buleleng   \n",
              "1              Sulawesi Selatan           Sulawesi   \n",
              "2           Nusa Tenggara Barat      Lombok Tengah   \n",
              "3           Nusa Tenggara Barat      Lombok Tengah   \n",
              "4     Kepulauan Bangka Belitung     Belitung Timur   \n",
              "...                         ...                ...   \n",
              "1020                 Jawa Barat  Kabupaten Bandung   \n",
              "1021                 Jawa Barat  Kabupaten Bandung   \n",
              "1022                 Jawa Barat  Kabupaten Bandung   \n",
              "1023                 Jawa Barat             Bekasi   \n",
              "1024                       Bali            Gianyar   \n",
              "\n",
              "                                           nama_lengkap  \\\n",
              "0                Air Terjun Aling-Aling, Buleleng, Bali   \n",
              "1     Air Terjun Bantimurung, Sulawesi, Sulawesi Sel...   \n",
              "2     Air Terjun Benang Kelambu, Lombok Tengah, Nusa...   \n",
              "3     Air Terjun Benang Stokel, Lombok Tengah, Nusa ...   \n",
              "4     Air Terjun Bidadari, Belitung Timur, Kepulauan...   \n",
              "...                                                 ...   \n",
              "1020       Situ Cileunca, Kabupaten Bandung, Jawa Barat   \n",
              "1021        Situ Cisanti, Kabupaten Bandung, Jawa Barat   \n",
              "1022     Situ Patenggang, Kabupaten Bandung, Jawa Barat   \n",
              "1023                 Situ Rawa Gede, Bekasi, Jawa Barat   \n",
              "1024                 Sukawati Art Market, Gianyar, Bali   \n",
              "\n",
              "                                  path_gambar  \\\n",
              "0        gambar_wisata/Air_Terjun_Aling-Aling   \n",
              "1        gambar_wisata/Air_Terjun_Bantimurung   \n",
              "2     gambar_wisata/Air_Terjun_Benang_Kelambu   \n",
              "3      gambar_wisata/Air_Terjun_Benang_Stokel   \n",
              "4           gambar_wisata/Air_Terjun_Bidadari   \n",
              "...                                       ...   \n",
              "1020              gambar_wisata/Situ_Cileunca   \n",
              "1021               gambar_wisata/Situ_Cisanti   \n",
              "1022            gambar_wisata/Situ_Patenggang   \n",
              "1023             gambar_wisata/Situ_Rawa_Gede   \n",
              "1024        gambar_wisata/Sukawati_Art_Market   \n",
              "\n",
              "                                       deskripsi_bersih  \n",
              "0                             Deskripsi tidak ditemukan  \n",
              "1     Air Terjun Bantimurung adalah salah satu air t...  \n",
              "2                             Deskripsi tidak ditemukan  \n",
              "3                             Deskripsi tidak ditemukan  \n",
              "4     Daftar ini tidak lengkap dan hanya dapat dijad...  \n",
              "...                                                 ...  \n",
              "1020  Situ Cileunca (Aksara Sunda Baku:    ),  adala...  \n",
              "1021  Situ Cisanti (Aksara Sunda Baku:    ) adalah d...  \n",
              "1022  Situ Patenggang atau Situ Patengan adalah suat...  \n",
              "1023  Kabupaten Purwakarta (bahasa Sunda:  ) adalah ...  \n",
              "1024  Ubud (aksara Bali:  ) adalah sebuah desa adat ...  \n",
              "\n",
              "[1025 rows x 10 columns]"
            ],
            "text/html": [
              "\n",
              "  <div id=\"df-b0659782-c0de-4e2a-8226-0d38e20f08c0\" class=\"colab-df-container\">\n",
              "    <div>\n",
              "<style scoped>\n",
              "    .dataframe tbody tr th:only-of-type {\n",
              "        vertical-align: middle;\n",
              "    }\n",
              "\n",
              "    .dataframe tbody tr th {\n",
              "        vertical-align: top;\n",
              "    }\n",
              "\n",
              "    .dataframe thead th {\n",
              "        text-align: right;\n",
              "    }\n",
              "</style>\n",
              "<table border=\"1\" class=\"dataframe\">\n",
              "  <thead>\n",
              "    <tr style=\"text-align: right;\">\n",
              "      <th></th>\n",
              "      <th>kategori</th>\n",
              "      <th>nama_wisata</th>\n",
              "      <th>latitude</th>\n",
              "      <th>longitude</th>\n",
              "      <th>alamat</th>\n",
              "      <th>provinsi</th>\n",
              "      <th>kota_kabupaten</th>\n",
              "      <th>nama_lengkap</th>\n",
              "      <th>path_gambar</th>\n",
              "      <th>deskripsi_bersih</th>\n",
              "    </tr>\n",
              "  </thead>\n",
              "  <tbody>\n",
              "    <tr>\n",
              "      <th>0</th>\n",
              "      <td>air terjun</td>\n",
              "      <td>Air Terjun Aling-Aling</td>\n",
              "      <td>-8.176792</td>\n",
              "      <td>115.106284</td>\n",
              "      <td>Air Terjun Aling-Aling, Panji Anom, Buleleng, ...</td>\n",
              "      <td>Bali</td>\n",
              "      <td>Buleleng</td>\n",
              "      <td>Air Terjun Aling-Aling, Buleleng, Bali</td>\n",
              "      <td>gambar_wisata/Air_Terjun_Aling-Aling</td>\n",
              "      <td>Deskripsi tidak ditemukan</td>\n",
              "    </tr>\n",
              "    <tr>\n",
              "      <th>1</th>\n",
              "      <td>air terjun</td>\n",
              "      <td>Air Terjun Bantimurung</td>\n",
              "      <td>-5.016520</td>\n",
              "      <td>119.685520</td>\n",
              "      <td>Air Terjun Bantimurung, Jalan Poros Bantimurun...</td>\n",
              "      <td>Sulawesi Selatan</td>\n",
              "      <td>Sulawesi</td>\n",
              "      <td>Air Terjun Bantimurung, Sulawesi, Sulawesi Sel...</td>\n",
              "      <td>gambar_wisata/Air_Terjun_Bantimurung</td>\n",
              "      <td>Air Terjun Bantimurung adalah salah satu air t...</td>\n",
              "    </tr>\n",
              "    <tr>\n",
              "      <th>2</th>\n",
              "      <td>air terjun</td>\n",
              "      <td>Air Terjun Benang Kelambu</td>\n",
              "      <td>-8.532770</td>\n",
              "      <td>116.337011</td>\n",
              "      <td>Air Terjun Benang Kelambu, Pemotoh, Lombok Ten...</td>\n",
              "      <td>Nusa Tenggara Barat</td>\n",
              "      <td>Lombok Tengah</td>\n",
              "      <td>Air Terjun Benang Kelambu, Lombok Tengah, Nusa...</td>\n",
              "      <td>gambar_wisata/Air_Terjun_Benang_Kelambu</td>\n",
              "      <td>Deskripsi tidak ditemukan</td>\n",
              "    </tr>\n",
              "    <tr>\n",
              "      <th>3</th>\n",
              "      <td>air terjun</td>\n",
              "      <td>Air Terjun Benang Stokel</td>\n",
              "      <td>-8.533036</td>\n",
              "      <td>116.341379</td>\n",
              "      <td>Air Terjun Benang Stokel, Pemotoh, Lombok Teng...</td>\n",
              "      <td>Nusa Tenggara Barat</td>\n",
              "      <td>Lombok Tengah</td>\n",
              "      <td>Air Terjun Benang Stokel, Lombok Tengah, Nusa ...</td>\n",
              "      <td>gambar_wisata/Air_Terjun_Benang_Stokel</td>\n",
              "      <td>Deskripsi tidak ditemukan</td>\n",
              "    </tr>\n",
              "    <tr>\n",
              "      <th>4</th>\n",
              "      <td>air terjun</td>\n",
              "      <td>Air Terjun Bidadari</td>\n",
              "      <td>-2.928361</td>\n",
              "      <td>107.839043</td>\n",
              "      <td>Air Terjun Bidadari, Nyuruk, Belitung Timur, K...</td>\n",
              "      <td>Kepulauan Bangka Belitung</td>\n",
              "      <td>Belitung Timur</td>\n",
              "      <td>Air Terjun Bidadari, Belitung Timur, Kepulauan...</td>\n",
              "      <td>gambar_wisata/Air_Terjun_Bidadari</td>\n",
              "      <td>Daftar ini tidak lengkap dan hanya dapat dijad...</td>\n",
              "    </tr>\n",
              "    <tr>\n",
              "      <th>...</th>\n",
              "      <td>...</td>\n",
              "      <td>...</td>\n",
              "      <td>...</td>\n",
              "      <td>...</td>\n",
              "      <td>...</td>\n",
              "      <td>...</td>\n",
              "      <td>...</td>\n",
              "      <td>...</td>\n",
              "      <td>...</td>\n",
              "      <td>...</td>\n",
              "    </tr>\n",
              "    <tr>\n",
              "      <th>1020</th>\n",
              "      <td>wisata alam</td>\n",
              "      <td>Situ Cileunca</td>\n",
              "      <td>-7.202004</td>\n",
              "      <td>107.547142</td>\n",
              "      <td>Situ Cileunca, Kampung Cibuluh, Pulosari, Kabu...</td>\n",
              "      <td>Jawa Barat</td>\n",
              "      <td>Kabupaten Bandung</td>\n",
              "      <td>Situ Cileunca, Kabupaten Bandung, Jawa Barat</td>\n",
              "      <td>gambar_wisata/Situ_Cileunca</td>\n",
              "      <td>Situ Cileunca (Aksara Sunda Baku:    ),  adala...</td>\n",
              "    </tr>\n",
              "    <tr>\n",
              "      <th>1021</th>\n",
              "      <td>wisata alam</td>\n",
              "      <td>Situ Cisanti</td>\n",
              "      <td>-7.209391</td>\n",
              "      <td>107.657477</td>\n",
              "      <td>Situ Cisanti, Kertasari, Kabupaten Bandung, Ja...</td>\n",
              "      <td>Jawa Barat</td>\n",
              "      <td>Kabupaten Bandung</td>\n",
              "      <td>Situ Cisanti, Kabupaten Bandung, Jawa Barat</td>\n",
              "      <td>gambar_wisata/Situ_Cisanti</td>\n",
              "      <td>Situ Cisanti (Aksara Sunda Baku:    ) adalah d...</td>\n",
              "    </tr>\n",
              "    <tr>\n",
              "      <th>1022</th>\n",
              "      <td>wisata alam</td>\n",
              "      <td>Situ Patenggang</td>\n",
              "      <td>-7.165260</td>\n",
              "      <td>107.369782</td>\n",
              "      <td>Situ Patenggang, Bauan, Rancabali, Kabupaten B...</td>\n",
              "      <td>Jawa Barat</td>\n",
              "      <td>Kabupaten Bandung</td>\n",
              "      <td>Situ Patenggang, Kabupaten Bandung, Jawa Barat</td>\n",
              "      <td>gambar_wisata/Situ_Patenggang</td>\n",
              "      <td>Situ Patenggang atau Situ Patengan adalah suat...</td>\n",
              "    </tr>\n",
              "    <tr>\n",
              "      <th>1023</th>\n",
              "      <td>wisata alam</td>\n",
              "      <td>Situ Rawa Gede</td>\n",
              "      <td>-6.292928</td>\n",
              "      <td>106.977288</td>\n",
              "      <td>Situ Rawa Gede, Pesona Metropolitan, Bojong Me...</td>\n",
              "      <td>Jawa Barat</td>\n",
              "      <td>Bekasi</td>\n",
              "      <td>Situ Rawa Gede, Bekasi, Jawa Barat</td>\n",
              "      <td>gambar_wisata/Situ_Rawa_Gede</td>\n",
              "      <td>Kabupaten Purwakarta (bahasa Sunda:  ) adalah ...</td>\n",
              "    </tr>\n",
              "    <tr>\n",
              "      <th>1024</th>\n",
              "      <td>mall</td>\n",
              "      <td>Sukawati Art Market</td>\n",
              "      <td>-8.596449</td>\n",
              "      <td>115.282342</td>\n",
              "      <td>Sukawati Art Market, Jalan Lettu Wayan Sutha, ...</td>\n",
              "      <td>Bali</td>\n",
              "      <td>Gianyar</td>\n",
              "      <td>Sukawati Art Market, Gianyar, Bali</td>\n",
              "      <td>gambar_wisata/Sukawati_Art_Market</td>\n",
              "      <td>Ubud (aksara Bali:  ) adalah sebuah desa adat ...</td>\n",
              "    </tr>\n",
              "  </tbody>\n",
              "</table>\n",
              "<p>1025 rows × 10 columns</p>\n",
              "</div>\n",
              "    <div class=\"colab-df-buttons\">\n",
              "\n",
              "  <div class=\"colab-df-container\">\n",
              "    <button class=\"colab-df-convert\" onclick=\"convertToInteractive('df-b0659782-c0de-4e2a-8226-0d38e20f08c0')\"\n",
              "            title=\"Convert this dataframe to an interactive table.\"\n",
              "            style=\"display:none;\">\n",
              "\n",
              "  <svg xmlns=\"http://www.w3.org/2000/svg\" height=\"24px\" viewBox=\"0 -960 960 960\">\n",
              "    <path d=\"M120-120v-720h720v720H120Zm60-500h600v-160H180v160Zm220 220h160v-160H400v160Zm0 220h160v-160H400v160ZM180-400h160v-160H180v160Zm440 0h160v-160H620v160ZM180-180h160v-160H180v160Zm440 0h160v-160H620v160Z\"/>\n",
              "  </svg>\n",
              "    </button>\n",
              "\n",
              "  <style>\n",
              "    .colab-df-container {\n",
              "      display:flex;\n",
              "      gap: 12px;\n",
              "    }\n",
              "\n",
              "    .colab-df-convert {\n",
              "      background-color: #E8F0FE;\n",
              "      border: none;\n",
              "      border-radius: 50%;\n",
              "      cursor: pointer;\n",
              "      display: none;\n",
              "      fill: #1967D2;\n",
              "      height: 32px;\n",
              "      padding: 0 0 0 0;\n",
              "      width: 32px;\n",
              "    }\n",
              "\n",
              "    .colab-df-convert:hover {\n",
              "      background-color: #E2EBFA;\n",
              "      box-shadow: 0px 1px 2px rgba(60, 64, 67, 0.3), 0px 1px 3px 1px rgba(60, 64, 67, 0.15);\n",
              "      fill: #174EA6;\n",
              "    }\n",
              "\n",
              "    .colab-df-buttons div {\n",
              "      margin-bottom: 4px;\n",
              "    }\n",
              "\n",
              "    [theme=dark] .colab-df-convert {\n",
              "      background-color: #3B4455;\n",
              "      fill: #D2E3FC;\n",
              "    }\n",
              "\n",
              "    [theme=dark] .colab-df-convert:hover {\n",
              "      background-color: #434B5C;\n",
              "      box-shadow: 0px 1px 3px 1px rgba(0, 0, 0, 0.15);\n",
              "      filter: drop-shadow(0px 1px 2px rgba(0, 0, 0, 0.3));\n",
              "      fill: #FFFFFF;\n",
              "    }\n",
              "  </style>\n",
              "\n",
              "    <script>\n",
              "      const buttonEl =\n",
              "        document.querySelector('#df-b0659782-c0de-4e2a-8226-0d38e20f08c0 button.colab-df-convert');\n",
              "      buttonEl.style.display =\n",
              "        google.colab.kernel.accessAllowed ? 'block' : 'none';\n",
              "\n",
              "      async function convertToInteractive(key) {\n",
              "        const element = document.querySelector('#df-b0659782-c0de-4e2a-8226-0d38e20f08c0');\n",
              "        const dataTable =\n",
              "          await google.colab.kernel.invokeFunction('convertToInteractive',\n",
              "                                                    [key], {});\n",
              "        if (!dataTable) return;\n",
              "\n",
              "        const docLinkHtml = 'Like what you see? Visit the ' +\n",
              "          '<a target=\"_blank\" href=https://colab.research.google.com/notebooks/data_table.ipynb>data table notebook</a>'\n",
              "          + ' to learn more about interactive tables.';\n",
              "        element.innerHTML = '';\n",
              "        dataTable['output_type'] = 'display_data';\n",
              "        await google.colab.output.renderOutput(dataTable, element);\n",
              "        const docLink = document.createElement('div');\n",
              "        docLink.innerHTML = docLinkHtml;\n",
              "        element.appendChild(docLink);\n",
              "      }\n",
              "    </script>\n",
              "  </div>\n",
              "\n",
              "\n",
              "    <div id=\"df-d47823aa-5560-4137-8993-0bd8f6ddd123\">\n",
              "      <button class=\"colab-df-quickchart\" onclick=\"quickchart('df-d47823aa-5560-4137-8993-0bd8f6ddd123')\"\n",
              "                title=\"Suggest charts\"\n",
              "                style=\"display:none;\">\n",
              "\n",
              "<svg xmlns=\"http://www.w3.org/2000/svg\" height=\"24px\"viewBox=\"0 0 24 24\"\n",
              "     width=\"24px\">\n",
              "    <g>\n",
              "        <path d=\"M19 3H5c-1.1 0-2 .9-2 2v14c0 1.1.9 2 2 2h14c1.1 0 2-.9 2-2V5c0-1.1-.9-2-2-2zM9 17H7v-7h2v7zm4 0h-2V7h2v10zm4 0h-2v-4h2v4z\"/>\n",
              "    </g>\n",
              "</svg>\n",
              "      </button>\n",
              "\n",
              "<style>\n",
              "  .colab-df-quickchart {\n",
              "      --bg-color: #E8F0FE;\n",
              "      --fill-color: #1967D2;\n",
              "      --hover-bg-color: #E2EBFA;\n",
              "      --hover-fill-color: #174EA6;\n",
              "      --disabled-fill-color: #AAA;\n",
              "      --disabled-bg-color: #DDD;\n",
              "  }\n",
              "\n",
              "  [theme=dark] .colab-df-quickchart {\n",
              "      --bg-color: #3B4455;\n",
              "      --fill-color: #D2E3FC;\n",
              "      --hover-bg-color: #434B5C;\n",
              "      --hover-fill-color: #FFFFFF;\n",
              "      --disabled-bg-color: #3B4455;\n",
              "      --disabled-fill-color: #666;\n",
              "  }\n",
              "\n",
              "  .colab-df-quickchart {\n",
              "    background-color: var(--bg-color);\n",
              "    border: none;\n",
              "    border-radius: 50%;\n",
              "    cursor: pointer;\n",
              "    display: none;\n",
              "    fill: var(--fill-color);\n",
              "    height: 32px;\n",
              "    padding: 0;\n",
              "    width: 32px;\n",
              "  }\n",
              "\n",
              "  .colab-df-quickchart:hover {\n",
              "    background-color: var(--hover-bg-color);\n",
              "    box-shadow: 0 1px 2px rgba(60, 64, 67, 0.3), 0 1px 3px 1px rgba(60, 64, 67, 0.15);\n",
              "    fill: var(--button-hover-fill-color);\n",
              "  }\n",
              "\n",
              "  .colab-df-quickchart-complete:disabled,\n",
              "  .colab-df-quickchart-complete:disabled:hover {\n",
              "    background-color: var(--disabled-bg-color);\n",
              "    fill: var(--disabled-fill-color);\n",
              "    box-shadow: none;\n",
              "  }\n",
              "\n",
              "  .colab-df-spinner {\n",
              "    border: 2px solid var(--fill-color);\n",
              "    border-color: transparent;\n",
              "    border-bottom-color: var(--fill-color);\n",
              "    animation:\n",
              "      spin 1s steps(1) infinite;\n",
              "  }\n",
              "\n",
              "  @keyframes spin {\n",
              "    0% {\n",
              "      border-color: transparent;\n",
              "      border-bottom-color: var(--fill-color);\n",
              "      border-left-color: var(--fill-color);\n",
              "    }\n",
              "    20% {\n",
              "      border-color: transparent;\n",
              "      border-left-color: var(--fill-color);\n",
              "      border-top-color: var(--fill-color);\n",
              "    }\n",
              "    30% {\n",
              "      border-color: transparent;\n",
              "      border-left-color: var(--fill-color);\n",
              "      border-top-color: var(--fill-color);\n",
              "      border-right-color: var(--fill-color);\n",
              "    }\n",
              "    40% {\n",
              "      border-color: transparent;\n",
              "      border-right-color: var(--fill-color);\n",
              "      border-top-color: var(--fill-color);\n",
              "    }\n",
              "    60% {\n",
              "      border-color: transparent;\n",
              "      border-right-color: var(--fill-color);\n",
              "    }\n",
              "    80% {\n",
              "      border-color: transparent;\n",
              "      border-right-color: var(--fill-color);\n",
              "      border-bottom-color: var(--fill-color);\n",
              "    }\n",
              "    90% {\n",
              "      border-color: transparent;\n",
              "      border-bottom-color: var(--fill-color);\n",
              "    }\n",
              "  }\n",
              "</style>\n",
              "\n",
              "      <script>\n",
              "        async function quickchart(key) {\n",
              "          const quickchartButtonEl =\n",
              "            document.querySelector('#' + key + ' button');\n",
              "          quickchartButtonEl.disabled = true;  // To prevent multiple clicks.\n",
              "          quickchartButtonEl.classList.add('colab-df-spinner');\n",
              "          try {\n",
              "            const charts = await google.colab.kernel.invokeFunction(\n",
              "                'suggestCharts', [key], {});\n",
              "          } catch (error) {\n",
              "            console.error('Error during call to suggestCharts:', error);\n",
              "          }\n",
              "          quickchartButtonEl.classList.remove('colab-df-spinner');\n",
              "          quickchartButtonEl.classList.add('colab-df-quickchart-complete');\n",
              "        }\n",
              "        (() => {\n",
              "          let quickchartButtonEl =\n",
              "            document.querySelector('#df-d47823aa-5560-4137-8993-0bd8f6ddd123 button');\n",
              "          quickchartButtonEl.style.display =\n",
              "            google.colab.kernel.accessAllowed ? 'block' : 'none';\n",
              "        })();\n",
              "      </script>\n",
              "    </div>\n",
              "\n",
              "  <div id=\"id_f1012186-0b2f-441c-a909-12dda292dd3c\">\n",
              "    <style>\n",
              "      .colab-df-generate {\n",
              "        background-color: #E8F0FE;\n",
              "        border: none;\n",
              "        border-radius: 50%;\n",
              "        cursor: pointer;\n",
              "        display: none;\n",
              "        fill: #1967D2;\n",
              "        height: 32px;\n",
              "        padding: 0 0 0 0;\n",
              "        width: 32px;\n",
              "      }\n",
              "\n",
              "      .colab-df-generate:hover {\n",
              "        background-color: #E2EBFA;\n",
              "        box-shadow: 0px 1px 2px rgba(60, 64, 67, 0.3), 0px 1px 3px 1px rgba(60, 64, 67, 0.15);\n",
              "        fill: #174EA6;\n",
              "      }\n",
              "\n",
              "      [theme=dark] .colab-df-generate {\n",
              "        background-color: #3B4455;\n",
              "        fill: #D2E3FC;\n",
              "      }\n",
              "\n",
              "      [theme=dark] .colab-df-generate:hover {\n",
              "        background-color: #434B5C;\n",
              "        box-shadow: 0px 1px 3px 1px rgba(0, 0, 0, 0.15);\n",
              "        filter: drop-shadow(0px 1px 2px rgba(0, 0, 0, 0.3));\n",
              "        fill: #FFFFFF;\n",
              "      }\n",
              "    </style>\n",
              "    <button class=\"colab-df-generate\" onclick=\"generateWithVariable('df_clean')\"\n",
              "            title=\"Generate code using this dataframe.\"\n",
              "            style=\"display:none;\">\n",
              "\n",
              "  <svg xmlns=\"http://www.w3.org/2000/svg\" height=\"24px\"viewBox=\"0 0 24 24\"\n",
              "       width=\"24px\">\n",
              "    <path d=\"M7,19H8.4L18.45,9,17,7.55,7,17.6ZM5,21V16.75L18.45,3.32a2,2,0,0,1,2.83,0l1.4,1.43a1.91,1.91,0,0,1,.58,1.4,1.91,1.91,0,0,1-.58,1.4L9.25,21ZM18.45,9,17,7.55Zm-12,3A5.31,5.31,0,0,0,4.9,8.1,5.31,5.31,0,0,0,1,6.5,5.31,5.31,0,0,0,4.9,4.9,5.31,5.31,0,0,0,6.5,1,5.31,5.31,0,0,0,8.1,4.9,5.31,5.31,0,0,0,12,6.5,5.46,5.46,0,0,0,6.5,12Z\"/>\n",
              "  </svg>\n",
              "    </button>\n",
              "    <script>\n",
              "      (() => {\n",
              "      const buttonEl =\n",
              "        document.querySelector('#id_f1012186-0b2f-441c-a909-12dda292dd3c button.colab-df-generate');\n",
              "      buttonEl.style.display =\n",
              "        google.colab.kernel.accessAllowed ? 'block' : 'none';\n",
              "\n",
              "      buttonEl.onclick = () => {\n",
              "        google.colab.notebook.generateWithVariable('df_clean');\n",
              "      }\n",
              "      })();\n",
              "    </script>\n",
              "  </div>\n",
              "\n",
              "    </div>\n",
              "  </div>\n"
            ],
            "application/vnd.google.colaboratory.intrinsic+json": {
              "type": "dataframe",
              "variable_name": "df_clean",
              "summary": "{\n  \"name\": \"df_clean\",\n  \"rows\": 1025,\n  \"fields\": [\n    {\n      \"column\": \"kategori\",\n      \"properties\": {\n        \"dtype\": \"category\",\n        \"num_unique_values\": 23,\n        \"samples\": [\n          \"wisata  religi\",\n          \"monumen\",\n          \"air terjun\"\n        ],\n        \"semantic_type\": \"\",\n        \"description\": \"\"\n      }\n    },\n    {\n      \"column\": \"nama_wisata\",\n      \"properties\": {\n        \"dtype\": \"string\",\n        \"num_unique_values\": 1025,\n        \"samples\": [\n          \"Pantai Sulamadaha\",\n          \"Museum Batik Pekalongan\",\n          \"Pantai Batu Bedaun\"\n        ],\n        \"semantic_type\": \"\",\n        \"description\": \"\"\n      }\n    },\n    {\n      \"column\": \"latitude\",\n      \"properties\": {\n        \"dtype\": \"number\",\n        \"std\": 3.3301622509946864,\n        \"min\": -10.8898977,\n        \"max\": 5.553631,\n        \"num_unique_values\": 937,\n        \"samples\": [\n          -6.2883341,\n          -8.0491348,\n          -8.4117272\n        ],\n        \"semantic_type\": \"\",\n        \"description\": \"\"\n      }\n    },\n    {\n      \"column\": \"longitude\",\n      \"properties\": {\n        \"dtype\": \"number\",\n        \"std\": 6.952516433364058,\n        \"min\": 95.3151652,\n        \"max\": 140.7692643,\n        \"num_unique_values\": 938,\n        \"samples\": [\n          111.7092032,\n          106.8129483,\n          104.7440276\n        ],\n        \"semantic_type\": \"\",\n        \"description\": \"\"\n      }\n    },\n    {\n      \"column\": \"alamat\",\n      \"properties\": {\n        \"dtype\": \"string\",\n        \"num_unique_values\": 939,\n        \"samples\": [\n          \"Paris Van Java, Jalan Karang Tinggal, Cipedes, Sukasari, Kota Bandung, Jawa Barat, Jawa, 40161, Indonesia\",\n          \"Alun-Alun Sidoarjo, Pucanganom, Sidoarjo, Jawa Timur, Jawa, Indonesia\",\n          \"Candi Mendut, Jalan Mayor Kusen, Ngrajek, Mendut, Magelang, Jawa Tengah, Jawa, 56511, Indonesia\"\n        ],\n        \"semantic_type\": \"\",\n        \"description\": \"\"\n      }\n    },\n    {\n      \"column\": \"provinsi\",\n      \"properties\": {\n        \"dtype\": \"category\",\n        \"num_unique_values\": 36,\n        \"samples\": [\n          \"Papua\",\n          \"Kalimantan Tengah\",\n          \"Kalimantan Timur\"\n        ],\n        \"semantic_type\": \"\",\n        \"description\": \"\"\n      }\n    },\n    {\n      \"column\": \"kota_kabupaten\",\n      \"properties\": {\n        \"dtype\": \"category\",\n        \"num_unique_values\": 255,\n        \"samples\": [\n          \"Kutai Timur\",\n          \"Tasikmalaya\",\n          \"Badung\"\n        ],\n        \"semantic_type\": \"\",\n        \"description\": \"\"\n      }\n    },\n    {\n      \"column\": \"nama_lengkap\",\n      \"properties\": {\n        \"dtype\": \"string\",\n        \"num_unique_values\": 1025,\n        \"samples\": [\n          \"Pantai Sulamadaha, Ternate, Maluku Utara\",\n          \"Museum Batik Pekalongan, Pekalongan, Jawa Tengah\",\n          \"Pantai Batu Bedaun, Bangka, Kepulauan Bangka Belitung\"\n        ],\n        \"semantic_type\": \"\",\n        \"description\": \"\"\n      }\n    },\n    {\n      \"column\": \"path_gambar\",\n      \"properties\": {\n        \"dtype\": \"string\",\n        \"num_unique_values\": 1025,\n        \"samples\": [\n          \"gambar_wisata/Pantai_Sulamadaha\",\n          \"gambar_wisata/Museum_Batik_Pekalongan\",\n          \"gambar_wisata/Pantai_Batu_Bedaun\"\n        ],\n        \"semantic_type\": \"\",\n        \"description\": \"\"\n      }\n    },\n    {\n      \"column\": \"deskripsi_bersih\",\n      \"properties\": {\n        \"dtype\": \"string\",\n        \"num_unique_values\": 515,\n        \"samples\": [\n          \"Pantai Plengkung, atau lebih dikenal dengan nama G-Land, adalah pantai yang terletak dalam kawasan Taman Nasional Alas Purwo, Kabupaten Banyuwangi, Jawa Timur. Plengkung dapat dicapai selama setengah hari perjalanan darat dari Bali.\",\n          \"Pura Ulun Danu Bratan (ejaan tidak baku: Pura Ulun Danu Beratan, bahasa Bali:        , translit. Pura Ulun Danu B ratan., disebut juga Bratan Pura)adalah sebuah pura dan candi air besar di Bali - candi utama air lainnya menjadi Pura Ulun Danu Batur.\",\n          \"Desa Ciburial adalah salah satu desa di kecamatan Cimenyan, Kabupaten Bandung, provinsi Jawa Barat, Indonesia. Desa ini merupakan desa yang berada paling utara di Kabupaten Bandung.\"\n        ],\n        \"semantic_type\": \"\",\n        \"description\": \"\"\n      }\n    }\n  ]\n}"
            }
          },
          "metadata": {},
          "execution_count": 23
        }
      ]
    },
    {
      "cell_type": "markdown",
      "source": [
        "Kode diatas digunakan untuk membuat salinan dari DataFrame df ke dalam variabel baru df_clean, sehingga perubahan selanjutnya pada df_clean tidak memengaruhi DataFrame asli df."
      ],
      "metadata": {
        "id": "4Vj_uZUTNxCI"
      }
    },
    {
      "cell_type": "code",
      "source": [
        "csv_string = df_clean.to_csv(index=False)\n",
        "from google.colab import files\n",
        "with open('wisata_indonesia_final.csv', 'w') as f:\n",
        "  f.write(csv_string)\n",
        "\n",
        "files.download('wisata_indonesia_final.csv')"
      ],
      "metadata": {
        "colab": {
          "base_uri": "https://localhost:8080/",
          "height": 17
        },
        "id": "HnDp8oe4X8pC",
        "outputId": "ed81134e-39fc-45c8-8716-ea0e603ab686"
      },
      "execution_count": 24,
      "outputs": [
        {
          "output_type": "display_data",
          "data": {
            "text/plain": [
              "<IPython.core.display.Javascript object>"
            ],
            "application/javascript": [
              "\n",
              "    async function download(id, filename, size) {\n",
              "      if (!google.colab.kernel.accessAllowed) {\n",
              "        return;\n",
              "      }\n",
              "      const div = document.createElement('div');\n",
              "      const label = document.createElement('label');\n",
              "      label.textContent = `Downloading \"${filename}\": `;\n",
              "      div.appendChild(label);\n",
              "      const progress = document.createElement('progress');\n",
              "      progress.max = size;\n",
              "      div.appendChild(progress);\n",
              "      document.body.appendChild(div);\n",
              "\n",
              "      const buffers = [];\n",
              "      let downloaded = 0;\n",
              "\n",
              "      const channel = await google.colab.kernel.comms.open(id);\n",
              "      // Send a message to notify the kernel that we're ready.\n",
              "      channel.send({})\n",
              "\n",
              "      for await (const message of channel.messages) {\n",
              "        // Send a message to notify the kernel that we're ready.\n",
              "        channel.send({})\n",
              "        if (message.buffers) {\n",
              "          for (const buffer of message.buffers) {\n",
              "            buffers.push(buffer);\n",
              "            downloaded += buffer.byteLength;\n",
              "            progress.value = downloaded;\n",
              "          }\n",
              "        }\n",
              "      }\n",
              "      const blob = new Blob(buffers, {type: 'application/binary'});\n",
              "      const a = document.createElement('a');\n",
              "      a.href = window.URL.createObjectURL(blob);\n",
              "      a.download = filename;\n",
              "      div.appendChild(a);\n",
              "      a.click();\n",
              "      div.remove();\n",
              "    }\n",
              "  "
            ]
          },
          "metadata": {}
        },
        {
          "output_type": "display_data",
          "data": {
            "text/plain": [
              "<IPython.core.display.Javascript object>"
            ],
            "application/javascript": [
              "download(\"download_f6f2966f-f314-41e4-b3c1-0eb8c8c52938\", \"wisata_indonesia_final.csv\", 479665)"
            ]
          },
          "metadata": {}
        }
      ]
    },
    {
      "cell_type": "markdown",
      "source": [
        "Menyimpan DataFrame df_clean ke dalam file CSV bernama wisata_indonesia_final.csv tanpa menyertakan indeks, lalu file tersebut langsung disiapkan untuk diunduh melalui Google Colab menggunakan files.download()."
      ],
      "metadata": {
        "id": "14miPFywN3WZ"
      }
    },
    {
      "cell_type": "code",
      "source": [
        "preferred_categories = [\"gunung\", \"taman\", \"pantai\"]\n",
        "user_provinsi = \"Jawa Timur\"\n",
        "\n",
        "filtered_df = df_clean[df_clean['provinsi'].str.lower() == user_provinsi.lower()].copy()\n",
        "filtered_df['label'] = filtered_df['kategori'].apply(lambda x: 1 if x in preferred_categories else 0)\n",
        "\n",
        "\n",
        "print(\"Data setelah filter:\", filtered_df.shape)"
      ],
      "metadata": {
        "id": "BWpwHEReawLi",
        "colab": {
          "base_uri": "https://localhost:8080/"
        },
        "outputId": "6d0c3d4b-8ed1-46eb-af28-ba0ad7ee106c"
      },
      "execution_count": 25,
      "outputs": [
        {
          "output_type": "stream",
          "name": "stdout",
          "text": [
            "Data setelah filter: (209, 11)\n"
          ]
        }
      ]
    },
    {
      "cell_type": "markdown",
      "source": [
        "Memfilter data wisata hanya untuk provinsi Jawa Timur, lalu menambahkan kolom baru bernama label yang bernilai 1 jika kategori wisata termasuk dalam daftar preferensi pengguna (\"gunung\", \"taman\", \"pantai\"), dan 0 jika tidak. Hasilnya, data yang tersisa berjumlah 209 baris."
      ],
      "metadata": {
        "id": "08kE7dq1N-xV"
      }
    },
    {
      "cell_type": "markdown",
      "source": [
        "# **Modelling: Skor Cosine Similarity**"
      ],
      "metadata": {
        "id": "ScBFDFUZjOlR"
      }
    },
    {
      "cell_type": "code",
      "source": [
        "tfidf = TfidfVectorizer(stop_words=stopwords_indonesia)\n",
        "tfidf_matrix = tfidf.fit_transform(filtered_df['deskripsi_bersih'])"
      ],
      "metadata": {
        "colab": {
          "base_uri": "https://localhost:8080/"
        },
        "id": "a23HqPwjqNpy",
        "outputId": "2f560dd6-082c-40c9-bdd1-6fe723eab7f3"
      },
      "execution_count": 26,
      "outputs": [
        {
          "output_type": "stream",
          "name": "stderr",
          "text": [
            "/usr/local/lib/python3.11/dist-packages/sklearn/feature_extraction/text.py:402: UserWarning: Your stop_words may be inconsistent with your preprocessing. Tokenizing the stop words generated tokens ['baiknya', 'berkali', 'kali', 'kurangnya', 'mata', 'olah', 'sekurang', 'setidak', 'tama', 'tidaknya'] not in stop_words.\n",
            "  warnings.warn(\n"
          ]
        }
      ]
    },
    {
      "cell_type": "markdown",
      "source": [
        "Menginisialisasi vektorisasi teks dengan mengabaikan kata-kata umum dalam Bahasa Indonesia.\n"
      ],
      "metadata": {
        "id": "E7E62s2cOLH7"
      }
    },
    {
      "cell_type": "code",
      "source": [
        "user_pref_kategori = \" \".join(preferred_categories)\n",
        "user_vector = tfidf.transform([user_pref_kategori])\n",
        "cosine_sim = cosine_similarity(user_vector, tfidf_matrix).flatten()"
      ],
      "metadata": {
        "id": "hRLUn2gkqQbw"
      },
      "execution_count": 27,
      "outputs": []
    },
    {
      "cell_type": "markdown",
      "source": [
        "Tahapan diatas mengubah preferensi kategori pengguna menjadi vektor TF-IDF lalu menghitung tingkat kemiripannya dengan deskripsi wisata menggunakan cosine similarity, sehingga bisa menilai seberapa relevan setiap tempat wisata dengan preferensi tersebut."
      ],
      "metadata": {
        "id": "nzLlcwZmOWRb"
      }
    },
    {
      "cell_type": "code",
      "source": [
        "filtered_df['score'] = cosine_sim"
      ],
      "metadata": {
        "id": "g8yTIBxyqWTs"
      },
      "execution_count": 28,
      "outputs": []
    },
    {
      "cell_type": "markdown",
      "source": [
        "Tahapan diatas merupakan proses menambahkan kolom baru bernama score ke filtered_df, yang berisi nilai kemiripan (cosine similarity) antara preferensi pengguna dan deskripsi tempat wisata, sebagai ukuran relevansi tiap wisata dengan preferensi tersebut."
      ],
      "metadata": {
        "id": "2iqEHrqYOd00"
      }
    },
    {
      "cell_type": "markdown",
      "source": [
        "# **Feature Engineering**"
      ],
      "metadata": {
        "id": "mWKcOVNTCXsF"
      }
    },
    {
      "cell_type": "code",
      "source": [
        "filtered_df['desc_len'] = filtered_df['deskripsi_bersih'].apply(lambda x: len(str(x).split()))"
      ],
      "metadata": {
        "id": "WPS_ReSjFggW"
      },
      "execution_count": 29,
      "outputs": []
    },
    {
      "cell_type": "markdown",
      "source": [
        "Menambahkan kolom baru desc_len ke filtered_df yang berisi jumlah kata dari setiap deskripsi wisata yang sudah dibersihkan, sebagai ukuran panjang teks deskripsi."
      ],
      "metadata": {
        "id": "Zkyy2WUEOml8"
      }
    },
    {
      "cell_type": "code",
      "source": [
        "le_kategori = LabelEncoder()\n",
        "le_provinsi = LabelEncoder()"
      ],
      "metadata": {
        "id": "uoNl5eVIbInw"
      },
      "execution_count": 30,
      "outputs": []
    },
    {
      "cell_type": "markdown",
      "source": [
        "Membuat dua objek `LabelEncoder` dari scikit-learn untuk nantinya mengubah data kategorikal pada kolom `kategori` dan `provinsi` menjadi angka agar bisa digunakan dalam pemodelan machine learning."
      ],
      "metadata": {
        "id": "ZVeDvHzqOtFf"
      }
    },
    {
      "cell_type": "code",
      "source": [
        "filtered_df['desc_len'] = filtered_df['deskripsi_bersih'].apply(lambda x: len(str(x).split()))\n",
        "filtered_df['kategori_enc'] = le_kategori.fit_transform(filtered_df['kategori'])\n",
        "filtered_df['provinsi_enc'] = le_provinsi.fit_transform(filtered_df['provinsi'])\n",
        "filtered_df['is_preferred_category'] = filtered_df['kategori'].apply(lambda x: 1 if x in preferred_categories else 0)"
      ],
      "metadata": {
        "id": "OAVfRHLjbR9H"
      },
      "execution_count": 31,
      "outputs": []
    },
    {
      "cell_type": "markdown",
      "source": [
        "Menambahkan beberapa kolom baru pada filtered_df: desc_len untuk panjang deskripsi dalam jumlah kata, kategori_enc dan provinsi_enc sebagai representasi numerik hasil encoding dari kolom kategori dan provinsi, serta is_preferred_category yang menandai baris dengan 1 jika kategori termasuk kategori favorit pengguna dan 0 jika tidak."
      ],
      "metadata": {
        "id": "hoBEX-fNOxf9"
      }
    },
    {
      "cell_type": "code",
      "source": [
        "X = filtered_df[['kategori_enc', 'provinsi_enc', 'desc_len', 'is_preferred_category']]\n",
        "y = filtered_df['score']"
      ],
      "metadata": {
        "id": "IOHVfYdpcj3_"
      },
      "execution_count": 32,
      "outputs": []
    },
    {
      "cell_type": "markdown",
      "source": [
        "Menetapkan variabel fitur X yang berisi kolom-kolom numerik dan indikator dari data wisata, serta variabel target y yang berisi skor kemiripan antara preferensi pengguna dengan deskripsi wisata, untuk digunakan dalam pemodelan atau analisis selanjutnya."
      ],
      "metadata": {
        "id": "q0qyOArnO2vl"
      }
    },
    {
      "cell_type": "code",
      "source": [
        "scaler = MinMaxScaler()\n",
        "X_scaled = scaler.fit_transform(X)"
      ],
      "metadata": {
        "id": "_724P0-UCd7V"
      },
      "execution_count": 33,
      "outputs": []
    },
    {
      "cell_type": "markdown",
      "source": [
        "Melakukan normalisasi fitur-fitur di X menggunakan MinMaxScaler agar nilainya berada dalam rentang 0 hingga 1, sehingga membantu meningkatkan performa dan kestabilan model machine learning."
      ],
      "metadata": {
        "id": "Xyi4bN8CO_r3"
      }
    },
    {
      "cell_type": "code",
      "source": [
        "X_train, X_test, y_train, y_test = train_test_split(X_scaled, y, test_size=0.2, random_state=42)"
      ],
      "metadata": {
        "id": "BlbD_7HtCgeC"
      },
      "execution_count": 34,
      "outputs": []
    },
    {
      "cell_type": "markdown",
      "source": [
        "Membagi data fitur (X_scaled) dan target (y) menjadi dua set: data pelatihan (80%) dan data pengujian (20%) dengan pengacakan yang konsisten menggunakan random_state=42 untuk evaluasi model yang lebih valid."
      ],
      "metadata": {
        "id": "1PmrWqCdPFCl"
      }
    },
    {
      "cell_type": "code",
      "source": [
        "df_clean['kategori'].unique()"
      ],
      "metadata": {
        "colab": {
          "base_uri": "https://localhost:8080/"
        },
        "id": "7j03d1y56m2Y",
        "outputId": "240390fc-f9d4-42d9-edc0-5abb20fde4c3"
      },
      "execution_count": 35,
      "outputs": [
        {
          "output_type": "execute_result",
          "data": {
            "text/plain": [
              "array(['air terjun', 'alun-alun', 'bukit', 'cafe view', 'candi', 'gunung',\n",
              "       'kebun binatang', 'lembah', 'mall', 'monumen', 'museum', 'pantai',\n",
              "       'rumah adat', 'taman', 'wahana keluarga', 'wisata  religi',\n",
              "       'wisata alam', 'wisata edukasi', 'wisata kerajaan',\n",
              "       'wisata kuliner', 'wisata lampion', 'wisata religi',\n",
              "       'wisata tematik'], dtype=object)"
            ]
          },
          "metadata": {},
          "execution_count": 35
        }
      ]
    },
    {
      "cell_type": "markdown",
      "source": [
        "Dari data kategori unik pada df_clean, terlihat ada beberapa variasi kategori wisata seperti 'air terjun', 'pantai', 'museum', dan 'wisata religi' yang tertulis dua kali dengan ejaan sedikit berbeda ('wisata religi' dan 'wisata religi'), menandakan perlu pembersihan atau normalisasi lebih lanjut pada kolom kategori."
      ],
      "metadata": {
        "id": "N8GAhJO7PLWE"
      }
    },
    {
      "cell_type": "markdown",
      "source": [
        "# **Modelling dengan TensorFlow**"
      ],
      "metadata": {
        "id": "uRaLnK0ICjSv"
      }
    },
    {
      "cell_type": "code",
      "source": [
        "from tensorflow.keras.models import Sequential\n",
        "from tensorflow.keras.layers import Dense, Dropout, Input\n",
        "from tensorflow.keras.optimizers import Adam\n",
        "\n",
        "model = Sequential([\n",
        "    Input(batch_shape=(4, 4)),  # <-- batch size = 4, fitur = 4\n",
        "    Dense(64, activation='relu'),\n",
        "    Dropout(0.3),\n",
        "    Dense(32, activation='relu'),\n",
        "    Dropout(0.2),\n",
        "    Dense(1, activation='sigmoid')\n",
        "])\n",
        "\n",
        "model.compile(optimizer=Adam(learning_rate=0.001), loss='mse', metrics=['mae'])"
      ],
      "metadata": {
        "id": "S0XrC_u1Cj1R"
      },
      "execution_count": 36,
      "outputs": []
    },
    {
      "cell_type": "markdown",
      "source": [
        "Tahapan di atas mendefinisikan model neural network menggunakan Keras Sequential dengan input berukuran batch 4 dan 4 fitur. Model ini memiliki dua lapisan Dense dengan aktivasi ReLU (64 dan 32 neuron) yang masing-masing diikuti Dropout untuk mengurangi overfitting. Outputnya satu neuron dengan aktivasi sigmoid, cocok untuk regresi dengan output antara 0 dan 1. Model dikompilasi menggunakan optimizer Adam, loss fungsi mean squared error (mse), dan metrik mean absolute error (mae)."
      ],
      "metadata": {
        "id": "cprpZ68zPQMz"
      }
    },
    {
      "cell_type": "code",
      "source": [
        "history = model.fit(X_train, y_train, epochs=30, batch_size=16, validation_split=0.2)"
      ],
      "metadata": {
        "colab": {
          "base_uri": "https://localhost:8080/"
        },
        "id": "gI-oQ7irCoBN",
        "outputId": "3cb0a19b-4517-4c1d-afbf-71c6cebefcdf"
      },
      "execution_count": 37,
      "outputs": [
        {
          "output_type": "stream",
          "name": "stdout",
          "text": [
            "Epoch 1/30\n",
            "\u001b[1m9/9\u001b[0m \u001b[32m━━━━━━━━━━━━━━━━━━━━\u001b[0m\u001b[37m\u001b[0m \u001b[1m5s\u001b[0m 91ms/step - loss: 0.2368 - mae: 0.4769 - val_loss: 0.1979 - val_mae: 0.4331\n",
            "Epoch 2/30\n",
            "\u001b[1m9/9\u001b[0m \u001b[32m━━━━━━━━━━━━━━━━━━━━\u001b[0m\u001b[37m\u001b[0m \u001b[1m1s\u001b[0m 18ms/step - loss: 0.1922 - mae: 0.4270 - val_loss: 0.1604 - val_mae: 0.3877\n",
            "Epoch 3/30\n",
            "\u001b[1m9/9\u001b[0m \u001b[32m━━━━━━━━━━━━━━━━━━━━\u001b[0m\u001b[37m\u001b[0m \u001b[1m0s\u001b[0m 19ms/step - loss: 0.1590 - mae: 0.3834 - val_loss: 0.1308 - val_mae: 0.3489\n",
            "Epoch 4/30\n",
            "\u001b[1m9/9\u001b[0m \u001b[32m━━━━━━━━━━━━━━━━━━━━\u001b[0m\u001b[37m\u001b[0m \u001b[1m0s\u001b[0m 20ms/step - loss: 0.1311 - mae: 0.3462 - val_loss: 0.1050 - val_mae: 0.3104\n",
            "Epoch 5/30\n",
            "\u001b[1m9/9\u001b[0m \u001b[32m━━━━━━━━━━━━━━━━━━━━\u001b[0m\u001b[37m\u001b[0m \u001b[1m0s\u001b[0m 19ms/step - loss: 0.1031 - mae: 0.2991 - val_loss: 0.0814 - val_mae: 0.2697\n",
            "Epoch 6/30\n",
            "\u001b[1m9/9\u001b[0m \u001b[32m━━━━━━━━━━━━━━━━━━━━\u001b[0m\u001b[37m\u001b[0m \u001b[1m0s\u001b[0m 18ms/step - loss: 0.0858 - mae: 0.2773 - val_loss: 0.0611 - val_mae: 0.2317\n",
            "Epoch 7/30\n",
            "\u001b[1m9/9\u001b[0m \u001b[32m━━━━━━━━━━━━━━━━━━━━\u001b[0m\u001b[37m\u001b[0m \u001b[1m0s\u001b[0m 10ms/step - loss: 0.0651 - mae: 0.2382 - val_loss: 0.0457 - val_mae: 0.2004\n",
            "Epoch 8/30\n",
            "\u001b[1m9/9\u001b[0m \u001b[32m━━━━━━━━━━━━━━━━━━━━\u001b[0m\u001b[37m\u001b[0m \u001b[1m0s\u001b[0m 11ms/step - loss: 0.0451 - mae: 0.1970 - val_loss: 0.0350 - val_mae: 0.1739\n",
            "Epoch 9/30\n",
            "\u001b[1m9/9\u001b[0m \u001b[32m━━━━━━━━━━━━━━━━━━━━\u001b[0m\u001b[37m\u001b[0m \u001b[1m0s\u001b[0m 12ms/step - loss: 0.0394 - mae: 0.1819 - val_loss: 0.0272 - val_mae: 0.1506\n",
            "Epoch 10/30\n",
            "\u001b[1m9/9\u001b[0m \u001b[32m━━━━━━━━━━━━━━━━━━━━\u001b[0m\u001b[37m\u001b[0m \u001b[1m0s\u001b[0m 12ms/step - loss: 0.0345 - mae: 0.1698 - val_loss: 0.0221 - val_mae: 0.1328\n",
            "Epoch 11/30\n",
            "\u001b[1m9/9\u001b[0m \u001b[32m━━━━━━━━━━━━━━━━━━━━\u001b[0m\u001b[37m\u001b[0m \u001b[1m0s\u001b[0m 11ms/step - loss: 0.0245 - mae: 0.1399 - val_loss: 0.0186 - val_mae: 0.1178\n",
            "Epoch 12/30\n",
            "\u001b[1m9/9\u001b[0m \u001b[32m━━━━━━━━━━━━━━━━━━━━\u001b[0m\u001b[37m\u001b[0m \u001b[1m0s\u001b[0m 13ms/step - loss: 0.0177 - mae: 0.1134 - val_loss: 0.0164 - val_mae: 0.1069\n",
            "Epoch 13/30\n",
            "\u001b[1m9/9\u001b[0m \u001b[32m━━━━━━━━━━━━━━━━━━━━\u001b[0m\u001b[37m\u001b[0m \u001b[1m0s\u001b[0m 11ms/step - loss: 0.0175 - mae: 0.1102 - val_loss: 0.0149 - val_mae: 0.0980\n",
            "Epoch 14/30\n",
            "\u001b[1m9/9\u001b[0m \u001b[32m━━━━━━━━━━━━━━━━━━━━\u001b[0m\u001b[37m\u001b[0m \u001b[1m0s\u001b[0m 11ms/step - loss: 0.0152 - mae: 0.1017 - val_loss: 0.0139 - val_mae: 0.0906\n",
            "Epoch 15/30\n",
            "\u001b[1m9/9\u001b[0m \u001b[32m━━━━━━━━━━━━━━━━━━━━\u001b[0m\u001b[37m\u001b[0m \u001b[1m0s\u001b[0m 11ms/step - loss: 0.0169 - mae: 0.1032 - val_loss: 0.0131 - val_mae: 0.0848\n",
            "Epoch 16/30\n",
            "\u001b[1m9/9\u001b[0m \u001b[32m━━━━━━━━━━━━━━━━━━━━\u001b[0m\u001b[37m\u001b[0m \u001b[1m0s\u001b[0m 11ms/step - loss: 0.0151 - mae: 0.0947 - val_loss: 0.0126 - val_mae: 0.0801\n",
            "Epoch 17/30\n",
            "\u001b[1m9/9\u001b[0m \u001b[32m━━━━━━━━━━━━━━━━━━━━\u001b[0m\u001b[37m\u001b[0m \u001b[1m0s\u001b[0m 11ms/step - loss: 0.0099 - mae: 0.0717 - val_loss: 0.0123 - val_mae: 0.0766\n",
            "Epoch 18/30\n",
            "\u001b[1m9/9\u001b[0m \u001b[32m━━━━━━━━━━━━━━━━━━━━\u001b[0m\u001b[37m\u001b[0m \u001b[1m0s\u001b[0m 13ms/step - loss: 0.0116 - mae: 0.0800 - val_loss: 0.0120 - val_mae: 0.0734\n",
            "Epoch 19/30\n",
            "\u001b[1m9/9\u001b[0m \u001b[32m━━━━━━━━━━━━━━━━━━━━\u001b[0m\u001b[37m\u001b[0m \u001b[1m0s\u001b[0m 11ms/step - loss: 0.0132 - mae: 0.0823 - val_loss: 0.0118 - val_mae: 0.0711\n",
            "Epoch 20/30\n",
            "\u001b[1m9/9\u001b[0m \u001b[32m━━━━━━━━━━━━━━━━━━━━\u001b[0m\u001b[37m\u001b[0m \u001b[1m0s\u001b[0m 18ms/step - loss: 0.0084 - mae: 0.0643 - val_loss: 0.0116 - val_mae: 0.0686\n",
            "Epoch 21/30\n",
            "\u001b[1m9/9\u001b[0m \u001b[32m━━━━━━━━━━━━━━━━━━━━\u001b[0m\u001b[37m\u001b[0m \u001b[1m0s\u001b[0m 12ms/step - loss: 0.0094 - mae: 0.0657 - val_loss: 0.0114 - val_mae: 0.0668\n",
            "Epoch 22/30\n",
            "\u001b[1m9/9\u001b[0m \u001b[32m━━━━━━━━━━━━━━━━━━━━\u001b[0m\u001b[37m\u001b[0m \u001b[1m0s\u001b[0m 11ms/step - loss: 0.0117 - mae: 0.0700 - val_loss: 0.0113 - val_mae: 0.0652\n",
            "Epoch 23/30\n",
            "\u001b[1m9/9\u001b[0m \u001b[32m━━━━━━━━━━━━━━━━━━━━\u001b[0m\u001b[37m\u001b[0m \u001b[1m0s\u001b[0m 11ms/step - loss: 0.0093 - mae: 0.0686 - val_loss: 0.0112 - val_mae: 0.0635\n",
            "Epoch 24/30\n",
            "\u001b[1m9/9\u001b[0m \u001b[32m━━━━━━━━━━━━━━━━━━━━\u001b[0m\u001b[37m\u001b[0m \u001b[1m0s\u001b[0m 11ms/step - loss: 0.0078 - mae: 0.0581 - val_loss: 0.0111 - val_mae: 0.0622\n",
            "Epoch 25/30\n",
            "\u001b[1m9/9\u001b[0m \u001b[32m━━━━━━━━━━━━━━━━━━━━\u001b[0m\u001b[37m\u001b[0m \u001b[1m0s\u001b[0m 11ms/step - loss: 0.0104 - mae: 0.0709 - val_loss: 0.0110 - val_mae: 0.0611\n",
            "Epoch 26/30\n",
            "\u001b[1m9/9\u001b[0m \u001b[32m━━━━━━━━━━━━━━━━━━━━\u001b[0m\u001b[37m\u001b[0m \u001b[1m0s\u001b[0m 11ms/step - loss: 0.0121 - mae: 0.0714 - val_loss: 0.0109 - val_mae: 0.0600\n",
            "Epoch 27/30\n",
            "\u001b[1m9/9\u001b[0m \u001b[32m━━━━━━━━━━━━━━━━━━━━\u001b[0m\u001b[37m\u001b[0m \u001b[1m0s\u001b[0m 16ms/step - loss: 0.0095 - mae: 0.0583 - val_loss: 0.0108 - val_mae: 0.0591\n",
            "Epoch 28/30\n",
            "\u001b[1m9/9\u001b[0m \u001b[32m━━━━━━━━━━━━━━━━━━━━\u001b[0m\u001b[37m\u001b[0m \u001b[1m0s\u001b[0m 12ms/step - loss: 0.0079 - mae: 0.0555 - val_loss: 0.0108 - val_mae: 0.0582\n",
            "Epoch 29/30\n",
            "\u001b[1m9/9\u001b[0m \u001b[32m━━━━━━━━━━━━━━━━━━━━\u001b[0m\u001b[37m\u001b[0m \u001b[1m0s\u001b[0m 11ms/step - loss: 0.0088 - mae: 0.0597 - val_loss: 0.0107 - val_mae: 0.0578\n",
            "Epoch 30/30\n",
            "\u001b[1m9/9\u001b[0m \u001b[32m━━━━━━━━━━━━━━━━━━━━\u001b[0m\u001b[37m\u001b[0m \u001b[1m0s\u001b[0m 13ms/step - loss: 0.0124 - mae: 0.0723 - val_loss: 0.0105 - val_mae: 0.0575\n"
          ]
        }
      ]
    },
    {
      "cell_type": "markdown",
      "source": [
        "Training model selama 30 epoch menunjukkan penurunan loss dan MAE (mean absolute error) secara konsisten pada data pelatihan maupun validasi, yang berarti model semakin baik dalam memprediksi skor kesamaan deskripsi. Nilai loss yang semakin kecil (mse turun dari 0.19 ke 0.0072) dan MAE juga berkurang (dari 0.42 ke sekitar 0.05) menandakan model belajar dengan efektif tanpa tanda-tanda overfitting yang jelas, karena validasi error juga menurun. Hal ini menunjukkan model neural network berhasil memetakan fitur input ke skor kesamaan secara akurat."
      ],
      "metadata": {
        "id": "fP6mWKonPgOk"
      }
    },
    {
      "cell_type": "markdown",
      "source": [
        "# **Evaluasi Model**"
      ],
      "metadata": {
        "id": "3UTvRcodjURH"
      }
    },
    {
      "cell_type": "code",
      "source": [
        "# Ambil ground truth dan hasil rekomendasi\n",
        "filtered_df['label'] = filtered_df['kategori'].apply(lambda x: 1 if x in preferred_categories else 0)\n",
        "\n",
        "# Urutkan berdasarkan skor cosine similarity\n",
        "filtered_df_sorted = filtered_df.sort_values(by='score', ascending=False)\n",
        "top_k = 10\n",
        "top_k_recommendations = filtered_df_sorted.head(top_k)\n",
        "ground_truth = filtered_df[filtered_df['label'] == 1]['nama_wisata'].values\n",
        "predicted = top_k_recommendations['nama_wisata'].values\n",
        "\n",
        "def precision_recall_at_k(ground_truth, predicted, k):\n",
        "    predicted_k = predicted[:k]\n",
        "    relevant = set(ground_truth)\n",
        "    retrieved = set(predicted_k)\n",
        "    true_positive = relevant.intersection(retrieved)\n",
        "\n",
        "    precision = len(true_positive) / k\n",
        "    recall = len(true_positive) / len(relevant) if len(relevant) > 0 else 0.0\n",
        "\n",
        "    return precision, recall\n",
        "\n",
        "precision, recall = precision_recall_at_k(ground_truth, predicted, top_k)\n",
        "print(f\"Precision@{top_k}: {precision:.2f}\")\n",
        "print(f\"Recall@{top_k}: {recall:.2f}\")"
      ],
      "metadata": {
        "colab": {
          "base_uri": "https://localhost:8080/"
        },
        "id": "KUKcotyPBu6r",
        "outputId": "b2048594-091f-4779-e530-b885b054dcd2"
      },
      "execution_count": 38,
      "outputs": [
        {
          "output_type": "stream",
          "name": "stdout",
          "text": [
            "Precision@10: 1.00\n",
            "Recall@10: 0.28\n"
          ]
        }
      ]
    },
    {
      "cell_type": "markdown",
      "source": [
        "Hasil evaluasi menunjukkan Precision@10 sebesar 1.00, artinya dari 10 rekomendasi teratas yang diberikan, semuanya memang termasuk kategori yang diinginkan (tidak ada yang salah). Namun, Recall@10 hanya 0.28, yang berarti hanya sekitar 28% dari seluruh objek wisata yang sebenarnya masuk kategori favorit berhasil direkomendasikan dalam 10 besar tersebut."
      ],
      "metadata": {
        "id": "96OhQ9bPPyG1"
      }
    },
    {
      "cell_type": "code",
      "source": [
        "loss, mae = model.evaluate(X_test, y_test)\n",
        "print(f\"Loss: {loss:.4f} | MAE: {mae:.4f}\")"
      ],
      "metadata": {
        "colab": {
          "base_uri": "https://localhost:8080/"
        },
        "id": "zllw6k1qco0C",
        "outputId": "eb8dec56-910d-49aa-b1bd-e3aa23b9920e"
      },
      "execution_count": 39,
      "outputs": [
        {
          "output_type": "stream",
          "name": "stdout",
          "text": [
            "\u001b[1m2/2\u001b[0m \u001b[32m━━━━━━━━━━━━━━━━━━━━\u001b[0m\u001b[37m\u001b[0m \u001b[1m0s\u001b[0m 26ms/step - loss: 0.0035 - mae: 0.0362\n",
            "Loss: 0.0046 | MAE: 0.0394\n"
          ]
        }
      ]
    },
    {
      "cell_type": "markdown",
      "source": [
        "Model menunjukkan performa yang baik dengan nilai loss (MSE) sekitar 0.0037 dan Mean Absolute Error (MAE) sebesar 0.0385 pada data uji, yang mengindikasikan prediksi model cukup akurat dan kesalahan rata-rata prediksi terhadap nilai sebenarnya relatif kecil."
      ],
      "metadata": {
        "id": "Y-KZJzk6P6SG"
      }
    },
    {
      "cell_type": "markdown",
      "source": [
        "# **Prediksi & Rekomendasi**"
      ],
      "metadata": {
        "id": "-dl3qsitCuFL"
      }
    },
    {
      "cell_type": "code",
      "source": [
        "filtered_df['predicted_score'] = model.predict(X_scaled).flatten()\n",
        "top_rekomendasi = filtered_df.sort_values(by='predicted_score', ascending=False).head(10)"
      ],
      "metadata": {
        "colab": {
          "base_uri": "https://localhost:8080/"
        },
        "id": "CCS52G2fcsD7",
        "outputId": "07986785-c58d-4775-b3fa-89d685f12e17"
      },
      "execution_count": 40,
      "outputs": [
        {
          "output_type": "stream",
          "name": "stdout",
          "text": [
            "\u001b[1m7/7\u001b[0m \u001b[32m━━━━━━━━━━━━━━━━━━━━\u001b[0m\u001b[37m\u001b[0m \u001b[1m0s\u001b[0m 11ms/step\n"
          ]
        }
      ]
    },
    {
      "cell_type": "markdown",
      "source": [
        "Tahapan tersebut menambahkan kolom predicted_score ke filtered_df yang berisi hasil prediksi skor dari model untuk setiap data, kemudian mengurutkan data berdasarkan skor prediksi dari yang tertinggi dan mengambil 10 teratas sebagai rekomendasi terbaik."
      ],
      "metadata": {
        "id": "9xFT1_QsQFtJ"
      }
    },
    {
      "cell_type": "code",
      "source": [
        "import matplotlib.pyplot as plt\n",
        "# Visualisasi hasil evaluasi model\n",
        "plt.figure(figsize=(12, 6))\n",
        "plt.plot(history.history['loss'], label='Training Loss')\n",
        "plt.plot(history.history['val_loss'], label='Validation Loss')\n",
        "plt.title('Model Loss during Training')\n",
        "plt.xlabel('Epoch')\n",
        "plt.ylabel('Loss (MSE)')\n",
        "plt.legend()\n",
        "plt.show()"
      ],
      "metadata": {
        "colab": {
          "base_uri": "https://localhost:8080/",
          "height": 564
        },
        "id": "0YeDzhaTNiTh",
        "outputId": "cbaab0e8-6721-45db-dbc6-313f7402aab7"
      },
      "execution_count": 41,
      "outputs": [
        {
          "output_type": "display_data",
          "data": {
            "text/plain": [
              "<Figure size 1200x600 with 1 Axes>"
            ],
            "image/png": "[encoded data removed]"
          },
          "metadata": {}
        }
      ]
    },
    {
      "cell_type": "markdown",
      "source": [
        "Visualisasi diatas menunjukkan bahwa baik training loss maupun validation loss menurun secara signifikan pada epoch-epoch awal, kemudian melambat dan stabil pada nilai rendah setelah sekitar 15 epoch. Hal tersebut mengindikasikan bahwa model belajar dengan baik dan tidak menunjukkan tanda-tanda overfitting yang parah karena validation loss juga mengikuti tren penurunan training loss dan tetap berada pada tingkat yang serupa."
      ],
      "metadata": {
        "id": "1hWHkhkuT_0S"
      }
    },
    {
      "cell_type": "code",
      "source": [
        "plt.figure(figsize=(12, 6))\n",
        "plt.plot(history.history['mae'], label='Training MAE')\n",
        "plt.plot(history.history['val_mae'], label='Validation MAE')\n",
        "plt.title('Model MAE during Training')\n",
        "plt.xlabel('Epoch')\n",
        "plt.ylabel('Mean Absolute Error')\n",
        "plt.legend()\n",
        "plt.show()"
      ],
      "metadata": {
        "colab": {
          "base_uri": "https://localhost:8080/",
          "height": 564
        },
        "id": "fT02qCPAQJjs",
        "outputId": "6903bd34-f429-46d5-bf82-5969439f5c02"
      },
      "execution_count": 42,
      "outputs": [
        {
          "output_type": "display_data",
          "data": {
            "text/plain": [
              "<Figure size 1200x600 with 1 Axes>"
            ],
            "image/png": "[encoded data removed]"
          },
          "metadata": {}
        }
      ]
    },
    {
      "cell_type": "markdown",
      "source": [
        "Visualisasi diatas menunjukkan Mean Absolute Error (MAE) dari model selama proses pelatihan. Baik training MAE maupun validation MAE menunjukkan penurunan yang signifikan pada epoch-epoch awal dan kemudian stabil pada nilai yang rendah setelah sekitar 15 epoch. Kurva training MAE dan validation MAE yang relatif dekat menunjukkan bahwa model belajar dengan baik tanpa tanda-tanda overfitting yang jelas, karena kinerja pada data yang tidak terlihat (validasi) tetap konsisten dengan kinerja pada data pelatihan."
      ],
      "metadata": {
        "id": "QD1WC53GUPF4"
      }
    },
    {
      "cell_type": "markdown",
      "source": [
        "# Rekomendasi dari Preferensi User"
      ],
      "metadata": {
        "id": "lcutBw5NHaUb"
      }
    },
    {
      "cell_type": "code",
      "source": [
        "def rekomendasi_wisata_berbobot(preferred_categories, user_provinsi, df, model, le_kategori, le_provinsi, scaler, weight_model=0.3, weight_tfidf=0.7):\n",
        "    # Filter data sesuai provinsi\n",
        "    filtered_df = df[df['provinsi'].str.lower() == user_provinsi.lower()].copy()\n",
        "    if 'deskripsi_bersih' not in filtered_df.columns:\n",
        "        filtered_df['deskripsi_bersih'] = filtered_df['deskripsi'].apply(bersihkan_deskripsi)\n",
        "\n",
        "    # Hitung TF-IDF cosine similarity\n",
        "    tfidf = TfidfVectorizer(stop_words=stopwords_indonesia)\n",
        "    tfidf_matrix = tfidf.fit_transform(filtered_df['deskripsi_bersih'])\n",
        "    user_pref_kategori = \" \".join(preferred_categories)\n",
        "    user_vector = tfidf.transform([user_pref_kategori])\n",
        "    cosine_sim = cosine_similarity(user_vector, tfidf_matrix).flatten()\n",
        "    filtered_df['cosine_score'] = cosine_sim\n",
        "\n",
        "    # Feature engineering untuk model\n",
        "    filtered_df['desc_len'] = filtered_df['deskripsi_bersih'].apply(lambda x: len(str(x).split()))\n",
        "    filtered_df['kategori_enc'] = le_kategori.transform(filtered_df['kategori'])\n",
        "    filtered_df['provinsi_enc'] = le_provinsi.transform(filtered_df['provinsi'])\n",
        "    filtered_df['is_preferred_category'] = filtered_df['kategori'].apply(lambda x: 1 if x in preferred_categories else 0)\n",
        "\n",
        "    X = filtered_df[['kategori_enc', 'provinsi_enc', 'desc_len', 'is_preferred_category']]\n",
        "    X_scaled = scaler.transform(X)\n",
        "\n",
        "    # Prediksi skor dengan model TensorFlow\n",
        "    filtered_df['model_score'] = model.predict(X_scaled).flatten()\n",
        "    filtered_df['final_score'] = weight_model * filtered_df['model_score'] + weight_tfidf * filtered_df['cosine_score']\n",
        "\n",
        "    # Ambil top 10 rekomendasi berdasarkan final_score\n",
        "    top_rekomendasi = filtered_df.sort_values(by='final_score', ascending=False).head(10)\n",
        "\n",
        "    # Tampilkan kolom yang diminta plus skor\n",
        "    return top_rekomendasi[['nama_wisata', 'provinsi', 'alamat', 'deskripsi_bersih', 'kota_kabupaten', 'final_score', 'cosine_score', 'model_score']]"
      ],
      "metadata": {
        "id": "GXqIcGhXG4vY"
      },
      "execution_count": 43,
      "outputs": []
    },
    {
      "cell_type": "markdown",
      "source": [
        "Fungsi ini memberikan rekomendasi wisata di provinsi tertentu dengan menggabungkan skor prediksi model dan skor kemiripan TF-IDF berdasarkan preferensi kategori pengguna, lalu mengembalikan 10 wisata dengan skor tertinggi beserta informasinya."
      ],
      "metadata": {
        "id": "qVBPUxGaQUFa"
      }
    },
    {
      "cell_type": "code",
      "source": [
        "valid_categories = df_clean[\"kategori\"].unique()\n",
        "\n",
        "filtered_preferred_categories = [cat for cat in preferred_categories if cat in valid_categories]\n",
        "\n",
        "if not filtered_preferred_categories:\n",
        "    print(\"Maaf, tidak ada kategori yang cocok dengan preferensi Anda.\")\n",
        "else:\n",
        "    hasil_rekomendasi = rekomendasi_wisata_berbobot(\n",
        "        filtered_preferred_categories,\n",
        "        user_provinsi,\n",
        "        df_clean,\n",
        "        model,\n",
        "        le_kategori,\n",
        "        le_provinsi,\n",
        "        scaler\n",
        "    )\n",
        "    print(hasil_rekomendasi)"
      ],
      "metadata": {
        "colab": {
          "base_uri": "https://localhost:8080/"
        },
        "id": "k4dbdua2G6Bn",
        "outputId": "be3ec3e2-1975-45c8-947d-6d336fa8dd36"
      },
      "execution_count": 44,
      "outputs": [
        {
          "output_type": "stream",
          "name": "stdout",
          "text": [
            "\u001b[1m7/7\u001b[0m \u001b[32m━━━━━━━━━━━━━━━━━━━━\u001b[0m\u001b[37m\u001b[0m \u001b[1m0s\u001b[0m 6ms/step \n",
            "                nama_wisata    provinsi  \\\n",
            "512        Pantai Rajegwesi  Jawa Timur   \n",
            "574  Taman Nasional Baluran  Jawa Timur   \n",
            "453             Pantai Boom  Jawa Timur   \n",
            "225           Gunung Semeru  Jawa Timur   \n",
            "169           Gunung Arjuno  Jawa Timur   \n",
            "529       Pantai Tambakrejo  Jawa Timur   \n",
            "509        Pantai Plengkung  Jawa Timur   \n",
            "239         Gunung Welirang  Jawa Timur   \n",
            "473           Pantai Klayar  Jawa Timur   \n",
            "511            Pantai Popoh  Jawa Timur   \n",
            "\n",
            "                                                alamat  \\\n",
            "512  Pantai Rajegwesi, Rajegwesi, Banyuwangi, Jawa ...   \n",
            "574  Taman Nasional Baluran, Situbondo, Banyuwangi,...   \n",
            "453  Pantai Boom, Krajan, Banyuwangi, Kampungmandar...   \n",
            "225  Gunung Semeru, Lumajang, Jawa Timur, Jawa, Ind...   \n",
            "169  Gunung Arjuno, Bumirejo, Kabupaten Malang, Jaw...   \n",
            "529  Pantai Tambakrejo, Jalan Pantai, Tambakrejo, B...   \n",
            "509  Pantai Plengkung, G-Land, Banyuwangi, Jawa Tim...   \n",
            "239  Gunung Welirang, Pacet, Mojokerto, Jawa Timur,...   \n",
            "473  Pantai Klayar, Pacitan, Jawa Timur, Jawa, Indo...   \n",
            "511  Jalan Pantai Popoh, Tulungagung, Jawa Timur, J...   \n",
            "\n",
            "                                      deskripsi_bersih    kota_kabupaten  \\\n",
            "512  Pantai Rajegwesi adalah sebuah pantai yang ter...        Banyuwangi   \n",
            "574  Taman Nasional Baluran adalah salah satu taman...         Situbondo   \n",
            "453  Pantai Boom adalah sebuah pantai yang terletak...        Banyuwangi   \n",
            "225  Gunung Semeru atau Gunung Meru adalah sebuah g...          Lumajang   \n",
            "169  Gunung Arjuno (terkadang dieja Gunung Arjuna) ...  Kabupaten Malang   \n",
            "529  Pantai Tambakrejo merupakan sebuah pantai yang...            Blitar   \n",
            "509  Pantai Plengkung, atau lebih dikenal dengan na...        Banyuwangi   \n",
            "239  Gunung Welirang adalah sebuah gunung berapi ak...         Mojokerto   \n",
            "473  Pantai Klayar adalah sebuah pantai dengan pasi...           Pacitan   \n",
            "511  Pantai Popoh adalah sebuah pantai yang terleta...       Tulungagung   \n",
            "\n",
            "     final_score  cosine_score  model_score  \n",
            "512     0.312578      0.433328     0.030828  \n",
            "574     0.269178      0.374682     0.023002  \n",
            "453     0.256712      0.352704     0.032730  \n",
            "225     0.246875      0.332316     0.047511  \n",
            "169     0.245638      0.335771     0.035328  \n",
            "529     0.238571      0.331471     0.021803  \n",
            "509     0.231867      0.320028     0.026158  \n",
            "239     0.230107      0.310531     0.042452  \n",
            "473     0.217852      0.299293     0.027822  \n",
            "511     0.217756      0.299156     0.027822  \n"
          ]
        },
        {
          "output_type": "stream",
          "name": "stderr",
          "text": [
            "/usr/local/lib/python3.11/dist-packages/sklearn/feature_extraction/text.py:402: UserWarning: Your stop_words may be inconsistent with your preprocessing. Tokenizing the stop words generated tokens ['baiknya', 'berkali', 'kali', 'kurangnya', 'mata', 'olah', 'sekurang', 'setidak', 'tama', 'tidaknya'] not in stop_words.\n",
            "  warnings.warn(\n"
          ]
        }
      ]
    },
    {
      "cell_type": "markdown",
      "source": [
        "Tahapan tersebut memeriksa apakah kategori favorit pengguna ada di data, jika tidak ada maka memberi pesan bahwa tidak ada kategori cocok; jika ada, maka menjalankan fungsi rekomendasi berbobot dan menampilkan hasil rekomendasi wisata sesuai preferensi dan provinsi pengguna."
      ],
      "metadata": {
        "id": "sfFjQGK4QY6e"
      }
    },
    {
      "cell_type": "code",
      "source": [
        "model.save(\"my_model.h5\")"
      ],
      "metadata": {
        "colab": {
          "base_uri": "https://localhost:8080/"
        },
        "id": "mnbVnAdrbFvw",
        "outputId": "c0acd324-ee46-44e9-e71f-c9d0d09c9fe5"
      },
      "execution_count": 45,
      "outputs": [
        {
          "output_type": "stream",
          "name": "stderr",
          "text": [
            "WARNING:absl:You are saving your model as an HDF5 file via `model.save()` or `keras.saving.save_model(model)`. This file format is considered legacy. We recommend using instead the native Keras format, e.g. `model.save('my_model.keras')` or `keras.saving.save_model(model, 'my_model.keras')`. \n"
          ]
        }
      ]
    },
    {
      "cell_type": "markdown",
      "source": [
        "Menyimpan model TensorFlow/Keras yang sudah dilatih ke dalam file dengan format HDF5 (.h5). File ini berisi arsitektur model, bobot (weights), dan konfigurasi pelatihan, sehingga nanti model bisa dimuat kembali tanpa perlu melatih ulang."
      ],
      "metadata": {
        "id": "Gcjx-gyJQg83"
      }
    },
    {
      "cell_type": "code",
      "source": [
        "!pip install tensorflowjs"
      ],
      "metadata": {
        "colab": {
          "base_uri": "https://localhost:8080/"
        },
        "id": "244zp-vPYA6n",
        "outputId": "4a79e95f-33bc-4b27-dc6f-2f5cfda0487f"
      },
      "execution_count": 46,
      "outputs": [
        {
          "output_type": "stream",
          "name": "stdout",
          "text": [
            "Collecting tensorflowjs\n",
            "  Downloading tensorflowjs-4.22.0-py3-none-any.whl.metadata (3.2 kB)\n",
            "Requirement already satisfied: flax>=0.7.2 in /usr/local/lib/python3.11/dist-packages (from tensorflowjs) (0.10.6)\n",
            "Requirement already satisfied: importlib_resources>=5.9.0 in /usr/local/lib/python3.11/dist-packages (from tensorflowjs) (6.5.2)\n",
            "Requirement already satisfied: jax>=0.4.13 in /usr/local/lib/python3.11/dist-packages (from tensorflowjs) (0.5.2)\n",
            "Requirement already satisfied: jaxlib>=0.4.13 in /usr/local/lib/python3.11/dist-packages (from tensorflowjs) (0.5.1)\n",
            "Requirement already satisfied: tensorflow<3,>=2.13.0 in /usr/local/lib/python3.11/dist-packages (from tensorflowjs) (2.18.0)\n",
            "Requirement already satisfied: tf-keras>=2.13.0 in /usr/local/lib/python3.11/dist-packages (from tensorflowjs) (2.18.0)\n",
            "Requirement already satisfied: tensorflow-decision-forests>=1.5.0 in /usr/local/lib/python3.11/dist-packages (from tensorflowjs) (1.11.0)\n",
            "Requirement already satisfied: six<2,>=1.16.0 in /usr/local/lib/python3.11/dist-packages (from tensorflowjs) (1.17.0)\n",
            "Requirement already satisfied: tensorflow-hub>=0.16.1 in /usr/local/lib/python3.11/dist-packages (from tensorflowjs) (0.16.1)\n",
            "Collecting packaging~=23.1 (from tensorflowjs)\n",
            "  Downloading packaging-23.2-py3-none-any.whl.metadata (3.2 kB)\n",
            "Requirement already satisfied: numpy>=1.23.2 in /usr/local/lib/python3.11/dist-packages (from flax>=0.7.2->tensorflowjs) (2.0.2)\n",
            "Requirement already satisfied: msgpack in /usr/local/lib/python3.11/dist-packages (from flax>=0.7.2->tensorflowjs) (1.1.0)\n",
            "Requirement already satisfied: optax in /usr/local/lib/python3.11/dist-packages (from flax>=0.7.2->tensorflowjs) (0.2.4)\n",
            "Requirement already satisfied: orbax-checkpoint in /usr/local/lib/python3.11/dist-packages (from flax>=0.7.2->tensorflowjs) (0.11.13)\n",
            "Requirement already satisfied: tensorstore in /usr/local/lib/python3.11/dist-packages (from flax>=0.7.2->tensorflowjs) (0.1.74)\n",
            "Requirement already satisfied: rich>=11.1 in /usr/local/lib/python3.11/dist-packages (from flax>=0.7.2->tensorflowjs) (13.9.4)\n",
            "Requirement already satisfied: typing_extensions>=4.2 in /usr/local/lib/python3.11/dist-packages (from flax>=0.7.2->tensorflowjs) (4.13.2)\n",
            "Requirement already satisfied: PyYAML>=5.4.1 in /usr/local/lib/python3.11/dist-packages (from flax>=0.7.2->tensorflowjs) (6.0.2)\n",
            "Requirement already satisfied: treescope>=0.1.7 in /usr/local/lib/python3.11/dist-packages (from flax>=0.7.2->tensorflowjs) (0.1.9)\n",
            "Requirement already satisfied: ml_dtypes>=0.4.0 in /usr/local/lib/python3.11/dist-packages (from jax>=0.4.13->tensorflowjs) (0.4.1)\n",
            "Requirement already satisfied: opt_einsum in /usr/local/lib/python3.11/dist-packages (from jax>=0.4.13->tensorflowjs) (3.4.0)\n",
            "Requirement already satisfied: scipy>=1.11.1 in /usr/local/lib/python3.11/dist-packages (from jax>=0.4.13->tensorflowjs) (1.15.3)\n",
            "Requirement already satisfied: absl-py>=1.0.0 in /usr/local/lib/python3.11/dist-packages (from tensorflow<3,>=2.13.0->tensorflowjs) (1.4.0)\n",
            "Requirement already satisfied: astunparse>=1.6.0 in /usr/local/lib/python3.11/dist-packages (from tensorflow<3,>=2.13.0->tensorflowjs) (1.6.3)\n",
            "Requirement already satisfied: flatbuffers>=24.3.25 in /usr/local/lib/python3.11/dist-packages (from tensorflow<3,>=2.13.0->tensorflowjs) (25.2.10)\n",
            "Requirement already satisfied: gast!=0.5.0,!=0.5.1,!=0.5.2,>=0.2.1 in /usr/local/lib/python3.11/dist-packages (from tensorflow<3,>=2.13.0->tensorflowjs) (0.6.0)\n",
            "Requirement already satisfied: google-pasta>=0.1.1 in /usr/local/lib/python3.11/dist-packages (from tensorflow<3,>=2.13.0->tensorflowjs) (0.2.0)\n",
            "Requirement already satisfied: libclang>=13.0.0 in /usr/local/lib/python3.11/dist-packages (from tensorflow<3,>=2.13.0->tensorflowjs) (18.1.1)\n",
            "Requirement already satisfied: protobuf!=4.21.0,!=4.21.1,!=4.21.2,!=4.21.3,!=4.21.4,!=4.21.5,<6.0.0dev,>=3.20.3 in /usr/local/lib/python3.11/dist-packages (from tensorflow<3,>=2.13.0->tensorflowjs) (5.29.4)\n",
            "Requirement already satisfied: requests<3,>=2.21.0 in /usr/local/lib/python3.11/dist-packages (from tensorflow<3,>=2.13.0->tensorflowjs) (2.32.3)\n",
            "Requirement already satisfied: setuptools in /usr/local/lib/python3.11/dist-packages (from tensorflow<3,>=2.13.0->tensorflowjs) (75.2.0)\n",
            "Requirement already satisfied: termcolor>=1.1.0 in /usr/local/lib/python3.11/dist-packages (from tensorflow<3,>=2.13.0->tensorflowjs) (3.1.0)\n",
            "Requirement already satisfied: wrapt>=1.11.0 in /usr/local/lib/python3.11/dist-packages (from tensorflow<3,>=2.13.0->tensorflowjs) (1.17.2)\n",
            "Requirement already satisfied: grpcio<2.0,>=1.24.3 in /usr/local/lib/python3.11/dist-packages (from tensorflow<3,>=2.13.0->tensorflowjs) (1.71.0)\n",
            "Requirement already satisfied: tensorboard<2.19,>=2.18 in /usr/local/lib/python3.11/dist-packages (from tensorflow<3,>=2.13.0->tensorflowjs) (2.18.0)\n",
            "Requirement already satisfied: keras>=3.5.0 in /usr/local/lib/python3.11/dist-packages (from tensorflow<3,>=2.13.0->tensorflowjs) (3.8.0)\n",
            "Requirement already satisfied: h5py>=3.11.0 in /usr/local/lib/python3.11/dist-packages (from tensorflow<3,>=2.13.0->tensorflowjs) (3.13.0)\n",
            "Requirement already satisfied: tensorflow-io-gcs-filesystem>=0.23.1 in /usr/local/lib/python3.11/dist-packages (from tensorflow<3,>=2.13.0->tensorflowjs) (0.37.1)\n",
            "Requirement already satisfied: pandas in /usr/local/lib/python3.11/dist-packages (from tensorflow-decision-forests>=1.5.0->tensorflowjs) (2.2.2)\n",
            "Requirement already satisfied: wheel in /usr/local/lib/python3.11/dist-packages (from tensorflow-decision-forests>=1.5.0->tensorflowjs) (0.45.1)\n",
            "Requirement already satisfied: wurlitzer in /usr/local/lib/python3.11/dist-packages (from tensorflow-decision-forests>=1.5.0->tensorflowjs) (3.1.1)\n",
            "Requirement already satisfied: ydf in /usr/local/lib/python3.11/dist-packages (from tensorflow-decision-forests>=1.5.0->tensorflowjs) (0.12.0)\n",
            "Requirement already satisfied: namex in /usr/local/lib/python3.11/dist-packages (from keras>=3.5.0->tensorflow<3,>=2.13.0->tensorflowjs) (0.0.9)\n",
            "Requirement already satisfied: optree in /usr/local/lib/python3.11/dist-packages (from keras>=3.5.0->tensorflow<3,>=2.13.0->tensorflowjs) (0.15.0)\n",
            "Requirement already satisfied: charset-normalizer<4,>=2 in /usr/local/lib/python3.11/dist-packages (from requests<3,>=2.21.0->tensorflow<3,>=2.13.0->tensorflowjs) (3.4.2)\n",
            "Requirement already satisfied: idna<4,>=2.5 in /usr/local/lib/python3.11/dist-packages (from requests<3,>=2.21.0->tensorflow<3,>=2.13.0->tensorflowjs) (3.10)\n",
            "Requirement already satisfied: urllib3<3,>=1.21.1 in /usr/local/lib/python3.11/dist-packages (from requests<3,>=2.21.0->tensorflow<3,>=2.13.0->tensorflowjs) (2.4.0)\n",
            "Requirement already satisfied: certifi>=2017.4.17 in /usr/local/lib/python3.11/dist-packages (from requests<3,>=2.21.0->tensorflow<3,>=2.13.0->tensorflowjs) (2025.4.26)\n",
            "Requirement already satisfied: markdown-it-py>=2.2.0 in /usr/local/lib/python3.11/dist-packages (from rich>=11.1->flax>=0.7.2->tensorflowjs) (3.0.0)\n",
            "Requirement already satisfied: pygments<3.0.0,>=2.13.0 in /usr/local/lib/python3.11/dist-packages (from rich>=11.1->flax>=0.7.2->tensorflowjs) (2.19.1)\n",
            "Requirement already satisfied: markdown>=2.6.8 in /usr/local/lib/python3.11/dist-packages (from tensorboard<2.19,>=2.18->tensorflow<3,>=2.13.0->tensorflowjs) (3.8)\n",
            "Requirement already satisfied: tensorboard-data-server<0.8.0,>=0.7.0 in /usr/local/lib/python3.11/dist-packages (from tensorboard<2.19,>=2.18->tensorflow<3,>=2.13.0->tensorflowjs) (0.7.2)\n",
            "Requirement already satisfied: werkzeug>=1.0.1 in /usr/local/lib/python3.11/dist-packages (from tensorboard<2.19,>=2.18->tensorflow<3,>=2.13.0->tensorflowjs) (3.1.3)\n",
            "Requirement already satisfied: chex>=0.1.87 in /usr/local/lib/python3.11/dist-packages (from optax->flax>=0.7.2->tensorflowjs) (0.1.89)\n",
            "Requirement already satisfied: etils[epy] in /usr/local/lib/python3.11/dist-packages (from optax->flax>=0.7.2->tensorflowjs) (1.12.2)\n",
            "Requirement already satisfied: nest_asyncio in /usr/local/lib/python3.11/dist-packages (from orbax-checkpoint->flax>=0.7.2->tensorflowjs) (1.6.0)\n",
            "Requirement already satisfied: humanize in /usr/local/lib/python3.11/dist-packages (from orbax-checkpoint->flax>=0.7.2->tensorflowjs) (4.12.3)\n",
            "Requirement already satisfied: simplejson>=3.16.0 in /usr/local/lib/python3.11/dist-packages (from orbax-checkpoint->flax>=0.7.2->tensorflowjs) (3.20.1)\n",
            "Requirement already satisfied: python-dateutil>=2.8.2 in /usr/local/lib/python3.11/dist-packages (from pandas->tensorflow-decision-forests>=1.5.0->tensorflowjs) (2.9.0.post0)\n",
            "Requirement already satisfied: pytz>=2020.1 in /usr/local/lib/python3.11/dist-packages (from pandas->tensorflow-decision-forests>=1.5.0->tensorflowjs) (2025.2)\n",
            "Requirement already satisfied: tzdata>=2022.7 in /usr/local/lib/python3.11/dist-packages (from pandas->tensorflow-decision-forests>=1.5.0->tensorflowjs) (2025.2)\n",
            "Requirement already satisfied: toolz>=0.9.0 in /usr/local/lib/python3.11/dist-packages (from chex>=0.1.87->optax->flax>=0.7.2->tensorflowjs) (0.12.1)\n",
            "Requirement already satisfied: mdurl~=0.1 in /usr/local/lib/python3.11/dist-packages (from markdown-it-py>=2.2.0->rich>=11.1->flax>=0.7.2->tensorflowjs) (0.1.2)\n",
            "Requirement already satisfied: MarkupSafe>=2.1.1 in /usr/local/lib/python3.11/dist-packages (from werkzeug>=1.0.1->tensorboard<2.19,>=2.18->tensorflow<3,>=2.13.0->tensorflowjs) (3.0.2)\n",
            "Requirement already satisfied: fsspec in /usr/local/lib/python3.11/dist-packages (from etils[epath,epy]->orbax-checkpoint->flax>=0.7.2->tensorflowjs) (2025.3.2)\n",
            "Requirement already satisfied: zipp in /usr/local/lib/python3.11/dist-packages (from etils[epath,epy]->orbax-checkpoint->flax>=0.7.2->tensorflowjs) (3.21.0)\n",
            "Downloading tensorflowjs-4.22.0-py3-none-any.whl (89 kB)\n",
            "\u001b[2K   \u001b[90m━━━━━━━━━━━━━━━━━━━━━━━━━━━━━━━━━━━━━━━━\u001b[0m \u001b[32m89.1/89.1 kB\u001b[0m \u001b[31m5.2 MB/s\u001b[0m eta \u001b[36m0:00:00\u001b[0m\n",
            "\u001b[?25hDownloading packaging-23.2-py3-none-any.whl (53 kB)\n",
            "\u001b[2K   \u001b[90m━━━━━━━━━━━━━━━━━━━━━━━━━━━━━━━━━━━━━━━━\u001b[0m \u001b[32m53.0/53.0 kB\u001b[0m \u001b[31m3.1 MB/s\u001b[0m eta \u001b[36m0:00:00\u001b[0m\n",
            "\u001b[?25hInstalling collected packages: packaging, tensorflowjs\n",
            "  Attempting uninstall: packaging\n",
            "    Found existing installation: packaging 24.2\n",
            "    Uninstalling packaging-24.2:\n",
            "      Successfully uninstalled packaging-24.2\n",
            "\u001b[31mERROR: pip's dependency resolver does not currently take into account all the packages that are installed. This behaviour is the source of the following dependency conflicts.\n",
            "google-cloud-bigquery 3.33.0 requires packaging>=24.2.0, but you have packaging 23.2 which is incompatible.\n",
            "db-dtypes 1.4.3 requires packaging>=24.2.0, but you have packaging 23.2 which is incompatible.\u001b[0m\u001b[31m\n",
            "\u001b[0mSuccessfully installed packaging-23.2 tensorflowjs-4.22.0\n"
          ]
        }
      ]
    },
    {
      "cell_type": "code",
      "source": [
        "!tensorflowjs_converter --input_format=keras my_model.h5 tfjs_model/"
      ],
      "metadata": {
        "colab": {
          "base_uri": "https://localhost:8080/"
        },
        "id": "eYuNnyZfYED4",
        "outputId": "1fb0be47-47b4-4d70-b013-9862150c53e1"
      },
      "execution_count": 47,
      "outputs": [
        {
          "output_type": "stream",
          "name": "stdout",
          "text": [
            "2025-05-30 03:37:37.436624: E external/local_xla/xla/stream_executor/cuda/cuda_fft.cc:477] Unable to register cuFFT factory: Attempting to register factory for plugin cuFFT when one has already been registered\n",
            "WARNING: All log messages before absl::InitializeLog() is called are written to STDERR\n",
            "E0000 00:00:1748576257.462865    1214 cuda_dnn.cc:8310] Unable to register cuDNN factory: Attempting to register factory for plugin cuDNN when one has already been registered\n",
            "E0000 00:00:1748576257.469987    1214 cuda_blas.cc:1418] Unable to register cuBLAS factory: Attempting to register factory for plugin cuBLAS when one has already been registered\n",
            "\u001b[32m🌲 Try \u001b[0m\u001b[34mhttps://ydf.readthedocs.io\u001b[0m\u001b[32m, the successor of TensorFlow Decision Forests with more features and faster training!\u001b[0m\n",
            "failed to lookup keras version from the file,\n",
            "    this is likely a weight only file\n"
          ]
        }
      ]
    },
    {
      "cell_type": "markdown",
      "source": [
        "Perintah diatas digunakan untuk mengonversi model Keras (my_model.h5) ke format TensorFlow.js agar bisa digunakan di aplikasi web dengan TensorFlow.js."
      ],
      "metadata": {
        "id": "llVtRxK5QoFb"
      }
    },
    {
      "cell_type": "code",
      "source": [
        "!zip -r tfjs.zip tfjs_model/\n",
        "files.download('tfjs.zip')"
      ],
      "metadata": {
        "colab": {
          "base_uri": "https://localhost:8080/",
          "height": 69
        },
        "id": "rdh6C9mf41os",
        "outputId": "e79be422-2d59-4338-ff25-8565b118a761"
      },
      "execution_count": 48,
      "outputs": [
        {
          "output_type": "stream",
          "name": "stdout",
          "text": [
            "  adding: tfjs_model/ (stored 0%)\n",
            "  adding: tfjs_model/group1-shard1of1.bin (deflated 7%)\n",
            "  adding: tfjs_model/model.json (deflated 79%)\n"
          ]
        },
        {
          "output_type": "display_data",
          "data": {
            "text/plain": [
              "<IPython.core.display.Javascript object>"
            ],
            "application/javascript": [
              "\n",
              "    async function download(id, filename, size) {\n",
              "      if (!google.colab.kernel.accessAllowed) {\n",
              "        return;\n",
              "      }\n",
              "      const div = document.createElement('div');\n",
              "      const label = document.createElement('label');\n",
              "      label.textContent = `Downloading \"${filename}\": `;\n",
              "      div.appendChild(label);\n",
              "      const progress = document.createElement('progress');\n",
              "      progress.max = size;\n",
              "      div.appendChild(progress);\n",
              "      document.body.appendChild(div);\n",
              "\n",
              "      const buffers = [];\n",
              "      let downloaded = 0;\n",
              "\n",
              "      const channel = await google.colab.kernel.comms.open(id);\n",
              "      // Send a message to notify the kernel that we're ready.\n",
              "      channel.send({})\n",
              "\n",
              "      for await (const message of channel.messages) {\n",
              "        // Send a message to notify the kernel that we're ready.\n",
              "        channel.send({})\n",
              "        if (message.buffers) {\n",
              "          for (const buffer of message.buffers) {\n",
              "            buffers.push(buffer);\n",
              "            downloaded += buffer.byteLength;\n",
              "            progress.value = downloaded;\n",
              "          }\n",
              "        }\n",
              "      }\n",
              "      const blob = new Blob(buffers, {type: 'application/binary'});\n",
              "      const a = document.createElement('a');\n",
              "      a.href = window.URL.createObjectURL(blob);\n",
              "      a.download = filename;\n",
              "      div.appendChild(a);\n",
              "      a.click();\n",
              "      div.remove();\n",
              "    }\n",
              "  "
            ]
          },
          "metadata": {}
        },
        {
          "output_type": "display_data",
          "data": {
            "text/plain": [
              "<IPython.core.display.Javascript object>"
            ],
            "application/javascript": [
              "download(\"download_41f4c93a-b7d6-4b0a-8389-5446a84819cb\", \"tfjs.zip\", 10368)"
            ]
          },
          "metadata": {}
        }
      ]
    },
    {
      "cell_type": "markdown",
      "source": [
        "Tahapan tersebut mengompres folder tfjs_model yang berisi model TensorFlow.js menjadi file tfjs.zip, lalu memulai proses pengunduhan file zip tersebut ke komputer. Dengan cara ini, model yang sudah dikonversi dapat dengan mudah disimpan atau dipindahkan untuk digunakan di proyek web."
      ],
      "metadata": {
        "id": "1SfIxWp0QwBQ"
      }
    }
  ]
}